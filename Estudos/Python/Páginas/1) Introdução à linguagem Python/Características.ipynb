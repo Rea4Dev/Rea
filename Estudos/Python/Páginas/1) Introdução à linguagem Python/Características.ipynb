{
 "cells": [
  {
   "attachments": {},
   "cell_type": "markdown",
   "metadata": {},
   "source": [
    "# <h1 style=\"text-align: center; color: #C82F4B; font-weight: 700;\">Características</h1>"
   ]
  },
  {
   "attachments": {},
   "cell_type": "markdown",
   "metadata": {},
   "source": [
    "- É uma linguagem <span style=\"color: #6890C3;\">orientada a objetos</span>, ou seja, tudo é objeto (por isso ao usarmos type() os tipos de dados aparecem com <class ' '>).\n",
    "x = 3\n",
    "print(type(x))\n",
    "\n",
    "- Utiliza uma sintaxe elegante, facilitando a leitura dos programas.\n",
    "- Fácil de usar, ideal para desenvolvimento de protótipos e outras tarefas de programação ad-hoc, sem comprometer a manutenção.\n",
    "- Vem com uma grande biblioteca padrão que suporta muitas tarefas comuns de programação, como se conectar a servidores da Web, pesquisar texto com expressões regulares, ler e modificar arquivos.\n",
    "- Possui inúmeras bibliotecas que estender seu poder de atuação.\n",
    "- É uma <span style=\"color: #6890C3;\">linguagem interpretada</span>, ou seja, uma vez escrito o código, este não precisa ser convertido em linguagem de máquina por um processo de compilação.\n",
    "- Permite atribuição múltipla. Podemos atribuir valores a mais de uma variável em uma única instrução, como:\n",
    "x, y = 2, 4\n",
    "print(x)\n",
    "print(y)\n",
    "\n",
    "- Usa da identação como forma de definição de blocos de código (em C isso era indiferente, por exemplo).\n",
    "- Tipagem dinâmica (não precisa definir o tipo antes) e forte (não realiza conversão de tipos automaticamente, podendo gerar erros em situações onde você esquece de converter).\n",
    "- O interpretador Python 3 utiliza <span style=\"color: #6890C3;\">unicode</span> por padrão, mas evite acentuações e caracteres especiais, por motivos de boa prática.\n",
    "- Um código que segue as regras do idioma Python é chamado de pythonic code.\n",
    "Caso queira as regras, referência e outras informações oficiais, veja o <span style=\"color: #6890C3;\">PEP8</span> ou a <span style=\"color: #6890C3;\">documentação iniciante</span>. Menção honrosa também ao \"<span style=\"color: #6890C3; \">The Zen of Python</span>\".\n",
    "<p style=\"\">"
   ]
  }
 ],
 "metadata": {
  "language_info": {
   "name": "python"
  },
  "orig_nbformat": 4
 },
 "nbformat": 4,
 "nbformat_minor": 2
}

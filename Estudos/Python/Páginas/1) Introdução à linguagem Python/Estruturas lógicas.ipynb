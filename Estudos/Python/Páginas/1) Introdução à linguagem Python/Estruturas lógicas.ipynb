{
 "cells": [
  {
   "attachments": {},
   "cell_type": "markdown",
   "metadata": {},
   "source": [
    "# <h1 style=\"text-align: center; color: #C82F4B; font-weight: 700;\">Estruturas lógicas</h1>"
   ]
  },
  {
   "cell_type": "markdown",
   "metadata": {},
   "source": [
    "<p style=\"text-align:center;\"><span style=\"color: #6890C3;\">not</span> primeiro, <span style=\"color: #6890C3;\">and</span> em seguida e <span style=\"color: #6890C3;\">or</span> por último.</p>"
   ]
  },
  {
   "cell_type": "markdown",
   "metadata": {},
   "source": [
    "#### <h4 style=\"text-align: center; color: #C82F4B; font-weight: 700;\">And</h4>"
   ]
  },
  {
   "cell_type": "code",
   "execution_count": null,
   "metadata": {},
   "outputs": [],
   "source": [
    "qtde_faltas = int(input(\"Digite a quantidade de faltas: \"))\n",
    "\n",
    "media_final = float(input(\"Digite a média final: \"))\n",
    "\n",
    "\n",
    "if qtde_faltas <= 5 and media_final >= 7:\n",
    "\n",
    "    print(\"Aluno aprovado!\")\n",
    "\n",
    "else:\n",
    "\n",
    "    print(\"Aluno reprovado!\")\n"
   ]
  },
  {
   "attachments": {},
   "cell_type": "markdown",
   "metadata": {},
   "source": [
    "#### <h4 style=\"text-align: center; color: #C82F4B; font-weight: 700;\">Or</h4>"
   ]
  },
  {
   "cell_type": "code",
   "execution_count": null,
   "metadata": {},
   "outputs": [],
   "source": [
    "A = 15\n",
    "\n",
    "B = 9\n",
    "\n",
    "C = 9\n",
    "\n",
    "\n",
    "print(B == C or A < B and A < C)\n",
    "\n",
    "print((B == C or A < B) and A < C)\n"
   ]
  }
 ],
 "metadata": {
  "language_info": {
   "name": "python"
  },
  "orig_nbformat": 4
 },
 "nbformat": 4,
 "nbformat_minor": 2
}

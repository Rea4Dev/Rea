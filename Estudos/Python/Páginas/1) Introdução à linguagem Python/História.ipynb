{
 "cells": [
  {
   "attachments": {},
   "cell_type": "markdown",
   "metadata": {},
   "source": [
    "# <h1 style=\"text-align: center; color: #C82F4B; font-weight: 700;\">História</h1>"
   ]
  },
  {
   "attachments": {},
   "cell_type": "markdown",
   "metadata": {},
   "source": [
    "<p  style=\"text-align: center;\">Podemos separar o resumo da história do Python em quatro tópicos:</p>\n",
    "<p style=\"text-align:center;\"><span style=\"color:#C82F4B;\">1</span>. O objetivo era ser o <span style=\"color: #6890C3;\">sucessor</span> de uma linguagem chamada ABC.<br>\n",
    "<span style=\"color:#C82F4B;\">2.</span> Criado no início dos anos <span style=\"color: #6890C3;\">90 em CWI na Holanda</span>, por <span style=\"color: #6890C3;\">Guido van Rossum</span> (apesar de principal autor, houve muitas contribuições de outros pesquisadores).<br>\n",
    "<span style=\"color:#C82F4B;\">3.</span> Em 95 Guido foi a CNRI na Virgínia, em <span style=\"color: #6890C3;\">2000 na BeOpen</span> onde formou a <span style=\"color: #6890C3;\">BeOpen PythonLabs</span> (no mesmo ano, a equipe do PythonLabs mudou para a <span style=\"color: #6890C3;\">Digital Creations</span>, agora <span style=\"color: #6890C3;\">Zope Corporation</span>).<br>\n",
    "<span style=\"color:#C82F4B;\">4.</span> Em <span style=\"color: #6890C3;\">2001</span> foi formada a <span style=\"color: #6890C3;\">PSF</span> (<span style=\"color: #6890C3;\">Python Software Foundation</span>), uma organização sem fins lucrativos, criada especificamente para possuir a propriedade intelectual relacionada ao Python.</p>"
   ]
  }
 ],
 "metadata": {
  "language_info": {
   "name": "python"
  },
  "orig_nbformat": 4
 },
 "nbformat": 4,
 "nbformat_minor": 2
}

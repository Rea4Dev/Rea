{
 "cells": [
  {
   "attachments": {},
   "cell_type": "markdown",
   "metadata": {},
   "source": [
    "# <h1 style=\"text-align: center; color: #C82F4B; font-weight: 700;\">Funções</h1>"
   ]
  },
  {
   "cell_type": "markdown",
   "metadata": {},
   "source": [
    "#### <h4 id=\"funcoes\" style=\"text-align: center; color: #C82F4B; font-weight: 700;\">Funções Built-in</h4>"
   ]
  },
  {
   "cell_type": "markdown",
   "metadata": {},
   "source": [
    "<p style=\"text-align:center;\">Uma função built-in é um objeto que está integrado ao núcleo do interpretador, ou seja, <span style=\"color: #6890C3;\">não precisa ser feita nenhuma instalação adicional</span>, já está <span style=\"color: #6890C3;\">pronto para uso</span>.</p>"
   ]
  },
  {
   "cell_type": "markdown",
   "metadata": {},
   "source": [
    "<style>\n",
    "*{\n",
    "    margin-left:auto; \n",
    "    margin-right:auto;\n",
    "}\n",
    "</style>\n",
    "\n",
    "| sintaxe | explicação |\n",
    "|------|-------|\n",
    "| abs() | Retorna o valor absoluto (módulo) de um número.    |\n",
    "| all() | Retorna True se todos os elementos em um iterável são verdadeiros ou se o iterável estiver vazio.    |\n",
    "| any() |Retorna True se pelo menos um elemento em um iterável for verdadeiro.|\n",
    "| ascii() |Retorna uma string contendo uma representação imprimível de um objeto, mas com caracteres não-ASCII escapados.|\n",
    "| bin() |Converte um número inteiro em uma string binária.|\n",
    "| bool() |Retorna o valor booleano de um objeto.|\n",
    "| breakpoint() |Causa a interrupção do código para fins de depuração.|\n",
    "| bytearray() |Retorna um objeto bytearray, que é uma sequência mutável de inteiros no intervalo 0 <= x < 256.|\n",
    "| bytes() |\tRetorna um objeto bytes, que é uma sequência imutável de inteiros no intervalo 0 <= x < 256.|\n",
    "| callable() |Retorna True se o objeto for \"chamável\", ou seja, se ele puder ser chamado como uma função.|\n",
    "| chr() |Retorna uma string representando um caractere Unicode cujo ponto de código é o inteiro passado como argumento.|\n",
    "| classmethod() |Transforma um método de uma classe em um método de classe.|\n",
    "| compile() |Compila o código-fonte em um objeto código ou retorna o código já compilado a partir de um objeto código anterior.|\n",
    "| complex() |Retorna um número complexo com o valor real + imag * 1j ou converte uma string ou número em um número complexo.|\n",
    "| delattr() |Deleta um atributo de um objeto, se possível.|\n",
    "| dict() |Retorna um dicionário (um mapeamento de chaves exclusivas para valores).|\n",
    "| dir() |Retorna uma lista de nomes de atributos e métodos válidos para o objeto fornecido.|\n",
    "| divmod() |Retorna o par (x // y, x % y).|\n",
    "| enumerate() |Retorna um objeto de enumeração, que consiste em pares (índice, valor) para cada valor em um iterável.|\n",
    "| eval() |(Perigosa!) Avalia uma string como expressão Python e retorna o resultado.|\n",
    "| exec() |Executa código Python dinamicamente.|\n",
    "| filter() |Retorna um iterador contendo os elementos do iterável para os quais a função de filtro retorna True.|\n",
    "| float() |Retorna um número de ponto flutuante construído a partir de um número ou string.|\n",
    "| format() |Formata um valor de acordo com um formato especificado em uma string de formatação.|\n",
    "| frozenset() |Retorna um novo conjunto imutável, contendo elementos únicos do iterável fornecido ou um conjunto vazio se nenhum iterável for fornecido.|\n",
    "| getattr() |Retorna o valor de um atributo de um objeto.|\n",
    "| globals() |Retorna um dicionário que representa o espaço de nomes global atual.|\n",
    "| hasattr() |Retorna True se um objeto tiver um determinado atributo.|\n",
    "| hash() |Retorna o valor hash de um objeto (um número inteiro).|\n",
    "| help() |Abre o sistema de ajuda interativo do Python.|\n",
    "| hex() |Converte um número inteiro em uma string hexadecimal.|\n",
    "| index() |Retorna o índice da primeira ocorrência.|\n",
    "| id() |Retorna o identificador único de um objeto.|\n",
    "| input() |Lê uma linha de entrada do usuário a partir do console e retorna uma string.|\n",
    "| int() | Converte um número ou string para um inteiro.|\n",
    "| isinstance() |Converte um número ou string para um inteiro.|\n",
    "| issubclass() |Verifica se uma classe é uma subclasse de outra.|\n",
    "| iter() |Retorna um iterador para um objeto.|\n",
    "| len() |Retorna o comprimento de um objeto.|\n",
    "| list() |Converte um objeto em uma lista.|\n",
    "| locals() |\tRetorna um dicionário com as variáveis locais atuais.|\n",
    "| map() |Aplica uma função a cada item de um objeto iterável.|\n",
    "| max() |\tRetorna o valor máximo de um objeto iterável ou argumentos.|\n",
    "| memoryview() |\tRetorna uma visão de memória de um objeto.|\n",
    "| min() |\tRetorna o valor mínimo de um objeto iterável ou argumentos.|\n",
    "| next() |\tRetorna o próximo item de um iterador.|\n",
    "| object() |Cria uma nova instância de objeto.|\n",
    "| oct() |Converte um inteiro em uma string octal.|\n",
    "| open() |Abre um arquivo e retorna um objeto arquivo.|\n",
    "| ord() |Retorna o valor inteiro do caractere Unicode.|\n",
    "| pow() |Retorna a potência de um número.|\n",
    "| print() |Imprime um objeto na saída padrão.|\n",
    "| property() |Cria uma propriedade para uma classe.|\n",
    "| range() |Cria uma sequência de números inteiros.|\n",
    "| repr() |Retorna a representação de string de um objeto.|\n",
    "| reversed() |Retorna uma sequência reversa de um objeto iterável.|\n",
    "| round() |Retorna um número arredondado.|\n",
    "| set() |Cria um objeto set.|\n",
    "| setattr() |Define o valor de um atributo de um objeto.|\n",
    "| slice() |Cria um objeto de fatia para acessar um subconjunto de uma sequência.|\n",
    "| sorted() |Não altera a lista original e faz a ordenação em uma nova lista.|\n",
    "| sort() |Faz a ordenação na lista original com retorno None.|\n",
    "| staticmethod() |\tTransforma um método em um método estático.|\n",
    "| str() |Converte um objeto para uma string.|\n",
    "| sum() |Retorna a soma de um objeto iterável.|\n",
    "| super() |Retorna um objeto proxy da classe pai.|\n",
    "| tuple() |Converte um objeto em uma tupla.|\n",
    "| type() |Retorna o tipo de um objeto ou cria uma nova classe.|\n",
    "| vars() |Retorna o dicionário de atributos de um objeto.|\n",
    "| zip() |Cria uma lista de tuplas, onde cada tupla contém um item de cada objeto iterável.|\n",
    "| import() |Importa um módulo.|\n"
   ]
  },
  {
   "attachments": {},
   "cell_type": "markdown",
   "metadata": {},
   "source": [
    "#### <h4 style=\"text-align: center; color: #C82F4B; font-weight: 700;\">Funções definida pelo usuário</h4>"
   ]
  },
  {
   "cell_type": "code",
   "execution_count": null,
   "metadata": {},
   "outputs": [],
   "source": [
    "def imprimir_mensagem(disciplina, curso):\n",
    "\n",
    "    return f\"Função em Python desenvolvida na disciplina: {disciplina}, do curso: {curso}.\"\n",
    "\n",
    "\n",
    "resultado = imprimir_mensagem(\"Python\", \"Engenharia de Software\")\n",
    "print(resultado)\n"
   ]
  }
 ],
 "metadata": {
  "language_info": {
   "name": "python"
  },
  "orig_nbformat": 4
 },
 "nbformat": 4,
 "nbformat_minor": 2
}

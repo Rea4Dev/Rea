{
 "cells": [
  {
   "attachments": {},
   "cell_type": "markdown",
   "metadata": {},
   "source": [
    "# <h1 style=\"text-align: center; color: #C82F4B; font-weight: 700;\">Operações</h1>"
   ]
  },
  {
   "attachments": {},
   "cell_type": "markdown",
   "metadata": {},
   "source": [
    "<p style=\"text-align: center;\">Eis aqui as operações em Python que precisam ser destacadas:</p>\n",
    "<span style=\"color: #6890C3;\">Quociente</span> de x e y:\n",
    "x, y = 4, 2\n",
    "print(x/y)\n",
    "\n",
    "<span style=\"color: #6890C3;\">Parte inteira</span> do quociente de x e y:\n",
    "x, y = 4, 2\n",
    "print(x//y)\n",
    "\n",
    "<span style=\"color: #6890C3;\">Resto</span> de x e y:\n",
    "x, y = 4, 2\n",
    "print(x % y)\n",
    "\n",
    "Valor absoluto de x (<span style=\"color: #6890C3;\">módulo</span>):\n",
    "x = -4\n",
    "print(abs(x))\n",
    "\n",
    "<span style=\"color: #6890C3;\">Exponenciação</span>, x elevado a y:\n",
    "x, y = 4, 2\n",
    "print(pow(x, y))\n",
    "print(x**y)\n",
    "\n",
    "<p style=\"\">Como pode perceber, neste último, <span style=\"color: #6890C3;\">há duas formas</span> de fazer a exponenciação.</p>"
   ]
  }
 ],
 "metadata": {
  "language_info": {
   "name": "python"
  },
  "orig_nbformat": 4
 },
 "nbformat": 4,
 "nbformat_minor": 2
}

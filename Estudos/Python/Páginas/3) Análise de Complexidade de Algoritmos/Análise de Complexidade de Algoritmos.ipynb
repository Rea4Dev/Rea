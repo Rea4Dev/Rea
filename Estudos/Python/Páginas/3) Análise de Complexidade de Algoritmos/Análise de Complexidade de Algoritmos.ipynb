{
 "cells": [
  {
   "cell_type": "markdown",
   "metadata": {},
   "source": [
    "## <h2 style=\"text-align: center; color: #C82F4B; font-weight: 700; border-top: solid #c82f4b20 5px;\">Análise de Complexidade de Algoritmos</h2>"
   ]
  },
  {
   "cell_type": "markdown",
   "metadata": {},
   "source": [
    "<p style=\"text-align:center;\">Programas exigem <span style=\"color: #6890C3;\">recursos</span> de nosso computador, sendo assim, precisamos <span style=\"color: #6890C3;\">gerencia-los</span>.<br>A quantidade de recursos demandado por um programa é chamado de <span style=\"color: #6890C3;\">Complexidade</span></p><p style=\"text-align:center;\">Esses recursos são: <span style=\"color: #6890C3;\">processamento</span>(tempo) e <span style=\"color: #6890C3;\">memória</span>(espaço) .<br></p><p style=\"text-align:center;\"><br>Por hora, <span style=\"color: #6890C3;\">Analisar a Complexidade de um Algoritmo</span> é <span style=\"color: #6890C3;\">analisar como aumenta o tempo de execução </span><span style=\"color: #6890C3;\">a medida que o tamanho do problema cresce</span>.</p>"
   ]
  },
  {
   "cell_type": "markdown",
   "metadata": {},
   "source": [
    "### <h3 style=\"text-align: center; color: #C82F4B; font-weight: 700;\">Comparação de algoritmos</h3>"
   ]
  },
  {
   "cell_type": "markdown",
   "metadata": {},
   "source": [
    "<p style=\"text-align:center;\">Quando pensamos em comparar algoritmos, a primeira coisa que vem à mente é o <span style=\"color: #6890C3;\">benchmark</span>.<br>Fazemos uma <span style=\"color: #6890C3;\">serie de medições</span> da <span style=\"color: #6890C3;\">execução da implementação do algoritmo</span> com <span style=\"color: #6890C3;\">entradas de tamanho distintos</span> e construímos um gráfico.<br>Executamos o mesmo processo para um outro algoritmo e comparamos a execução dos dois.<br><br>O problema dessa abordagem é que os dois algoritmos <span style=\"color: #6890C3;\">tem que executar exatamente sobre as mesmas condições</span>(hardware, linguagem, compilador e etc), qualquer alteração nessas condições pode alterar significativamente os resultados. Só que essas condições nem sempre são facilmente repicláveis.<br>Por essas <span style=\"color: #6890C3;\">limitações de condições, benchmark raramente é utilizado para comparação de algoritmos</span>.</p>"
   ]
  },
  {
   "cell_type": "markdown",
   "metadata": {},
   "source": [
    "<img src=\"../../Jupyter/Img/Imagens de Conteúdos/Tempo.png\" alt=\"descrição da imagem\" width=\"900\" style=\"display: block; margin-left: auto; margin-right: auto;\">\n"
   ]
  },
  {
   "cell_type": "markdown",
   "metadata": {},
   "source": [
    "### <h3 style=\"text-align: center; color: #C82F4B; font-weight: 700;\">Otimização</h3>"
   ]
  }
 ],
 "metadata": {
  "language_info": {
   "name": "python"
  },
  "orig_nbformat": 4
 },
 "nbformat": 4,
 "nbformat_minor": 2
}

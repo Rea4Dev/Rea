{
 "cells": [
  {
   "cell_type": "markdown",
   "metadata": {},
   "source": [
    "#### <h4 style=\"text-align: center; color: #C82F4B; font-weight: 700;\">Algoritmos de busca</h4>"
   ]
  },
  {
   "cell_type": "markdown",
   "metadata": {},
   "source": [
    "<p style=\"text-align:center;\">Enquanto estudava acabei querendo testar desenvolver um programa que <span style=\"color: #6890C3;\">gera listas randômicas</span> e faz uma verificação se nelas tem o número <span style=\"color: #6890C3;\">10</span> e onde tem pelo <span style=\"color: #6890C3;\">índice</span> (<span style=\"color: #6890C3;\">onde originalmente tinha</span> e <span style=\"color: #6890C3;\">onde terá já arrumado</span> em ordem numérica). O software também informa <span style=\"color: #6890C3;\">quantas iterações precisou fazer</span> para chegar em uma lista que tivesse o número 10.</p>"
   ]
  },
  {
   "cell_type": "code",
   "execution_count": null,
   "metadata": {},
   "outputs": [
    {
     "name": "stdout",
     "output_type": "stream",
     "text": [
      "[4, 10, 26, 32, 37, 45, 104, 131, 142, 155, 168, 182, 209, 227, 230, 256, 282, 291, 293, 299, 353, 382, 394, 428, 447, 509, 514, 554, 560, 561, 576, 581, 589, 598, 600, 603, 635, 665, 674, 702, 718, 720, 734, 762, 790, 800, 835, 844, 948, 964]\n",
      "Possui, originalmente como index ---> 48\n",
      "Mas, agora que organizado, em ---> 1\n",
      "Foi necessário 68 iterações para gerar uma lista que tivesse.\n"
     ]
    }
   ],
   "source": [
    "def executar_busca_linear(lista, valor):\n",
    "\n",
    "    for elemento in lista:\n",
    "\n",
    "        if valor == elemento:\n",
    "\n",
    "            return True\n",
    "\n",
    "    return False\n",
    "\n",
    "\n",
    "import random\n",
    "\n",
    "lista = random.sample(range(1000), 50) #criamos uma lista de 50 valores com números inteiros randômicos que variam entre 0 e 1000\n",
    "\n",
    "resultado = executar_busca_linear(lista, 10) \n",
    "\n",
    "i = 0\n",
    "while resultado == False:\n",
    "    i = i + 1\n",
    "    executar_busca_linear(lista, 10)\n",
    "    lista = random.sample(range(1000), 50)\n",
    "    resultado = executar_busca_linear(lista, 10) \n",
    "\n",
    "if resultado == True:\n",
    "    print(sorted(lista))\n",
    "    print(f\"Possui, originalmente como index ---> {lista.index(10)}\")\n",
    "    lista = sorted(lista)\n",
    "    print(f\"Mas, agora que organizado, em ---> {lista.index(10)}\")\n",
    "    print(f\"Foi necessário {i} iterações para gerar uma lista que tivesse.\")\n",
    "else:\n",
    "    print(\"Não tem.\")"
   ]
  },
  {
   "cell_type": "markdown",
   "metadata": {},
   "source": [
    "##### <h5 style=\"text-align: center; color: #C82F4B; font-weight: 700;background-color: #892be20c;\">Mostrando posição e valor em listas com \"for in\"</h5>"
   ]
  },
  {
   "cell_type": "code",
   "execution_count": null,
   "metadata": {},
   "outputs": [
    {
     "name": "stdout",
     "output_type": "stream",
     "text": [
      "Tipo do objeto vogais = <class 'tuple'>\n",
      "Posição = 0, valor = a\n",
      "Posição = 1, valor = e\n",
      "Posição = 2, valor = i\n",
      "Posição = 3, valor = o\n",
      "Posição = 4, valor = u\n"
     ]
    }
   ],
   "source": [
    "vogais = ('a', 'e', 'i', 'o', 'u')\n",
    "\n",
    "\n",
    "for p, x in enumerate(vogais):\n",
    "\n",
    "    print(f\"Posição = {p}, valor = {x}\")\n"
   ]
  },
  {
   "cell_type": "markdown",
   "metadata": {},
   "source": [
    "<p style=\" border-bottom:solid #c82f4b40 5px;\">"
   ]
  }
 ],
 "metadata": {
  "language_info": {
   "name": "python"
  },
  "orig_nbformat": 4
 },
 "nbformat": 4,
 "nbformat_minor": 2
}

{
 "cells": [
  {
   "cell_type": "markdown",
   "metadata": {},
   "source": [
    "#### <h4 style=\"text-align: center; color: #C82F4B; font-weight: 700;\">Listas</h4>"
   ]
  },
  {
   "cell_type": "markdown",
   "metadata": {},
   "source": [
    "##### <h5 style=\"text-align: center; color: #C82F4B; font-weight: 700;background-color: #892be20c;\">Mostrando posição e valor em listas com \"for in\"</h5>"
   ]
  },
  {
   "cell_type": "markdown",
   "metadata": {},
   "source": [
    "<p style=\"text-align:center;\">Estes programas, a cada <span style=\"color: #6890C3;\">iteração do for</span>, mostram a <span style=\"color: #6890C3;\">posição e o valor</span> naquela posição, tudo isso <span style=\"color: #6890C3;\">relativo a uma lista</span>.</p>"
   ]
  },
  {
   "cell_type": "code",
   "execution_count": null,
   "metadata": {},
   "outputs": [
    {
     "name": "stdout",
     "output_type": "stream",
     "text": [
      "Posição = 0, valor = a\n",
      "Posição = 1, valor = e\n",
      "Posição = 2, valor = i\n",
      "Posição = 3, valor = o\n",
      "Posição = 4, valor = u\n"
     ]
    }
   ],
   "source": [
    "vogais = ['a', 'e', 'i', 'o', 'u']\n",
    "\n",
    "\n",
    "for vogal in vogais:\n",
    "\n",
    "    # vogal vira o elemento dentro da lista vogais, e vai progredindo a cada iteração.\n",
    "    print(f'Posição = {vogais.index(vogal)}, valor = {vogal}')\n"
   ]
  },
  {
   "cell_type": "markdown",
   "metadata": {},
   "source": [
    "Substituímos o contador manual (\"p\") pela função <span style=\"color: #6890C3;\">enumerate()</span>, que é usada para percorrer um objeto iterável retornando a posição e o valor. Por isso, na estrutura de repetição <span style=\"color: #6890C3;\">precisamos usar as variáves p e x</span>. A primeira guarda a posição e a segunda guarda o valor. Usamos o nome x propositalmente para que você perceba que o nome da variável é de livre escolha."
   ]
  },
  {
   "cell_type": "code",
   "execution_count": null,
   "metadata": {},
   "outputs": [
    {
     "name": "stdout",
     "output_type": "stream",
     "text": [
      "Tipo do objeto vogais = <class 'list'>\n",
      "Posição = 0, valor = a\n",
      "Posição = 1, valor = e\n",
      "Posição = 2, valor = i\n",
      "Posição = 3, valor = o\n",
      "Posição = 4, valor = u\n"
     ]
    }
   ],
   "source": [
    "\n",
    "vogais = []\n",
    "\n",
    "print(f\"Tipo do objeto vogais = {type(vogais)}\")\n",
    "\n",
    "\n",
    "vogais.append('a')\n",
    "\n",
    "vogais.append('e')\n",
    "\n",
    "vogais.append('i')\n",
    "\n",
    "vogais.append('o')\n",
    "\n",
    "vogais.append('u')\n",
    "\n",
    "\n",
    "for p, x in enumerate(vogais):\n",
    "\n",
    "    print(f\"Posição = {p}, valor = {x}\")\n"
   ]
  },
  {
   "cell_type": "markdown",
   "metadata": {},
   "source": [
    "<p style=\" border-bottom:solid #c82f4b40 5px;\">"
   ]
  },
  {
   "cell_type": "markdown",
   "metadata": {},
   "source": [
    "##### <h5 style=\"text-align: center; color: #C82F4B; font-weight: 700;background-color: #892be20c;\">Mostrando algumas impressões interessantes em listas</h5>"
   ]
  },
  {
   "cell_type": "code",
   "execution_count": null,
   "metadata": {},
   "outputs": [],
   "source": [
    "frutas = [\"maça\", \"banana\", \"uva\", \"mamão\", \"maça\"]\n",
    "\n",
    "notas = [8.7, 5.2, 10, 3.5]\n",
    "\n",
    "\n",
    "print(\"maça\" in frutas)  # True\n",
    "\n",
    "print(\"abacate\" in frutas)  # False\n",
    "\n",
    "print(\"abacate\" not in frutas)  # True\n",
    "\n",
    "print(min(frutas))  # banana\n",
    "\n",
    "print(max(notas))  # 10\n",
    "\n",
    "print(frutas.count(\"maça\"))  # 2\n",
    "\n",
    "print(frutas.count(\"Maça\"))  # 0\n",
    "\n",
    "print(frutas + notas)\n",
    "\n",
    "print(2 * frutas)\n"
   ]
  },
  {
   "cell_type": "markdown",
   "metadata": {},
   "source": [
    "<p style=\" border-bottom:solid #c82f4b40 5px;\">"
   ]
  },
  {
   "cell_type": "markdown",
   "metadata": {},
   "source": [
    "##### <h5 style=\"text-align: center; color: #C82F4B; font-weight: 700;background-color: #892be20c;\">Testando algumas operações reservadas a sequência com listas</h5>"
   ]
  },
  {
   "cell_type": "code",
   "execution_count": null,
   "metadata": {},
   "outputs": [],
   "source": [
    "lista = ['Python', 30.61, \"Java\", 51, ['a', 'b', 20], \"maça\"]\n",
    "\n",
    "\n",
    "print(f\"Tamanho da lista = {len(lista)}\")  # 6\n",
    "\n",
    "\n",
    "for i, item in enumerate(lista):\n",
    "\n",
    "    print(\n",
    "        f\"Posição = {i},\\t valor = {item} -----------------> tipo individual = {type(item)}\")\n",
    "\n",
    "\n",
    "print(\"\\nExemplos de slices:\\n\")\n",
    "\n",
    "\n",
    "print(\"lista[1] = \", lista[1])\n",
    "\n",
    "print(\"lista[0:2] = \", lista[0:2])\n",
    "\n",
    "print(\"lista[:2] = \", lista[:2])\n",
    "\n",
    "print(\"lista[3:5] = \", lista[3:5])\n",
    "\n",
    "print(\"lista[3:6] = \", lista[3:6])\n",
    "\n",
    "print(\"lista[3:] = \", lista[3:])\n",
    "\n",
    "print(\"lista[-2] = \", lista[-2])\n",
    "\n",
    "print(\"lista[-1] = \", lista[-1])\n",
    "\n",
    "print(\"lista[4][1] = \", lista[4][1])\n"
   ]
  },
  {
   "cell_type": "markdown",
   "metadata": {},
   "source": [
    "<p style=\" border-bottom:solid #c82f4b40 5px;\">"
   ]
  }
 ],
 "metadata": {
  "language_info": {
   "name": "python"
  },
  "orig_nbformat": 4
 },
 "nbformat": 4,
 "nbformat_minor": 2
}

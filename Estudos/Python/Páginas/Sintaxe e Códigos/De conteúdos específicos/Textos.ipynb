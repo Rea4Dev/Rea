{
 "cells": [
  {
   "cell_type": "markdown",
   "metadata": {},
   "source": [
    "#### <h4 style=\"text-align: center; color: #C82F4B; font-weight: 700;\">Textos</h4>"
   ]
  },
  {
   "cell_type": "markdown",
   "metadata": {},
   "source": [
    "##### <h5 style=\"text-align: center; color: #C82F4B; font-weight: 700;background-color: #892be20c;\">Mostrando quantas vezes uma palavra aparece em um texto</h5>"
   ]
  },
  {
   "cell_type": "markdown",
   "metadata": {},
   "source": [
    "<p style=\"text-align:center;\">Este programa mostra quantas vezes apareceu a palavra <span style=\"color: #6890C3;\">\"string\"</span> no objeto <span style=\"color: #6890C3;\">\"texto\"</span>.</p>"
   ]
  },
  {
   "cell_type": "code",
   "execution_count": null,
   "metadata": {},
   "outputs": [],
   "source": [
    "texto = \"\"\"Operadores de String\n",
    "\n",
    "Python oferece operadores para processar texto (ou seja, valores de string).\n",
    "\n",
    "Assim como os números, as strings podem ser comparadas usando operadores de comparação:\n",
    "\n",
    "==, !=, <, > e assim por diante.\n",
    "\n",
    "O operador ==, por exemplo, retorna True se as strings nos dois lados do operador tiverem o mesmo valor (Perkovic, p. 23, 2016).\n",
    "\n",
    "\"\"\"\n",
    "\n",
    "print(f\"Tamanho do texto = {len(texto)}\")\n",
    "texto = texto.lower()\n",
    "\n",
    "\n",
    "texto = texto.replace(\",\", \"\").replace(\".\", \"\").replace(\n",
    "    \"(\", \"\").replace(\")\", \"\").replace(\"\\n\", \" \")\n",
    "lista_palavras = texto.split()\n",
    "\n",
    "\n",
    "print(f\"Tamanho da lista de palavras = {len(lista_palavras)}\")\n",
    "\n",
    "\n",
    "total = lista_palavras.count(\"string\") + lista_palavras.count(\"strings\")\n",
    "print(f\"Quantidade de vezes que string ou strings aparecem = {total}\")\n"
   ]
  },
  {
   "cell_type": "markdown",
   "metadata": {},
   "source": [
    "<p style=\" border-bottom:solid #c82f4b40 5px;\">"
   ]
  }
 ],
 "metadata": {
  "language_info": {
   "name": "python"
  },
  "orig_nbformat": 4
 },
 "nbformat": 4,
 "nbformat_minor": 2
}

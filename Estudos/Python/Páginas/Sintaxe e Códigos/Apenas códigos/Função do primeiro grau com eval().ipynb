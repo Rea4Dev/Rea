{
 "cells": [
  {
   "cell_type": "markdown",
   "metadata": {},
   "source": [
    "#### <h4 style=\"text-align: center; color: #C82F4B; font-weight: 700;background-color: #892be20c;  border-bottom:solid #c82f4b40 5px;\">Função do primeiro grau com <a style=\"text-decoration: underline; color: #C82F4B\" href=\"#funcoes\">eval()</a></h4>"
   ]
  },
  {
   "cell_type": "markdown",
   "metadata": {},
   "source": [
    "<p style=\"text-align:center;\">A função eval() usada no código <span style=\"color: #6890C3;\">recebe como entrada uma string</span> (sequência de caracteres) digitada pelo usuário, que nesse caso é uma equação linear. Essa entrada é <span style=\"color: #6890C3;\">analisada e avaliada como uma expressão Python</span> pela função:</p>"
   ]
  },
  {
   "cell_type": "code",
   "execution_count": null,
   "metadata": {},
   "outputs": [
    {
     "name": "stdout",
     "output_type": "stream",
     "text": [
      "\n",
      "A entrada do usuário 2*x+4 é do tipo <class 'str'>\n",
      "\n",
      "Resultado da equação para x = 0 é 4\n",
      "\n",
      "Resultado da equação para x = 1 é 6\n",
      "\n",
      "Resultado da equação para x = 2 é 8\n",
      "\n",
      "Resultado da equação para x = 3 é 10\n",
      "\n",
      "Resultado da equação para x = 4 é 12\n"
     ]
    }
   ],
   "source": [
    "equacao = input(\"Digite a fórmula geral da equação linear (a * x + b): \")\n",
    "\n",
    "print(f\"\\nA entrada do usuário {equacao} é do tipo {type(equacao)}\")\n",
    "\n",
    "\n",
    "for x in range(5):\n",
    "\n",
    "    y = eval(equacao)\n",
    "\n",
    "    print(f\"\\nResultado da equação para x = {x} é {y}\")\n"
   ]
  },
  {
   "cell_type": "markdown",
   "metadata": {},
   "source": [
    "Entretanto, precisamos ressaltar que eval é uma instrução que requer prudência para o uso, pois é fácil alguém externo à aplicação fazer uma \"injection\" de código intruso."
   ]
  },
  {
   "cell_type": "markdown",
   "metadata": {},
   "source": [
    "<p style=\" border-bottom:solid #c82f4b40 5px;\">"
   ]
  }
 ],
 "metadata": {
  "language_info": {
   "name": "python"
  },
  "orig_nbformat": 4
 },
 "nbformat": 4,
 "nbformat_minor": 2
}

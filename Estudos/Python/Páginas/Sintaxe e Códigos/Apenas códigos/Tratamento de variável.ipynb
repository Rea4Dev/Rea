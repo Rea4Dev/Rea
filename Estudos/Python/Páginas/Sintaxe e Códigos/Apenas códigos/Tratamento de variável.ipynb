{
 "cells": [
  {
   "cell_type": "markdown",
   "metadata": {},
   "source": [
    "#### <h4 style=\"text-align: center; color: #C82F4B; font-weight: 700;background-color: #892be20c;\">Tratamento de variável</h4>"
   ]
  },
  {
   "cell_type": "markdown",
   "metadata": {},
   "source": [
    "<p style=\"text-align: center;\"><span style=\"color: #6890C3;\">Para explicar este tópico</span>, quis desenvolver um exemplo de programa que te informa o f(x) do x dado na função dada.</p><p style=\"text-align: center;\">Este programa tem <span style=\"color: #6890C3;\">diversos pontos de melhoria</span>, como a falta do uso de funções, vetores, estruturas de repetição, demonstração em gráfico, parte front e até mesmo solucionadores, mas a intenção deste software é apenas destacar na prática a importância de tratar variáveis quanto temos input(), que transforma em string aquilo que iremos querer que se comporte como número.</p>"
   ]
  },
  {
   "cell_type": "code",
   "execution_count": null,
   "metadata": {},
   "outputs": [
    {
     "name": "stdout",
     "output_type": "stream",
     "text": [
      "O tipo era <class 'str'>\n",
      "Agora virou <class 'float'>\n",
      "f(2.0)=8.0\n"
     ]
    }
   ],
   "source": [
    "# \"a\" atribuído, mas está em str.\n",
    "a = input(\"Digite o valor do coeficiente a: \")\n",
    "print(f\"O tipo era {type(a)}\")\n",
    "\n",
    "a = float(a)  # agora que tratado, está em float.\n",
    "print(f\"Agora virou {type(a)}\")\n",
    "\n",
    "b = input(\"Digite o valor do coeficiente b: \")\n",
    "b = float(b)\n",
    "c = input(\"Digite o valor do termo idependente c: \")\n",
    "c = float(c)\n",
    "x = input(\"Digite o valor de x: \")\n",
    "x = float(x)\n",
    "y = a*x**2+b*x+c\n",
    "print(f\"f({x})={y}\")\n"
   ]
  },
  {
   "cell_type": "markdown",
   "metadata": {},
   "source": [
    "<p style=\" border-bottom:solid #c82f4b40 5px;\">"
   ]
  },
  {
   "cell_type": "markdown",
   "metadata": {},
   "source": [
    "<p style=\"text-align:center;\">Este foi um exemplo prático, pois, caso não fosse tratada as variáveis, o código apresentaria um erro \"<span style=\"color: #6890C3;\">TypeError</span>\" ao ser executado.</p>"
   ]
  }
 ],
 "metadata": {
  "language_info": {
   "name": "python"
  },
  "orig_nbformat": 4
 },
 "nbformat": 4,
 "nbformat_minor": 2
}

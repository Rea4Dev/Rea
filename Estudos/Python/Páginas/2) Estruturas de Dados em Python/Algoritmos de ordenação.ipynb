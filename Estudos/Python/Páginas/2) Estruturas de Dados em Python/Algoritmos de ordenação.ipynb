{
 "cells": [
  {
   "attachments": {},
   "cell_type": "markdown",
   "metadata": {},
   "source": [
    "### <h3 style=\"text-align: center; color: #C82F4B; font-weight: 700;\">Algoritmos de ordenação</h3>"
   ]
  },
  {
   "cell_type": "markdown",
   "metadata": {},
   "source": [
    "#### <h4 style=\"text-align: center; color: #C82F4B; font-weight: 700;\">Apresentação</h4>"
   ]
  },
  {
   "cell_type": "markdown",
   "metadata": {},
   "source": [
    "<p style=\"text-align:center;\">Quase todos os dados são <span style=\"color:#6990C3\">mais úteis quando estão ordenados</span>.<br>Além de ser útil trabalhar com dados ordenados, estudar essa classe de algoritmos <span style=\"color:#6990C3;\">permite explorar várias técnicas de programação</span>, tais como a <span style=\"color:#6990C3;\">recursão</span> e o <span style=\"color:#6990C3;\">problema de dividir para conquistar</span><br><br>São <span style=\"color:#6990C3;\">inúmeras as aplicações que envolvem a necessidade de dados ordenados</span>. Podemos começar mencionando o algoritmo de <span style=\"color:#6990C3;\">busca binária</span>, que exige que os dados estejam ordenados.<br>Eis um exemplo prático de ordenação:</p>"
   ]
  },
  {
   "cell_type": "code",
   "execution_count": null,
   "metadata": {},
   "outputs": [
    {
     "name": "stdout",
     "output_type": "stream",
     "text": [
      "lista1 =  [10, 4, 1, 15, -3]\n",
      "lista2 =  [1, 2, 3, 4, 5] \n",
      "\n",
      "lista_ordenada1 =  [-3, 1, 4, 10, 15]\n",
      "lista_ordenada2 =  None\n"
     ]
    }
   ],
   "source": [
    "lista1 = [10, 4, 1, 15, -3]\n",
    "lista2 = [3, 5, 1, 2, 4]\n",
    " \n",
    "\n",
    "lista_ordenada1 = sorted(lista1) #Não altera a lista original e faz a ordenação em uma nova lista; \n",
    "\n",
    "lista_ordenada2 = lista2.sort() #Não altera a lista original e faz a ordenação em uma nova lista; \n",
    "\n",
    " \n",
    "\n",
    "print('lista1 = ', lista1,)\n",
    "\n",
    "print('lista2 = ', lista2,'\\n')\n",
    "\n",
    "print('lista_ordenada1 = ', lista_ordenada1)\n",
    "\n",
    "print('lista_ordenada2 = ', lista_ordenada2)\n",
    "\n",
    "\n",
    "\n"
   ]
  },
  {
   "cell_type": "markdown",
   "metadata": {},
   "source": [
    "<p style=\"text-align:center;\">Entretanto, ao usar a operação <span style=\"color: #6890C3;\">\"sort\"</span> e <span style=\"color: #6890C3;\">\"sorted\"</span> usada para ordenar, estamos sendo \"usuários\" de um algoritmo que alguém escreveu e \"encapsulou\" neles. No entanto, como profissionais de tecnologia, <span style=\"color: #6890C3;\">precisamos saber o que está por trás do comando</span> e sermos capazes de fazermos nós mesmos.</p>"
   ]
  },
  {
   "cell_type": "markdown",
   "metadata": {},
   "source": [
    "<p style=\"text-align:center;\">A essência dos algoritmos de ordenação consiste em <span style=\"color:#6990C3;\">comparar dois valores</span>, verificar <span style=\"color:#6990C3;\">qual é menor e colocar na posição correta</span>. O que vai <span style=\"color:#6990C3;\">mudar, neste caso, é como e quando a comparação é feita</span>.</p>"
   ]
  },
  {
   "cell_type": "code",
   "execution_count": null,
   "metadata": {},
   "outputs": [],
   "source": [
    "lista = [7, 4]\n",
    "\n",
    " \n",
    "\n",
    "if lista[0] > lista[1]:\n",
    "\n",
    "    aux = lista[1]\n",
    "\n",
    "    lista[1] = lista[0]\n",
    "\n",
    "    lista[0] = aux\n",
    "\n",
    " \n",
    "\n",
    "print(lista)"
   ]
  },
  {
   "cell_type": "markdown",
   "metadata": {},
   "source": [
    "<p style=\"text-align:center;\">A sintaxe adotada para fazer a troca no código da entrada 2 funciona para qualquer linguagem de programação. No entanto, como você já deve ter notado, <span style=\"color: #6890C3;\">em Python há \"mágicas\"</span>. Podemos fazer a troca usando a <span style=\"color: #6890C3;\">atribuição múltipla</span>. Nesse caso, a atribuição é <span style=\"color: #6890C3;\">feita de maneira posicional</span>: o primeiro valor após o sinal de igualdade vai para a primeira variável, e assim por diante. Veja, a seguir, o mesmo exemplo, agora com uma notação <span style=\"color: #6890C3;\">pythônica</span>.</p>"
   ]
  },
  {
   "cell_type": "code",
   "execution_count": null,
   "metadata": {},
   "outputs": [],
   "source": [
    "lista = [5, -1]\n",
    "\n",
    " \n",
    "\n",
    "if lista[0] > lista[1]:\n",
    "\n",
    "    lista[0], lista[1] = lista[1], lista[0]\n",
    "\n",
    " \n",
    "\n",
    "print(lista)"
   ]
  },
  {
   "cell_type": "markdown",
   "metadata": {},
   "source": [
    "<p style=\"text-align:center;\">Pois bem, <span style=\"color: #6890C3;\">ordenar significa comparar e escolher o menor</span>. Fizemos isso para uma lista com dois valores. E se tivéssemos três deles, como faríamos a comparação e ordenação? <span style=\"color: #6890C3;\">É justamente esse \"como\" que dá origem aos diversos algoritmos de ordenação</span>. Para nosso estudo, vamos dividir os algoritmos nestes dois grupos, de acordo com a complexidade:<br><br>\n",
    "\n",
    "<span style=\"color: #6890C3;\">Complexidade O(N2)</span>: Neste grupo estão os algoritmos <span style=\"color: #6890C3;\">selection sort</span>, <span style=\"color: #6890C3;\">bubble sort</span> e <span style=\"color: #6890C3;\">insertion sort</span>. Esses algoritmos são <span style=\"color: #6890C3;\">lentos para ordenação de grandes listas</span>, porém são mais intuitivos de entender e possuem uma codificação mais simples.<br>\n",
    "<span style=\"color: #6890C3;\">Complexidade O(N log N)</span>: Deste grupo, vamos estudar os algoritmos <span style=\"color: #6890C3;\">merge sort</span> e <span style=\"color: #6890C3;\">quick sort</span>. Tais algoritmos possuem <span style=\"color: #6890C3;\">performance superior</span>, porém são um pouco <span style=\"color: #6890C3;\">mais complexos de serem implementados</span>.<p>"
   ]
  },
  {
   "cell_type": "markdown",
   "metadata": {},
   "source": [
    "#### <h4 style=\"text-align: center; color: #C82F4B; font-weight: 700;\">Complexidade O(N2)</h4>"
   ]
  },
  {
   "cell_type": "markdown",
   "metadata": {},
   "source": [
    "<p style=\"text-align:center;\">Esses algoritmos são <span style=\"color: #6890C3;\">lentos para ordenação de grandes listas</span>, porém são mais <span style=\"color: #6890C3;\">intuitivos de entender</span> e possuem uma <span style=\"color: #6890C3;\">codificação mais simples</span>.</p>"
   ]
  },
  {
   "cell_type": "markdown",
   "metadata": {},
   "source": [
    "##### <h5 style=\"text-align: center; color: #C82F4B; font-weight: 700;\">Selection Sort (ordenação por seleção)</h5>"
   ]
  },
  {
   "cell_type": "markdown",
   "metadata": {},
   "source": [
    "<p style=\"text-align:center;\">Faz a ordenação sempre escolhendo o <span style=\"color: #6890C3;\">menor valor</span> para <span style=\"color: #6890C3;\">ocupar os primeiros lugares da lista</span>.<br>Para uma lista de tamanho N, esse processo é feito <span style=\"color: #6890C3;\">N-1</span> vezes.</p>"
   ]
  },
  {
   "cell_type": "code",
   "execution_count": null,
   "metadata": {},
   "outputs": [
    {
     "data": {
      "text/plain": [
       "[-1, 3, 5, 8, 9, 10, 11]"
      ]
     },
     "metadata": {},
     "output_type": "display_data"
    }
   ],
   "source": [
    "def executar_selection_sort(lista):\n",
    "    \n",
    "    for i in range(0, len(lista)):\n",
    "\n",
    "        index_menor = i\n",
    "\n",
    "        for j in range(i+1, len(lista)):\n",
    "\n",
    "            if lista[j] < lista[index_menor]:\n",
    "\n",
    "                index_menor = j\n",
    "\n",
    "        lista[i], lista[index_menor] = lista[index_menor], lista[i]\n",
    "\n",
    "    return lista\n",
    "\n",
    "lista = [10, 9, 5, 8, 11, -1, 3]\n",
    "\n",
    "executar_selection_sort(lista)"
   ]
  },
  {
   "cell_type": "markdown",
   "metadata": {},
   "source": [
    "<p style=\"text-align:center;\">Eis uma forma alternativa de se fazer (mas cuidado, tem limitações)</p>"
   ]
  },
  {
   "cell_type": "code",
   "execution_count": null,
   "metadata": {},
   "outputs": [
    {
     "name": "stdout",
     "output_type": "stream",
     "text": [
      "A nova ficou: [-1, 3, 5, 8, 9, 10, 11]\n",
      "\n",
      "Porém a antiga ficou: []\n"
     ]
    }
   ],
   "source": [
    "def executar_selection_sort_2(lista):\n",
    "\n",
    "    lista_ordenada = []\n",
    "\n",
    "    while lista:\n",
    "\n",
    "        minimo = min(lista)\n",
    "\n",
    "        lista_ordenada.append(minimo)\n",
    "\n",
    "        lista.remove(minimo)\n",
    "\n",
    "    return lista_ordenada\n",
    "\n",
    " \n",
    "\n",
    " \n",
    "\n",
    "lista = [10, 9, 5, 8, 11, -1, 3]\n",
    "\n",
    "resultado = executar_selection_sort_2(lista)\n",
    "print(f\"A nova ficou: {resultado}\\n\")\n",
    "print(f\"Porém a antiga ficou: {lista}\")"
   ]
  },
  {
   "cell_type": "markdown",
   "metadata": {},
   "source": [
    "<p style=\"text-align:center;\">Mas observe que a lista original foi modificada, inclusive, modificada ao ponto de ficar vazia.</p>"
   ]
  },
  {
   "cell_type": "markdown",
   "metadata": {},
   "source": [
    "##### <h5 style=\"text-align: center; color: #C82F4B; font-weight: 700;\">Bubble sort (ordenação por \"bolha\")</h5>"
   ]
  },
  {
   "cell_type": "markdown",
   "metadata": {},
   "source": [
    "<p style=\"text-align:center;\">Recebe esse nome porque <span style=\"color: #6890C3;\">faz a ordenação sempre a partir do início da lista</span>, <span style=\"color: #6890C3;\">comparando um valor com seu vizinho</span>.<br>Se for menor, há troca; se não for, seleciona o próximo e compara, repentindo o processo.</p>"
   ]
  },
  {
   "cell_type": "code",
   "execution_count": null,
   "metadata": {},
   "outputs": [
    {
     "data": {
      "text/plain": [
       "[-1, 3, 5, 8, 9, 10, 11]"
      ]
     },
     "metadata": {},
     "output_type": "display_data"
    }
   ],
   "source": [
    "def executar_bubble_sort(lista):\n",
    "\n",
    "    for i in range(len(lista) - 1):\n",
    "\n",
    "        for j in range(len(lista) -1):\n",
    "\n",
    "            if lista[j] > lista[j + 1]:\n",
    "\n",
    "                lista[j], lista[j + 1] = lista[j + 1], lista[j]\n",
    "\n",
    "    return lista\n",
    "\n",
    " \n",
    "\n",
    "lista = [10, 9, 5, 8, 11, -1, 3]\n",
    "\n",
    "executar_bubble_sort(lista)"
   ]
  },
  {
   "cell_type": "markdown",
   "metadata": {},
   "source": [
    "##### <h5 style=\"text-align: center; color: #C82F4B; font-weight: 700;\">Insertion sort (ordenação por inserção)</h5>"
   ]
  },
  {
   "cell_type": "markdown",
   "metadata": {},
   "source": [
    "<p style=\"text-align:center;\">Recebe esse nome porque, partindo do princípio que <span style=\"color: #6890C3;\">a lista possui um único valor</span>, <span style=\"color: #6890C3;\">faz a ordenação pela simulação da inserção de novos valores na lista</span>.<br>Um novo valor precisa ser inserido na lista; nesse caso, ele é comparado com todos os valores já existentes (desde o início) para saber se precisam ser feitas trocas de posição.</p>"
   ]
  },
  {
   "cell_type": "code",
   "execution_count": null,
   "metadata": {},
   "outputs": [],
   "source": [
    "def executar_insertion_sort(lista):\n",
    "\n",
    "    for i in range(1, len(lista)):\n",
    "        valor_inserir = lista[i] \n",
    "        j = i - 1\n",
    "\n",
    "        while j >= 0 and lista[j] > valor_inserir:\n",
    "            lista[j + 1] = lista[j]\n",
    "            j -= 1\n",
    "\n",
    "        lista[j + 1] = valor_inserir\n",
    "\n",
    "    \n",
    "\n",
    "    return lista\n",
    "\n",
    " \n",
    "\n",
    " \n",
    "\n",
    "lista = [10, 9, 5, 8, 11, -1, 3]\n",
    "\n",
    "executar_insertion_sort(lista)"
   ]
  },
  {
   "cell_type": "markdown",
   "metadata": {},
   "source": [
    "#### <h4 style=\"text-align: center; color: #C82F4B; font-weight: 700;\">Complexidade O(N log N)</h4>"
   ]
  },
  {
   "cell_type": "markdown",
   "metadata": {},
   "source": [
    "<p style=\"text-align:center;\">Tais algoritmos possuem <span style=\"color: #6890C3;\">performance superior</span>, porém são um pouco <span style=\"color: #6890C3;\">mais complexos de serem implementados</span>.</p>"
   ]
  },
  {
   "cell_type": "markdown",
   "metadata": {},
   "source": [
    "##### <h5 style=\"text-align: center; color: #C82F4B; font-weight: 700;\">Merge Sort</h5>"
   ]
  },
  {
   "cell_type": "markdown",
   "metadata": {},
   "source": [
    "<p style=\"text-align:center;\">Recebe esse nome porque faz a ordenação em duas etapa:<br>1- <span style=\"color: #6890C3;\">Divide</span> a lista em <span style=\"color: #6890C3;\">sublistas</span>;<br>2- <span style=\"color: #6890C3;\">Junta</span> (merge) as sublistas <span style=\"color: #6890C3;\">já ordenadas</span>.<br>Esse algoritmo é conhecido por usar a estratégia <span style=\"color: #6890C3;\">\"dividir para conquistar\"</span></p>"
   ]
  },
  {
   "cell_type": "code",
   "execution_count": null,
   "metadata": {},
   "outputs": [],
   "source": [
    "def executar_merge_sort(lista):\n",
    "\n",
    "    if len(lista) <= 1: return lista\n",
    "\n",
    "    else:\n",
    "\n",
    "        meio = len(lista) // 2\n",
    "\n",
    "        esquerda = executar_merge_sort(lista[:meio])\n",
    "\n",
    "        direita = executar_merge_sort(lista[meio:])\n",
    "\n",
    "        return executar_merge(esquerda, direita)\n",
    "\n",
    " \n",
    "\n",
    "    \n",
    "\n",
    "def executar_merge(esquerda, direita):\n",
    "\n",
    "    sub_lista_ordenada = []\n",
    "\n",
    "    topo_esquerda, topo_direita = 0, 0\n",
    "\n",
    "    while topo_esquerda < len(esquerda) and topo_direita < len(direita):\n",
    "\n",
    "        if esquerda[topo_esquerda] <= direita[topo_direita]:\n",
    "\n",
    "            sub_lista_ordenada.append(esquerda[topo_esquerda])\n",
    "\n",
    "            topo_esquerda += 1\n",
    "\n",
    "        else:\n",
    "\n",
    "            sub_lista_ordenada.append(direita[topo_direita])\n",
    "\n",
    "            topo_direita += 1\n",
    "\n",
    "    sub_lista_ordenada += esquerda[topo_esquerda:]\n",
    "\n",
    "    sub_lista_ordenada += direita[topo_direita:]\n",
    "\n",
    "    return sub_lista_ordenada\n",
    "\n",
    " \n",
    "\n",
    " \n",
    "\n",
    "lista = [10, 9, 5, 8, 11, -1, 3]\n",
    "\n",
    "executar_merge_sort(lista)"
   ]
  },
  {
   "cell_type": "markdown",
   "metadata": {},
   "source": [
    "##### <h5 style=\"text-align: center; color: #C82F4B; font-weight: 700;\">Quicksort</h5>"
   ]
  }
 ],
 "metadata": {
  "language_info": {
   "name": "python"
  },
  "orig_nbformat": 4
 },
 "nbformat": 4,
 "nbformat_minor": 2
}

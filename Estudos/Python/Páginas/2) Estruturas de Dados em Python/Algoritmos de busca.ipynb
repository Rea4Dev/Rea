{
 "cells": [
  {
   "cell_type": "markdown",
   "metadata": {},
   "source": [
    "### <h3 style=\"text-align: center; color: #C82F4B; font-weight: 700;\">Algoritmos de busca</h3>"
   ]
  },
  {
   "cell_type": "markdown",
   "metadata": {},
   "source": [
    "<p style=\"text-align:center;\">Em Python, temos a operação <span style=\"color: #6890C3;\">\"in\"</span> ou \"not in\" usada para verificar se um valor está em uma sequência. Entretanto, <span style=\"color: #6890C3;\">quando utilizamos esses comandos, estamos sendo \"usuários\"</span> de um algoritmo que alguém escreveu e \"encapsulou\" neles. No entanto, como profissionais de tecnologia, <span style=\"color: #6890C3;\">precisamos saber o que está por trás do comando</span> e sermos capazes de fazermos nós mesmos.</p>"
   ]
  },
  {
   "cell_type": "markdown",
   "metadata": {},
   "source": [
    "#### <h4 style=\"text-align: center; color: #C82F4B; font-weight: 700;\">Busca linear (ou sequencial)</h4>"
   ]
  },
  {
   "cell_type": "markdown",
   "metadata": {},
   "source": [
    "<p style=\"text-align:center;\">Uma busca linear (ou exaustiva) simplesmente percorre todos os elementos da sequência procurando aquele de destino, <span style=\"color: #6890C3;\">o que pode ser muito custoso computacionalmente</span>.</p>"
   ]
  },
  {
   "cell_type": "markdown",
   "metadata": {},
   "source": [
    "<p style=\"text-align:center;\">Para implementar a busca linear, vamos precisar de uma <span style=\"color: #6890C3;\">estrutura de repetição</span> (for) para percorrer a sequência, e uma <span style=\"color: #6890C3;\">estrutura de decisão</span> (if) para verificar se o valor em uma determinada posição é o que procuramos.</p>"
   ]
  },
  {
   "cell_type": "code",
   "execution_count": null,
   "metadata": {},
   "outputs": [
    {
     "name": "stdout",
     "output_type": "stream",
     "text": [
      "[7, 9, 11, 51, 81, 94, 126, 140, 144, 159, 167, 186, 208, 242, 249, 257, 270, 282, 291, 302, 318, 320, 390, 413, 467, 471, 472, 488, 492, 501, 536, 544, 551, 577, 579, 607, 625, 665, 678, 686, 747, 760, 809, 870, 919, 936, 943, 946, 954, 959]\n"
     ]
    },
    {
     "data": {
      "text/plain": [
       "False"
      ]
     },
     "metadata": {},
     "output_type": "display_data"
    }
   ],
   "source": [
    "def executar_busca_linear(lista, valor):\n",
    "\n",
    "    for elemento in lista:\n",
    "\n",
    "        if valor == elemento:\n",
    "\n",
    "            return True\n",
    "\n",
    "    return False\n",
    "\n",
    "import random\n",
    "\n",
    " \n",
    "\n",
    "lista = random.sample(range(1000), 50)\n",
    "\n",
    "print(sorted(lista))\n",
    "\n",
    "executar_busca_linear(lista, 10)"
   ]
  },
  {
   "cell_type": "markdown",
   "metadata": {},
   "source": [
    "Antes de partirmos para o segundo código, veja como funciona a função index()."
   ]
  },
  {
   "cell_type": "code",
   "execution_count": null,
   "metadata": {},
   "outputs": [
    {
     "name": "stdout",
     "output_type": "stream",
     "text": [
      "1\n"
     ]
    }
   ],
   "source": [
    "vogais = 'aeiou'\n",
    "\n",
    "\n",
    "resultado = vogais.index('e')\n",
    "\n",
    "print(resultado)"
   ]
  },
  {
   "cell_type": "code",
   "execution_count": null,
   "metadata": {},
   "outputs": [
    {
     "name": "stdout",
     "output_type": "stream",
     "text": [
      "Valor encontrado na posição 3\n"
     ]
    }
   ],
   "source": [
    "def procurar_valor(lista, valor):\n",
    "\n",
    "    tamanho_lista = len(lista)\n",
    "\n",
    "    for i in range(tamanho_lista):\n",
    "\n",
    "        if valor == lista[i]:\n",
    "\n",
    "            return i\n",
    "\n",
    "    return None\n",
    "\n",
    " \n",
    "vogais = 'aeiou'\n",
    "\n",
    "\n",
    "indice_resultado = procurar_valor(lista=vogais, valor='o')\n",
    "\n",
    "\n",
    "if indice_resultado != None:\n",
    "\n",
    "    print(f\"Valor encontrado na posição {indice_resultado}\")\n",
    "\n",
    "else:\n",
    "\n",
    "    print(\"Valor não encontrado\")"
   ]
  },
  {
   "cell_type": "markdown",
   "metadata": {},
   "source": [
    "#### <h4 style=\"text-align: center; color: #C82F4B; font-weight: 700;\">Busca binária</h4>"
   ]
  },
  {
   "cell_type": "markdown",
   "metadata": {},
   "source": [
    "<p style=\"text-align:center; color: grey\">A busca binária possui complexidade O(log2 N). Isso significa que, para valores grandes de N (listas grandes), o desempenho desse algoritmo é melhor se comparado à busca sequencial, que tem complexidade O(N).</p>\n",
    "<img src=\"../Jupyter/Img/Imagens de Conteúdos/Busca Binária.png\" alt=\"descrição da imagem\" width=\"600\" style=\"display: block; margin-left: auto; margin-right: auto;\">\n",
    "<p style=\"text-align:center;\">Os valores <span style=\"color:#6890C3\">precisar estar ordenados</span>. A lógica é a seguinte:<br><br><span style=\"color:#C82F4B\">1.</span> Encontra o item no meio da sequencia (meio da lista)<br><span style=\"color:#C82F4B\">2.</span> Se o valor procurado for igual ao item do meio, a busca se encerra.<br><span style=\"color:#C82F4B\">3.</span> Se não for, verifica-se se o valor buscado é maior ou menor que o valor central.<br><span style=\"color:#C82F4B\">4.</span> Se for maior, então a busca acontecerá na metade superior da sequência(descartando a inferior); se não for, então o inverso ocorre.</p>"
   ]
  },
  {
   "cell_type": "code",
   "execution_count": null,
   "metadata": {},
   "outputs": [
    {
     "name": "stdout",
     "output_type": "stream",
     "text": [
      "[1, 2, 3, 4, 5, 6, 7, 8, 9, 10, 11, 12, 13, 14, 15, 16, 17, 18, 19, 20, 21, 22, 23, 24, 25, 26, 27, 28, 29, 30, 31, 32, 33, 34, 35, 36, 37, 38, 39, 40, 41, 42, 43, 44, 45, 46, 47, 48, 49]\n",
      "\n",
      " O índice da posição do valor é: 9\n",
      "\n",
      " Valor encontrado an posição 1\n"
     ]
    }
   ],
   "source": [
    "def executar_busca_binaria(lista, valor):\n",
    "\n",
    "    minimo = 0\n",
    "\n",
    "    maximo = len(lista) - 1 #len retorna o comprimento \n",
    "\n",
    "    while minimo <= maximo:\n",
    "\n",
    "        # Encontra o elemento que divide a lista ao meio\n",
    "\n",
    "        meio = (minimo + maximo) // 2 #média aritmética\n",
    "\n",
    "        # Verifica se o valor procurado está a esquerda ou direita do valor central\n",
    "\n",
    "        if valor < lista[meio]:\n",
    "\n",
    "            maximo = meio - 1\n",
    "\n",
    "        elif valor > lista[meio]:\n",
    "\n",
    "            minimo = meio + 1\n",
    "\n",
    "        else:\n",
    "\n",
    "            return meio  # Se o valor for encontrado para aqu, e meio terá o índice da posição\n",
    "\n",
    "    return None # Se chegar até aqui, significa que o valor não foi encontrado\n",
    "\n",
    "\n",
    "\n",
    "\n",
    "\n",
    "lista = list(range(1, 50))\n",
    "print(lista)\n",
    "print('\\n O índice da posição do valor é:',executar_busca_binaria(lista=lista, valor=10))\n",
    "\n",
    "\n",
    "\n",
    "\n",
    "\n",
    "vogais = ['a', 'e', 'i', 'o', 'u']\n",
    "resultado = executar_busca_binaria(lista=vogais, valor='e')\n",
    "if resultado!=None:\n",
    "\n",
    "    print(f\"\\n Valor encontrado an posição {resultado}\")\n",
    "else:\n",
    "\n",
    "    print(\"\\nValor não encontrado\")"
   ]
  }
 ],
 "metadata": {
  "language_info": {
   "name": "python"
  },
  "orig_nbformat": 4
 },
 "nbformat": 4,
 "nbformat_minor": 2
}

{
 "cells": [
  {
   "cell_type": "markdown",
   "metadata": {},
   "source": [
    "### <h3 style=\"text-align: center; color: #C82F4B; font-weight: 700;\">O que são Dados?</h3>"
   ]
  },
  {
   "cell_type": "markdown",
   "metadata": {},
   "source": [
    "<p style=\"text-align:center;\"><span style=\"color: #C82F4B;\">Dados:</span> Em programação, um dado é uma <span style=\"color: #C82F4B;\">informação</span> que pode ser armazenada e manipulada por um programa.</p>"
   ]
  },
  {
   "attachments": {},
   "cell_type": "markdown",
   "metadata": {},
   "source": [
    "<p style=\"text-align:center;\">Iniciamos este tópico ressaltando a citação:<br>\"Todos os <span style=\"color: #C82F4B;\">dados</span> em um programa Python são representados por <span style=\"color: #6890C3;\">objetos</span> ou pela <span style=\"color: #6890C3;\">relação entre objetos</span>.\" (PSF, p. 1, 2020a).<br>O que faz sentido, já que Pyton é uma linguagem orientada a objetos e nela tudo é objeto.</p>"
   ]
  }
 ],
 "metadata": {
  "language_info": {
   "name": "python"
  },
  "orig_nbformat": 4
 },
 "nbformat": 4,
 "nbformat_minor": 2
}

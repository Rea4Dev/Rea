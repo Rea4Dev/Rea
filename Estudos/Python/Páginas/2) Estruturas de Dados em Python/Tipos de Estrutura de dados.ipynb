{
 "cells": [
  {
   "cell_type": "markdown",
   "metadata": {},
   "source": [
    "### <h3 style=\"text-align: center; color: #C82F4B; font-weight: 700;\">Tipos de Estrutura de Dados</h3>"
   ]
  },
  {
   "cell_type": "markdown",
   "metadata": {},
   "source": [
    "<p style=\"text-align:center;\"><span style=\"color: #6890C3;\">Cada objeto</span> é capaz de armazenar <span style=\"color: #6890C3;\">um tipo</span> de estrutura de dados. Separamos, então, em <span style=\"color: #6890C3;\">grupos</span>:</p>"
   ]
  },
  {
   "cell_type": "markdown",
   "metadata": {},
   "source": [
    "#### <h4 style=\"text-align: center; color: #C82F4B; font-weight: 700;\">Tipo sequência</h4>"
   ]
  },
  {
   "cell_type": "markdown",
   "metadata": {},
   "source": [
    "<p style=\"text-align:center;\">Os objetos do tipo sequência são estruturas de dados <span style=\"color: #6890C3;\">capazes de armazenar mais de um valor</span>.<br>Essas estruturas de dados <span style=\"color: #6890C3;\">representam sequências finitas</span> indexadas por números não negativos.<br>O primeiro elemento de uma sequência ocupa o <span style=\"color: #6890C3;\">índice 0</span>; o segundo, 1; o último elemento, a posição n - 1, em que <span style=\"color: #6890C3;\">n é capacidade de armazenamento da sequência</span>.</p>"
   ]
  },
  {
   "cell_type": "markdown",
   "metadata": {},
   "source": [
    "##### <h5 style=\"text-align: center; color: #C82F4B; font-weight: 700;\">Operações em comum</h5>"
   ]
  },
  {
   "cell_type": "markdown",
   "metadata": {},
   "source": [
    "<p style=\"text-align:center;\">As estruturas de dados desse grupo possuem algumas operações em comum:</p>"
   ]
  },
  {
   "cell_type": "markdown",
   "metadata": {},
   "source": [
    "###### <p><span style=\"color: #6890C3; font-size:25px;\">x in s</p>"
   ]
  },
  {
   "cell_type": "markdown",
   "metadata": {},
   "source": [
    "<p>Usada para verificar se um determinado elemento 'x' <span style=\"color: #6890C3;\">é igual a algum outro em uma sequência</span> 's', retornando <span style=\"color: #6890C3;\">True ou False</span>.</p>"
   ]
  },
  {
   "cell_type": "code",
   "execution_count": null,
   "metadata": {},
   "outputs": [
    {
     "name": "stdout",
     "output_type": "stream",
     "text": [
      "O quinto elemento, que tem índice quatro, é o 6\n",
      "O elemento 6 está presente na lista\n"
     ]
    }
   ],
   "source": [
    "s = [1, 2, 3, 4, 5+1]  # originalmente não tinha 6\n",
    "# lembre que começa em 0\n",
    "print(f\"O quinto elemento, que tem índice quatro, é o {s[4]}\")\n",
    "x = 6\n",
    "if x in s:\n",
    "    print(\"O elemento\", x, \"está presente na lista\")\n",
    "else:\n",
    "    print(\"O elemento\", x, \"não está presente na lista\")\n"
   ]
  },
  {
   "cell_type": "markdown",
   "metadata": {},
   "source": [
    "Veja que dizer \"ele verifica se x está em s\" <span style=\"color: #6890C3;\">é errôneo</span>, pois se fosse assim, o caso acima diria que não está presente."
   ]
  },
  {
   "cell_type": "markdown",
   "metadata": {},
   "source": [
    "###### <p><span style=\"color: #6890C3; font-size:25px;\">s + t</p>"
   ]
  },
  {
   "cell_type": "markdown",
   "metadata": {},
   "source": [
    "Contatena duas sequências."
   ]
  },
  {
   "cell_type": "code",
   "execution_count": null,
   "metadata": {},
   "outputs": [
    {
     "name": "stdout",
     "output_type": "stream",
     "text": [
      "[1, 2, 3, 4, 5, 6]\n",
      "Saudações, Rea!\n"
     ]
    }
   ],
   "source": [
    "s = [1, 2, 3]\n",
    "t = [4, 5, 6]\n",
    "r = s + t\n",
    "print(r)\n",
    "\n",
    "a = \"Saudações, \"\n",
    "b = \"Rea!\"\n",
    "c = a + b\n",
    "print(c)\n"
   ]
  },
  {
   "cell_type": "markdown",
   "metadata": {},
   "source": [
    "###### <p><span style=\"color: #6890C3; font-size:25px;\">n * s</p>"
   ]
  },
  {
   "cell_type": "markdown",
   "metadata": {},
   "source": [
    "Usada para criar uma nova sequência que consiste em 'n' cópias da sequência 's'."
   ]
  },
  {
   "cell_type": "code",
   "execution_count": null,
   "metadata": {},
   "outputs": [
    {
     "name": "stdout",
     "output_type": "stream",
     "text": [
      "Python Python \n",
      "[1, 2, 3, 1, 2, 3]\n"
     ]
    }
   ],
   "source": [
    "s = \"Python \"\n",
    "t = 2 * s\n",
    "print(t)\n",
    "\n",
    "a = [1, 2, 3]\n",
    "b = 2 * a\n",
    "print(b)\n"
   ]
  },
  {
   "cell_type": "markdown",
   "metadata": {},
   "source": [
    "###### <p><span style=\"color: #6890C3; font-size:25px;\">s[i]</p>"
   ]
  },
  {
   "cell_type": "markdown",
   "metadata": {},
   "source": [
    "Acessa o valor guardado na posição de índice <span style=\"color: #6890C3;\">i</span> na sequência."
   ]
  },
  {
   "cell_type": "code",
   "execution_count": null,
   "metadata": {},
   "outputs": [
    {
     "data": {
      "text/plain": [
       "3"
      ]
     },
     "metadata": {},
     "output_type": "display_data"
    }
   ],
   "source": [
    "s = [1, 2, 3, 4]\n",
    "s[2]  # lembre que começa com 0\n"
   ]
  },
  {
   "cell_type": "markdown",
   "metadata": {},
   "source": [
    "###### <p><span style=\"color: #6890C3; font-size:25px;\">s[i:j]</p>"
   ]
  },
  {
   "cell_type": "markdown",
   "metadata": {},
   "source": [
    "Acessa os valores da posição de índice <span style=\"color: #6890C3;\">i</span> até os de índice <span style=\"color: #6890C3;\">j</span>, sem incluir j."
   ]
  },
  {
   "cell_type": "code",
   "execution_count": null,
   "metadata": {},
   "outputs": [
    {
     "data": {
      "text/plain": [
       "[1, 2, 3]"
      ]
     },
     "metadata": {},
     "output_type": "display_data"
    }
   ],
   "source": [
    "s = [1, 2, 3, 4, 5]\n",
    "s[0:3]  # intervalo aberto em 3\n"
   ]
  },
  {
   "cell_type": "markdown",
   "metadata": {},
   "source": [
    "###### <p><span style=\"color: #6890C3; font-size:25px;\">s[i:j:k]</p>"
   ]
  },
  {
   "cell_type": "markdown",
   "metadata": {},
   "source": [
    "Acessa os valores da posição de índice <span style=\"color: #6890C3;\">i</span> até os de índice <span style=\"color: #6890C3;\">j</span> (sem incluir j), com passo <span style=\"color: #6890C3;\">k</span> (o último passo é inclusivo)."
   ]
  },
  {
   "cell_type": "code",
   "execution_count": null,
   "metadata": {},
   "outputs": [
    {
     "data": {
      "text/plain": [
       "[1, 4, 7, 10]"
      ]
     },
     "metadata": {},
     "output_type": "display_data"
    }
   ],
   "source": [
    "s = [1, 2, 3, 4, 5, 6, 7, 8, 9, 10]\n",
    "s[0:10:3]  # intervalo aberto em 10\n"
   ]
  },
  {
   "cell_type": "markdown",
   "metadata": {},
   "source": []
  },
  {
   "cell_type": "markdown",
   "metadata": {},
   "source": [
    "###### <p><span style=\"color: #6890C3; font-size:25px;\">len(s)</p>"
   ]
  },
  {
   "cell_type": "markdown",
   "metadata": {},
   "source": [
    "Comprimento de <span style=\"color: #6890C3;\">s</span>."
   ]
  },
  {
   "cell_type": "code",
   "execution_count": null,
   "metadata": {},
   "outputs": [
    {
     "name": "stdout",
     "output_type": "stream",
     "text": [
      "5\n"
     ]
    },
    {
     "data": {
      "text/plain": [
       "3"
      ]
     },
     "metadata": {},
     "output_type": "display_data"
    }
   ],
   "source": [
    "s = [1, 2, 3, 4, 5]\n",
    "print(len(s))\n",
    "\n",
    "r = \"Rea\"\n",
    "len(r)\n"
   ]
  },
  {
   "cell_type": "markdown",
   "metadata": {},
   "source": [
    "###### <p><span style=\"color: #6890C3; font-size:25px;\">min(s)</p>"
   ]
  },
  {
   "cell_type": "markdown",
   "metadata": {},
   "source": [
    "Menor valor de <span style=\"color: #6890C3;\">s</span>."
   ]
  },
  {
   "cell_type": "code",
   "execution_count": null,
   "metadata": {},
   "outputs": [
    {
     "name": "stdout",
     "output_type": "stream",
     "text": [
      "1\n"
     ]
    },
    {
     "data": {
      "text/plain": [
       "'a'"
      ]
     },
     "metadata": {},
     "output_type": "display_data"
    }
   ],
   "source": [
    "s = [1, 2, 3, 4, 5]\n",
    "print(min(s))\n",
    "\n",
    "r = \"rea\"\n",
    "min(r)\n"
   ]
  },
  {
   "cell_type": "markdown",
   "metadata": {},
   "source": [
    "###### <p><span style=\"color: #6890C3; font-size:25px;\">max(s)</p>"
   ]
  },
  {
   "cell_type": "markdown",
   "metadata": {},
   "source": [
    "Maior valor de <span style=\"color: #6890C3;\">s</span>."
   ]
  },
  {
   "cell_type": "code",
   "execution_count": null,
   "metadata": {},
   "outputs": [
    {
     "name": "stdout",
     "output_type": "stream",
     "text": [
      "5\n"
     ]
    },
    {
     "data": {
      "text/plain": [
       "'r'"
      ]
     },
     "metadata": {},
     "output_type": "display_data"
    }
   ],
   "source": [
    "s = [1, 2, 3, 4, 5]\n",
    "print(max(s))\n",
    "\n",
    "r = \"rea\"\n",
    "max(r)\n"
   ]
  },
  {
   "cell_type": "markdown",
   "metadata": {},
   "source": [
    "###### <p><span style=\"color: #6890C3; font-size:25px;\">s.count(x)</p>"
   ]
  },
  {
   "cell_type": "markdown",
   "metadata": {},
   "source": [
    "Número total de ocorrências de <span style=\"color: #6890C3;\">x</span> ter alguém igual em <span style=\"color: #6890C3;\">s</span>."
   ]
  },
  {
   "cell_type": "code",
   "execution_count": null,
   "metadata": {},
   "outputs": [
    {
     "name": "stdout",
     "output_type": "stream",
     "text": [
      "O quinto elemento, que tem índice quatro, é o 6\n"
     ]
    },
    {
     "data": {
      "text/plain": [
       "3"
      ]
     },
     "metadata": {},
     "output_type": "display_data"
    }
   ],
   "source": [
    "s = [1, 2, 3+3, 4+2, 5+1]  # originalmente não tinha 6\n",
    "# lembre que começa em 0\n",
    "print(f\"O quinto elemento, que tem índice quatro, é o {s[4]}\")\n",
    "x = 6\n",
    "s.count(x)\n"
   ]
  },
  {
   "cell_type": "markdown",
   "metadata": {},
   "source": [
    "<p style=\" border-bottom:solid #c82f4b40 5px;\">"
   ]
  },
  {
   "cell_type": "markdown",
   "metadata": {},
   "source": [
    "##### <h5 style=\"text-align: center; color: #C82F4B; font-weight: 700;\">Texto</h5>"
   ]
  },
  {
   "cell_type": "markdown",
   "metadata": {},
   "source": [
    "<p style=\"text-align:center;\">Um texto é um <span style=\"color: #6890C3;\">objeto da classe str</span> (strings). São objetos imutáveis, <span style=\"color: #6890C3;\">não é possível atribuir um novo valor a uma posição específica</span>.<br>Eis algumas funções para este objeto:</p>"
   ]
  },
  {
   "cell_type": "markdown",
   "metadata": {},
   "source": [
    "###### <p><span style=\"color: #6890C3; font-size:25px;\">lower()</p>"
   ]
  },
  {
   "cell_type": "markdown",
   "metadata": {},
   "source": [
    "Passa o que tiver em maiúsculo para minúsculo."
   ]
  },
  {
   "cell_type": "code",
   "execution_count": null,
   "metadata": {},
   "outputs": [
    {
     "name": "stdout",
     "output_type": "stream",
     "text": [
      "rea\n"
     ]
    }
   ],
   "source": [
    "texto = \"REA\"\n",
    "print(texto.lower())\n"
   ]
  },
  {
   "cell_type": "markdown",
   "metadata": {},
   "source": [
    "###### <p><span style=\"color: #6890C3; font-size:25px;\">upper()</p>"
   ]
  },
  {
   "cell_type": "markdown",
   "metadata": {},
   "source": [
    "Passa o que tiver em minúsculo para maiúsculo."
   ]
  },
  {
   "cell_type": "code",
   "execution_count": null,
   "metadata": {},
   "outputs": [
    {
     "name": "stdout",
     "output_type": "stream",
     "text": [
      "REA\n"
     ]
    }
   ],
   "source": [
    "texto = \"rea\"\n",
    "print(texto.upper())\n"
   ]
  },
  {
   "cell_type": "markdown",
   "metadata": {},
   "source": [
    "###### <p><span style=\"color: #6890C3; font-size:25px;\">replace()</p>"
   ]
  },
  {
   "cell_type": "markdown",
   "metadata": {},
   "source": [
    "Substitui um caractere por outro."
   ]
  },
  {
   "cell_type": "code",
   "execution_count": null,
   "metadata": {},
   "outputs": [
    {
     "name": "stdout",
     "output_type": "stream",
     "text": [
      "Goroto\n"
     ]
    }
   ],
   "source": [
    "texto = \"Garota\"\n",
    "print(texto.replace(\"a\", 'o'))\n"
   ]
  },
  {
   "cell_type": "markdown",
   "metadata": {},
   "source": [
    "###### <p><span style=\"color: #6890C3; font-size:25px;\">split()</p>"
   ]
  },
  {
   "cell_type": "markdown",
   "metadata": {},
   "source": [
    "Usada para <span style=\"color: #6890C3;\">\"cortar\"</span> um texto e <span style=\"color: #6890C3;\">transformá-lo em uma lista</span>.<br>Essa função pode ser usada sem <span style=\"color: #6890C3;\">nenhum parâmetro</span>, nesse caso, a string será cortada a cada <span style=\"color: #6890C3;\">espaço em branco</span> que for encontrado.<br>Caso seja <span style=\"color: #6890C3;\">passado um parâmetro</span>, então o corte será <span style=\"color: #6890C3;\">feito no parâmetro</span> especificado."
   ]
  },
  {
   "cell_type": "code",
   "execution_count": null,
   "metadata": {},
   "outputs": [
    {
     "name": "stdout",
     "output_type": "stream",
     "text": [
      "texto = Aprendendo Python, na disciplina de linguagem de programação.\n",
      "Tamanho do texto = 61\n",
      "\n",
      "palavras = ['Aprendendo', 'Python,', 'na', 'disciplina', 'de', 'linguagem', 'de', 'programação.']\n",
      "Tamanho de palavras = 8\n",
      "\n",
      "partes = ['Aprendendo Python', ' na disciplina de linguagem de programação.']\n",
      "Tamanho das partes = 2\n"
     ]
    }
   ],
   "source": [
    "texto = \"Aprendendo Python, na disciplina de linguagem de programação.\"\n",
    "\n",
    "print(f\"texto = {texto}\")\n",
    "\n",
    "print(f\"Tamanho do texto = {len(texto)}\\n\")\n",
    "\n",
    "\n",
    "palavras = texto.split()\n",
    "\n",
    "print(f\"palavras = {palavras}\")\n",
    "\n",
    "print(f\"Tamanho de palavras = {len(palavras)}\\n\")\n",
    "\n",
    "\n",
    "# Aposto, em português, é a parte que explica um termo imediatamente citado.\n",
    "aposto = texto.split(\",\")\n",
    "\n",
    "print(f\"partes = {aposto}\")\n",
    "\n",
    "print(f\"Tamanho das partes = {len(aposto)}\")\n"
   ]
  },
  {
   "cell_type": "markdown",
   "metadata": {},
   "source": [
    "<p style=\" border-bottom:solid #c82f4b40 5px;\">"
   ]
  },
  {
   "cell_type": "markdown",
   "metadata": {},
   "source": [
    "##### <h5 style=\"text-align: center; color: #C82F4B; font-weight: 700;\">Listas</h5>"
   ]
  },
  {
   "cell_type": "markdown",
   "metadata": {},
   "source": [
    "<p style=\"text-align:center;\">Lista é uma estrutura de dados do tipo <span style=\"color: #6890C3;\">sequencial</span> que possui como principal característica ser <span style=\"color: #6890C3;\">mutável</span>.<br><span style=\"color: #6890C3;\">Pode abrigar dentro dela valores de tipos diferentes entre si ao mesmo tempo</span>.<br>Pode abrigar até mesmo uma lista dentro dela (<span style=\"color: #6890C3;\">lista dentro de lista</span>).</p>"
   ]
  },
  {
   "cell_type": "markdown",
   "metadata": {},
   "source": [
    "###### <h6 style=\"text-align: center; color: #C82F4B; font-weight: 700; font-size:15px;\">List Comprehension</span></h6>"
   ]
  },
  {
   "cell_type": "markdown",
   "metadata": {},
   "source": [
    "<p style=\"text-align:center;\">Uma construção sintática para <span style=\"color:#6990C3;\">criação de uma lista baseada em listas existente</span>."
   ]
  },
  {
   "cell_type": "code",
   "execution_count": null,
   "metadata": {},
   "outputs": [
    {
     "name": "stdout",
     "output_type": "stream",
     "text": [
      "[0, 4, 8, 12, 16]\n"
     ]
    }
   ],
   "source": [
    "S = [x*2 for x in range(0,10) if x%2==0]\n",
    "print(S)"
   ]
  },
  {
   "cell_type": "markdown",
   "metadata": {},
   "source": [
    "###### <h6 style=\"text-align: center; color: #C82F4B; font-weight: 700; font-size:15px;\">Operações</span></h6>"
   ]
  },
  {
   "cell_type": "markdown",
   "metadata": {},
   "source": [
    "<span style=\"color:#6990C3;\">append()</span>"
   ]
  },
  {
   "cell_type": "markdown",
   "metadata": {},
   "source": [
    "Adiciona um elemento no final da lista"
   ]
  },
  {
   "cell_type": "code",
   "execution_count": null,
   "metadata": {},
   "outputs": [
    {
     "name": "stdout",
     "output_type": "stream",
     "text": [
      "[1, 2]\n",
      "[1, 2, 3]\n"
     ]
    }
   ],
   "source": [
    "lista = [1, 2]\n",
    "print(lista)\n",
    "lista.append(3)\n",
    "print(lista)"
   ]
  },
  {
   "cell_type": "markdown",
   "metadata": {},
   "source": [
    "<span style=\"color:#6990C3;\">insert(x, y)"
   ]
  },
  {
   "cell_type": "markdown",
   "metadata": {},
   "source": [
    "Adiciona o elemento y na posição x"
   ]
  },
  {
   "cell_type": "code",
   "execution_count": null,
   "metadata": {},
   "outputs": [
    {
     "name": "stdout",
     "output_type": "stream",
     "text": [
      "[1, 2, 3]\n",
      "[0, 1, 2, 3]\n"
     ]
    }
   ],
   "source": [
    "lista = [1, 2, 3]\n",
    "print(lista)\n",
    "lista.insert(0, 0)\n",
    "print(lista)"
   ]
  },
  {
   "cell_type": "markdown",
   "metadata": {},
   "source": [
    "<span style=\"color:#6990C3;\">remove(y)</span>"
   ]
  },
  {
   "cell_type": "markdown",
   "metadata": {},
   "source": [
    "Remove y da lista"
   ]
  },
  {
   "cell_type": "code",
   "execution_count": null,
   "metadata": {},
   "outputs": [
    {
     "name": "stdout",
     "output_type": "stream",
     "text": [
      "[0, 1, 2, 3]\n",
      "[1, 2, 3]\n"
     ]
    }
   ],
   "source": [
    "lista = [0, 1, 2, 3]\n",
    "print(lista)\n",
    "lista.remove(0)\n",
    "print(lista)"
   ]
  },
  {
   "cell_type": "markdown",
   "metadata": {},
   "source": [
    "<span style=\"color:#6990C3;\">sort()"
   ]
  },
  {
   "cell_type": "markdown",
   "metadata": {},
   "source": [
    "Ordena por valor"
   ]
  },
  {
   "cell_type": "code",
   "execution_count": null,
   "metadata": {},
   "outputs": [
    {
     "name": "stdout",
     "output_type": "stream",
     "text": [
      "[3, 1, 2]\n",
      "[1, 2, 3]\n"
     ]
    }
   ],
   "source": [
    "lista = [3, 1, 2]\n",
    "print(lista)\n",
    "lista.sort()\n",
    "print(lista)"
   ]
  },
  {
   "cell_type": "markdown",
   "metadata": {},
   "source": [
    "<span style=\"color:#6990C3;\">extend(lista)"
   ]
  },
  {
   "cell_type": "markdown",
   "metadata": {},
   "source": [
    "Concatena com outras listas"
   ]
  },
  {
   "cell_type": "code",
   "execution_count": null,
   "metadata": {},
   "outputs": [
    {
     "name": "stdout",
     "output_type": "stream",
     "text": [
      "['a', 'e', 'i', 'o', 'u']\n",
      "['x', 'z']\n",
      "['a', 'e', 'i', 'o', 'u', 'x', 'z']\n"
     ]
    }
   ],
   "source": [
    "vogais = ['a', 'e', 'i', 'o', 'u']\n",
    "consoantes_estrangeiras = ['x', 'z']\n",
    "print(vogais)\n",
    "print(consoantes_estrangeiras)\n",
    "vogais.extend(consoantes_estrangeiras)\n",
    "print(vogais)"
   ]
  },
  {
   "cell_type": "markdown",
   "metadata": {},
   "source": [
    "<span style=\"color:#6990C3;\">index()"
   ]
  },
  {
   "cell_type": "markdown",
   "metadata": {},
   "source": [
    "Descobre a posição do elemento"
   ]
  },
  {
   "cell_type": "code",
   "execution_count": null,
   "metadata": {},
   "outputs": [
    {
     "data": {
      "text/plain": [
       "0"
      ]
     },
     "metadata": {},
     "output_type": "display_data"
    }
   ],
   "source": [
    "lista = [1, 2, 3]\n",
    "lista.index(1)"
   ]
  },
  {
   "cell_type": "markdown",
   "metadata": {},
   "source": [
    "<span style=\"color:#6990C3;\">clear()"
   ]
  },
  {
   "cell_type": "markdown",
   "metadata": {},
   "source": [
    "Apaga todos os elementos da lista"
   ]
  },
  {
   "cell_type": "code",
   "execution_count": null,
   "metadata": {},
   "outputs": [
    {
     "name": "stdout",
     "output_type": "stream",
     "text": [
      "[1, 2, 3]\n",
      "[]\n"
     ]
    }
   ],
   "source": [
    "lista = [1, 2, 3]\n",
    "print(lista)\n",
    "lista.clear()\n",
    "print(lista)"
   ]
  },
  {
   "cell_type": "markdown",
   "metadata": {},
   "source": [
    "###### <h6 style=\"text-align: center; color: #C82F4B; font-weight: 700; font-size:15px;\">Construção</span></h6>"
   ]
  },
  {
   "cell_type": "markdown",
   "metadata": {},
   "source": [
    "<p style=\"text-align:center;\">Em Python, as listas podem ser construídas de várias maneiras:</p>"
   ]
  },
  {
   "cell_type": "markdown",
   "metadata": {},
   "source": [
    "<span style=\"color: #6890C3;\">Lista vazia</span>:"
   ]
  },
  {
   "cell_type": "code",
   "execution_count": null,
   "metadata": {},
   "outputs": [],
   "source": [
    "lista = []\n"
   ]
  },
  {
   "cell_type": "markdown",
   "metadata": {},
   "source": [
    "<span style=\"color: #6890C3;\">Elementos separados por vírgula</span>:"
   ]
  },
  {
   "cell_type": "code",
   "execution_count": null,
   "metadata": {},
   "outputs": [],
   "source": [
    "lista = ['a', 'b', 'c']\n"
   ]
  },
  {
   "cell_type": "markdown",
   "metadata": {},
   "source": [
    "<span style=\"color: #6890C3;\">List comprehension</span>:"
   ]
  },
  {
   "cell_type": "markdown",
   "metadata": {},
   "source": [
    "Forma pythônica de criar uma lista com base em um <span style=\"color: #6890C3;\">objeto iterável</span>. Esse tipo de técnica é utilizada quando, dada uma sequência, deseja-se criar uma nova sequência, porém com as informações originais transformadas ou filtradas por um critério."
   ]
  },
  {
   "cell_type": "code",
   "execution_count": null,
   "metadata": {},
   "outputs": [],
   "source": [
    "numeros = [1, 2, 3, 4, 5]\n",
    "quadrados = [x ** 2 for x in numeros]\n",
    "print(quadrados)\n"
   ]
  },
  {
   "cell_type": "code",
   "execution_count": null,
   "metadata": {},
   "outputs": [],
   "source": [
    "linguagens = [\"Python\", \"Java\", \"JavaScript\",\n",
    "              \"C\", \"C#\", \"C++\", \"Swift\", \"Go\", \"Kotlin\"]\n",
    "\n",
    "# linguagens = '''Python Java JavaScript C C# C++ Swift Go Kotlin'''.split() # Essa sintaxe produz o mesmo resultado que a linha 1\n",
    "\n",
    "\n",
    "print(\"Antes da listcomp = \", linguagens)\n",
    "\n",
    "\n",
    "linguagens = [item.lower() for item in linguagens]\n",
    "\n",
    "\n",
    "print(\"\\nDepois da listcomp = \", linguagens)\n"
   ]
  },
  {
   "cell_type": "code",
   "execution_count": null,
   "metadata": {},
   "outputs": [],
   "source": [
    "linguagens = '''Python Java JavaScript C C# C++ Swift Go Kotlin'''.split()\n",
    "\n",
    "print(\"Antes da listcomp = \", linguagens)\n",
    "\n",
    "\n",
    "for i, item in enumerate(linguagens):\n",
    "\n",
    "    linguagens[i] = item.lower()\n",
    "\n",
    "\n",
    "print(\"\\nDepois da listcomp = \", linguagens)\n"
   ]
  },
  {
   "cell_type": "markdown",
   "metadata": {},
   "source": [
    "Podemos também fazer com que só o que tenha <span style=\"color: #6890C3;\">\"Java\"</span> no texto seja exibido."
   ]
  },
  {
   "cell_type": "code",
   "execution_count": null,
   "metadata": {},
   "outputs": [
    {
     "name": "stdout",
     "output_type": "stream",
     "text": [
      "['Java', 'JavaScript']\n"
     ]
    }
   ],
   "source": [
    "linguagens = '''Python Java JavaScript C C# C++ Swift Go Kotlin'''.split()\n",
    "\n",
    "\n",
    "linguagens_java = [item for item in linguagens if \"Java\" in item]\n",
    "\n",
    "\n",
    "print(linguagens_java)\n"
   ]
  },
  {
   "cell_type": "code",
   "execution_count": null,
   "metadata": {},
   "outputs": [],
   "source": [
    "linguagens = '''Python Java JavaScript C C# C++ Swift Go Kotlin'''.split()\n",
    "\n",
    "linguagens_java = []\n",
    "\n",
    "\n",
    "for item in linguagens:\n",
    "\n",
    "    if \"Java\" in item:\n",
    "\n",
    "        linguagens_java.append(item)\n",
    "\n",
    "\n",
    "print(linguagens_java)\n"
   ]
  },
  {
   "cell_type": "markdown",
   "metadata": {},
   "source": [
    "<span style=\"color: #6890C3;\">Construtor de tipo</span>:"
   ]
  },
  {
   "cell_type": "markdown",
   "metadata": {},
   "source": [
    "Pode ser útil em situações em que você precisa criar uma lista a partir de um objeto iterável ou converter outro tipo de objeto em uma lista entre outros. "
   ]
  },
  {
   "cell_type": "code",
   "execution_count": null,
   "metadata": {},
   "outputs": [],
   "source": [
    "my_list = list()\n",
    "print(my_list)\n"
   ]
  },
  {
   "cell_type": "markdown",
   "metadata": {},
   "source": [
    "<p style=\" border-bottom:solid #c82f4b40 5px;\">"
   ]
  },
  {
   "cell_type": "markdown",
   "metadata": {},
   "source": [
    "###### <h6 style=\"text-align: center; color: #C82F4B; font-weight: 700; font-size:15px;\">Função map()</span></h6>"
   ]
  },
  {
   "cell_type": "markdown",
   "metadata": {},
   "source": [
    "<p style=\"text-align:center;\">A função map() é utilizada para <span style=\"color: #6890C3;\">aplicar uma determinada função em cada item de um objeto iterável</span>. Para que essa transformação seja feita, a função map() exige que sejam passados <span style=\"color: #6890C3;\">dois parâmetros</span>: a função e o objeto iterável.</p>"
   ]
  },
  {
   "cell_type": "markdown",
   "metadata": {},
   "source": [
    "<p style=\"text-align:center;\">Devemos observar que se aplicarmos map() sem antes colocar em uma lista, por exemplo, com list(), a função map() <span style=\"color: #6890C3;\">retorna um iterador</span> como <<span style=\"font-size:80%;\">map object at 0x0000022E6F7CD0B8</span>>. Por conta disso devemos \"tratar\" este iterador.</p>"
   ]
  },
  {
   "cell_type": "markdown",
   "metadata": {},
   "source": [
    "A palavra-chave <span style=\"color: #6890C3;\">lambda</span> em Python é usada para criar <span style=\"color: #6890C3;\">funções anônimas</span>, ou seja, funções que não possuem um nome associado a elas. Essas funções geralmente são definidas em linha, dentro do código que as utiliza. Essas funções geralmente são definidas em linha, dentro do código que as utiliza. Por exemplo, <span style=\"color: #6890C3;\">em vez de definir uma função separada para calcular o quadrado de um número, você pode usar uma função lambda para isso</scan>."
   ]
  },
  {
   "cell_type": "code",
   "execution_count": null,
   "metadata": {},
   "outputs": [],
   "source": [
    "numeros = [1, 2, 3, 4, 5]\n",
    "quadrados = list(map(lambda x: x**2, numeros))\n",
    "print(quadrados)\n"
   ]
  },
  {
   "cell_type": "code",
   "execution_count": null,
   "metadata": {},
   "outputs": [],
   "source": [
    "linguagens = '''Python Java JavaScript C C# C++ Swift Go Kotlin'''.split()\n",
    "\n",
    "\n",
    "nova_lista = list(map(lambda x: x.lower(), linguagens))\n",
    "print(f\"A nova lista é = {nova_lista}\\n\")\n"
   ]
  },
  {
   "cell_type": "markdown",
   "metadata": {},
   "source": [
    "<p style=\" border-bottom:solid #c82f4b40 5px;\">"
   ]
  },
  {
   "cell_type": "markdown",
   "metadata": {},
   "source": [
    "###### <h6 style=\"text-align: center; color: #C82F4B; font-weight: 700; font-size:15px;  border-bottom:solid #c82f4b40 5px;\">Função filter()</span></h6>"
   ]
  },
  {
   "cell_type": "markdown",
   "metadata": {},
   "source": [
    "<p style=\"text-align:center;\">A função filter() tem as mesmas características da função map(), mas, em vez de usarmos uma função para transformar os valores da lista, nós a usamos para filtrar.</p>"
   ]
  },
  {
   "cell_type": "markdown",
   "metadata": {},
   "source": [
    "<p style=\"text-align:center;\">Caso tenha dúvidas em relação ao list() e lambda, veja acima em \"função map\".</p>"
   ]
  },
  {
   "cell_type": "code",
   "execution_count": null,
   "metadata": {},
   "outputs": [],
   "source": [
    "# range() cria um objeto numérico iterável, quando junto com list, cria uma lista que inclui todo o intervalo (aberto no último)\n",
    "numeros = list(range(0, 21))\n",
    "\n",
    "numeros_pares = list(filter(lambda x: x % 2 == 0, numeros))\n",
    "\n",
    "\n",
    "print(numeros_pares)\n"
   ]
  },
  {
   "cell_type": "markdown",
   "metadata": {},
   "source": [
    "<p style=\" border-bottom:solid #c82f4b40 5px;\">"
   ]
  },
  {
   "cell_type": "markdown",
   "metadata": {},
   "source": [
    "##### <h5 style=\"text-align: center; color: #C82F4B; font-weight: 700;  border-bottom:solid #c82f4b40 5px;\">Tuplas</h5>"
   ]
  },
  {
   "cell_type": "markdown",
   "metadata": {},
   "source": [
    "<p style=\"text-align:center;\">São objetos <span style=\"color: #6890C3;\">imutáveis</span>. Sua utilização ocorre em casos nos quais a <span style=\"color: #6890C3;\">ordem dos elementos é importante e não pode ser alterada</span>.</p>"
   ]
  },
  {
   "cell_type": "markdown",
   "metadata": {},
   "source": [
    "###### <h6 style=\"text-align: center; color: #C82F4B; font-weight: 700; font-size:15px;  border-bottom:solid #c82f4b40 5px;\">Construção</span></h6>"
   ]
  },
  {
   "cell_type": "markdown",
   "metadata": {},
   "source": [
    "<span style=\"color: #6890C3;\">Tupla vazia</span>:"
   ]
  },
  {
   "cell_type": "code",
   "execution_count": null,
   "metadata": {},
   "outputs": [],
   "source": [
    "tupla = ()\n"
   ]
  },
  {
   "cell_type": "markdown",
   "metadata": {},
   "source": [
    "<span style=\"color: #6890C3;\">Separados por vírgulas</scan>:"
   ]
  },
  {
   "cell_type": "code",
   "execution_count": null,
   "metadata": {},
   "outputs": [],
   "source": [
    "tupla = ('a', 'b', 'c')\n"
   ]
  },
  {
   "cell_type": "markdown",
   "metadata": {},
   "source": [
    "<span style=\"color: #6890C3;\">Construtor de tipo</span>:"
   ]
  },
  {
   "cell_type": "code",
   "execution_count": null,
   "metadata": {},
   "outputs": [],
   "source": [
    "# Criando uma tupla vazia\n",
    "tupla_vazia = tuple()\n",
    "print(tupla_vazia)  # Saída: ()\n",
    "\n",
    "# Criando uma tupla com alguns elementos\n",
    "tupla_frutas = tuple(['maçã', 'banana', 'laranja'])\n",
    "print(tupla_frutas)  # Saída: ('maçã', 'banana', 'laranja')\n",
    "\n",
    "# Criando uma tupla com um único elemento\n",
    "tupla_um_elemento = tuple(['chocolate'])\n",
    "print(tupla_um_elemento)  # Saída: ('chocolate',)\n",
    "\n",
    "# Criando uma tupla com diferentes tipos de dados\n",
    "tupla_mista = tuple(['texto', 42, True])\n",
    "print(tupla_mista)  # Saída: ('texto', 42, True)\n"
   ]
  },
  {
   "cell_type": "markdown",
   "metadata": {},
   "source": [
    "<p style=\" border-bottom:solid #c82f4b40 5px;\">"
   ]
  },
  {
   "cell_type": "markdown",
   "metadata": {},
   "source": [
    "#### <h4 style=\"text-align: center; color: #C82F4B; font-weight: 700;\">Tipo set (conjunto)</h4>"
   ]
  },
  {
   "cell_type": "markdown",
   "metadata": {},
   "source": [
    "<p style=\"text-align:center;\">Um objeto do tipo set <span style=\"color: #6890C3;\">habilita operações matemáticas de conjuntos</span>, tais como: união, intersecção, diferença, etc. Esse tipo de estrutura pode ser usado, portanto, em <span style=\"color: #6890C3;\">testes de associação e remoção de valores duplicados de uma sequência</span> (PSF, 2020c).</p>"
   ]
  },
  {
   "cell_type": "markdown",
   "metadata": {},
   "source": [
    "##### <h5 style=\"text-align: center; color: #C82F4B; font-weight: 700;\">Exemplo</h5>"
   ]
  },
  {
   "cell_type": "markdown",
   "metadata": {},
   "source": [
    "Veja um exemplo disso neste código que verifica se o componente está funcionando para poder vendermos:"
   ]
  },
  {
   "cell_type": "code",
   "execution_count": null,
   "metadata": {},
   "outputs": [
    {
     "name": "stdout",
     "output_type": "stream",
     "text": [
      "Foram verificados 23 componentes.\n",
      "\n",
      "4 componentes apresentaram defeito.\n",
      "\n",
      "Os componentes que podem ser vendidos são:\n",
      "memória ram\n",
      "gabinete\n",
      "mouse\n",
      "no-break\n",
      "estabilizador\n",
      "hub\n",
      "placa de vídeo\n",
      "microfone\n",
      "cooler\n",
      "impressora\n",
      "teclado\n",
      "dissipador de calor\n",
      "modem\n",
      "placa de captura\n",
      "caixas de som\n",
      "placa mãe\n",
      "cpu\n",
      "joystick\n",
      "webcam\n"
     ]
    }
   ],
   "source": [
    "def create_report():\n",
    "\n",
    "    componentes_verificados = set(['caixas de som', 'cooler', 'dissipador de calor', 'cpu', 'hd', 'estabilizador', 'gabinete', 'hub', 'impressora', 'joystick', 'memória ram',\n",
    "                                  'microfone', 'modem', 'monitor', 'mouse', 'no-break', 'placa de captura', 'placa de som', 'placa de vídeo', 'placa mãe', 'scanner', 'teclado', 'webcam'])\n",
    "\n",
    "    componentes_com_defeito = set(['hd', 'monitor', 'placa de som', 'scanner'])\n",
    "\n",
    "    qtde_componentes_verificados = len(componentes_verificados)\n",
    "\n",
    "    qtde_componentes_com_defeito = len(componentes_com_defeito)\n",
    "\n",
    "    componentes_ok = componentes_verificados.difference(\n",
    "        componentes_com_defeito)\n",
    "\n",
    "    print(f\"Foram verificados {qtde_componentes_verificados} componentes.\\n\")\n",
    "\n",
    "    print(f\"{qtde_componentes_com_defeito} componentes apresentaram defeito.\\n\")\n",
    "\n",
    "    print(\"Os componentes que podem ser vendidos são:\")\n",
    "\n",
    "    for item in componentes_ok:\n",
    "\n",
    "        print(item)\n",
    "\n",
    "\n",
    "create_report()\n"
   ]
  },
  {
   "cell_type": "markdown",
   "metadata": {},
   "source": [
    "<p style=\" border-bottom:solid #c82f4b40 5px;\">"
   ]
  },
  {
   "cell_type": "markdown",
   "metadata": {},
   "source": [
    "##### <h5 style=\"text-align: center; color: #C82F4B; font-weight: 700;\">Construção</h5>"
   ]
  },
  {
   "cell_type": "markdown",
   "metadata": {},
   "source": [
    "<p>Perceba que desta vez <span style=\"color: #6890C3;\">não tem a construção vazia</span>, isso porque <span style=\"color: #6890C3;\">não é possível criar um set vazio</span>, com set = {}, <span style=\"color: #6890C3;\">pois essa é a forma de construção de um dicionário</span>.</p>"
   ]
  },
  {
   "cell_type": "markdown",
   "metadata": {},
   "source": [
    "<span style=\"color: #6890C3;\">Separados por vírgulas</span>:"
   ]
  },
  {
   "cell_type": "code",
   "execution_count": null,
   "metadata": {},
   "outputs": [],
   "source": [
    "set = {'a', 'b', 'c'}  # {}\n"
   ]
  },
  {
   "cell_type": "markdown",
   "metadata": {},
   "source": [
    "<span style=\"color: #6890C3;\">Construtor do tipo</span>:"
   ]
  },
  {
   "cell_type": "markdown",
   "metadata": {},
   "source": [
    "Para construir com utilização da função <span style=\"color: #6890C3;\">set(iterable)</span>, obrigatoriamente <span style=\"color: #6890C3;\">temos de passar um objeto iterável</span> para ser transformado em conjunto. Esse objeto pode ser uma <span style=\"color: #6890C3;\">lista, uma tupla ou um texto</span>."
   ]
  },
  {
   "cell_type": "code",
   "execution_count": null,
   "metadata": {},
   "outputs": [],
   "source": [
    "meu_set = set([1, 2, 3, 4, 5])  # ()\n"
   ]
  },
  {
   "cell_type": "code",
   "execution_count": null,
   "metadata": {},
   "outputs": [],
   "source": [
    "vogais_1 = {'aeiou'}  # sem uso do construtor\n",
    "\n",
    "print(type(vogais_1), vogais_1)\n",
    "\n",
    "\n",
    "vogais_2 = set('aeiou')  # construtor com string\n",
    "\n",
    "print(type(vogais_2), vogais_2)\n",
    "\n",
    "\n",
    "vogais_3 = set(['a', 'e', 'i', 'o', 'u'])  # construtor com lista\n",
    "\n",
    "print(type(vogais_3), vogais_3)\n",
    "\n",
    "\n",
    "vogais_4 = set(('a', 'e', 'i', 'o', 'u'))  # construtor com tupla\n",
    "\n",
    "print(type(vogais_4), vogais_4)\n"
   ]
  },
  {
   "cell_type": "markdown",
   "metadata": {},
   "source": [
    "<p style=\" border-bottom:solid #c82f4b40 5px;\">"
   ]
  },
  {
   "cell_type": "markdown",
   "metadata": {},
   "source": [
    "##### <h5 style=\"text-align: center; color: #C82F4B; font-weight: 700;  border-bottom:solid #c82f4b40 5px;\">Operações</h5>"
   ]
  },
  {
   "cell_type": "markdown",
   "metadata": {},
   "source": [
    "<p style=\"text-align:center;\">Das operações que já conhecemos sobre sequências, conseguimos <span style=\"color: #6890C3;\">aproveitar</span> nessa nova estrutura:<br>- len(s)<br>- x in s<br>- x not in s</p>"
   ]
  },
  {
   "cell_type": "markdown",
   "metadata": {},
   "source": [
    "<p style=\"text-align:center;\">Por hora, para novas funções, <span style=\"color: #6890C3;\">deduza tudo que tem como fazer com conjuntos e pesquise como fazer isso em set</span>.<br>Podemos encontrar <span style=\"color: #6890C3;\">mais funções</span> em: https://docs.python.org/pt-br/3/library/stdtypes.html</p>"
   ]
  },
  {
   "cell_type": "markdown",
   "metadata": {},
   "source": [
    "<p style=\" border-bottom:solid #c82f4b40 5px;\">"
   ]
  },
  {
   "attachments": {},
   "cell_type": "markdown",
   "metadata": {},
   "source": [
    "#### <h4 style=\"text-align: center; color: #C82F4B; font-weight: 700;\">Tipo mapping (dicionário)</h4>"
   ]
  },
  {
   "cell_type": "markdown",
   "metadata": {},
   "source": [
    "<p style=\"text-align:center;\">As estruturas de dados que possuem um <span style=\"color: #6890C3;\">mapeamento entre uma chave e um valor</span> são consideradas objetos do tipo mapping.<br>Em Python, o objeto que possui essa propriedade é o <span style=\"color: #6890C3;\">dict (dicionário)</span>. Uma vez que esse objeto é <span style=\"color: #6890C3;\">mutável</span>, conseguimos atribuir um novo valor a uma chave já existente.</p>"
   ]
  },
  {
   "attachments": {},
   "cell_type": "markdown",
   "metadata": {},
   "source": [
    "##### <h5 style=\"text-align: center; color: #C82F4B; font-weight: 700;\">Construção</h5>"
   ]
  },
  {
   "cell_type": "markdown",
   "metadata": {},
   "source": [
    "<span style=\"color: #6890C3;\">Dicionário vazio</span>:"
   ]
  },
  {
   "cell_type": "markdown",
   "metadata": {},
   "source": [
    "Criação de dicionário vazio, com <span style=\"color: #6890C3;\">atribuição posterior</span> de chave e valor"
   ]
  },
  {
   "cell_type": "code",
   "execution_count": null,
   "metadata": {},
   "outputs": [],
   "source": [
    "dicionario = {}\n",
    "\n",
    "dicionario['nome'] = \"Rea\"\n",
    "\n",
    "dicionario['idade'] = 18\n",
    "\n",
    "print(dicionario)\n"
   ]
  },
  {
   "cell_type": "markdown",
   "metadata": {},
   "source": [
    "<span style=\"color: #6890C3;\">Separado por vírgulas</span>:"
   ]
  },
  {
   "cell_type": "code",
   "execution_count": null,
   "metadata": {},
   "outputs": [],
   "source": [
    "dicionario = {'chave1': 1, 'chave2': 2, 'chave3': 3}\n"
   ]
  },
  {
   "cell_type": "markdown",
   "metadata": {},
   "source": [
    "<span style=\"color: #6890C3;\">Construtor de tipo</span>:"
   ]
  },
  {
   "cell_type": "code",
   "execution_count": null,
   "metadata": {},
   "outputs": [],
   "source": [
    "dicionario = dict([('chave1', 1), ('chave2', 2), ('chave3', 3)])\n"
   ]
  },
  {
   "cell_type": "markdown",
   "metadata": {},
   "source": [
    "<p style=\" border-bottom:solid #c82f4b40 5px;\">"
   ]
  }
 ],
 "metadata": {
  "language_info": {
   "name": "python"
  },
  "orig_nbformat": 4
 },
 "nbformat": 4,
 "nbformat_minor": 2
}

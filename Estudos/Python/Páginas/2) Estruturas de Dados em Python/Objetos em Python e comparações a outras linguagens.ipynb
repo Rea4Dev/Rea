{
 "cells": [
  {
   "cell_type": "markdown",
   "metadata": {},
   "source": [
    "### <h3 style=\"text-align: center; color: #C82F4B; font-weight: 700;\">Objetos em Python e comparações a outras linguagens.</h3>"
   ]
  },
  {
   "cell_type": "markdown",
   "metadata": {},
   "source": [
    "<p style=\"text-align:center;\">Antes de tudo, vamos ressaltar que em Python o <span style=\"color: #6890C3;\">tipo</span> do objeto determina os <span style=\"color: #6890C3;\">valores</span> que ele pode armazenar e as <span style=\"color: #6890C3;\">operações</span> que podem ser feitas com tal estrutura.<br>Agora vamos a ressalvas comparativas:</p> "
   ]
  },
  {
   "attachments": {},
   "cell_type": "markdown",
   "metadata": {},
   "source": [
    "#### <h4 style=\"text-align: center; color: #C82F4B; font-weight: 700;\"><span style=\"color: #6890C3;\">Classes</span> vs <span style=\"color: #5AA695;\">Variáveis primitivas</span></h4>"
   ]
  },
  {
   "attachments": {},
   "cell_type": "markdown",
   "metadata": {},
   "source": [
    "<p style=\"text-align:center;\">Já conhecemos algumas <span style=\"color: #6890C3;\">classes</span> em Python, tais como o int (inteiro), o str (string), o float (ponto flutuante), tipos que nos lembram das <span style=\"color: #5AA695;\">variáveis primitivas de outras linguagens</span>, como C ou Java.<br>Um objeto pode ser <span style=\"color: #6890C3;\">mais complexo</span> que um tipo primitivo. Por exemplo, o tipo primitivo <span style=\"color: #5AA695;\">int</span>, na linguagem C, ocupa <span style=\"color: #5AA695;\">no máximo 4 bytes (32 bits)</span> e pode armazenar valores entre <span style=\"color: #5AA695;\">-2.147.483.648 e 2.147.483.647</span> . Já o objeto do tipo int, na linguagem Python, <span style=\"color: #6890C3;\">não possui um limite definido</span>, uma vez que fica <span style=\"color: #6890C3;\">limitado apenas à memória RAM</span> (random access memory) disponível no ambiente.</p>"
   ]
  },
  {
   "cell_type": "markdown",
   "metadata": {},
   "source": [
    "#### <h4 style=\"text-align: center; color: #C82F4B; font-weight: 700;\"><span style=\"color: #6890C3;\">Classe str</span> vs <span style=\"color: #5AA695;\">Vetor char</span></h4>"
   ]
  },
  {
   "cell_type": "markdown",
   "metadata": {},
   "source": [
    "<p style=\"text-align:center;\">Outro exemplo interessante é a classe (classe nada mais é que uma \"criadora\" de objetos) str (string). Em linguagem como a C, uma <span style=\"color: #5AA695;\">string é um vetor do tipo primitivo char</span>. Por sua vez, em Python, esse objeto, além de <span style=\"color: #6890C3;\">tamanho ilimitado</span>, possui <span style=\"color: #6890C3;\">vários métodos para manipulação de textos</span>, como o split(), o replace(), dentre outros.</p>"
   ]
  },
  {
   "cell_type": "markdown",
   "metadata": {},
   "source": [
    "#### <h4 style=\"text-align: center; color: #C82F4B; font-weight: 700;\"><span style=\"color: #6890C3;\">Estrutura de Dados</span> vs <span style=\"color: #5AA695;\">Vetores</span></h4>"
   ]
  },
  {
   "cell_type": "markdown",
   "metadata": {},
   "source": [
    "<p style=\"text-align:center;\">Em Python, existem várias <span style=\"color: #6890C3;\">estruturas de dados</span> que podem armazenar mais de um valor, como listas, tuplas, conjuntos e dicionários. Essas estruturas de dados são semelhantes aos <span style=\"color: #5AA695;\">vetores em C</span>, mas com algumas diferenças importantes:</p>"
   ]
  },
  {
   "cell_type": "markdown",
   "metadata": {},
   "source": [
    "<p style=\"text-align:center;\">Uma diferença chave é que em Python, <span style=\"color: #6890C3;\">as listas podem crescer e diminuir dinamicamente</span>, enquanto em C, o <span style=\"color: #5AA695;\">tamanho de um vetor deve ser especificado no momento da declaração</span>. Além disso, em Python, as <span style=\"color: #6890C3;\">listas podem conter elementos de diferentes tipos de dados</span>, enquanto em C, um <span style=\"color: #5AA695;\">vetor deve conter elementos do mesmo tipo</span>.</p>"
   ]
  }
 ],
 "metadata": {
  "language_info": {
   "name": "python"
  },
  "orig_nbformat": 4
 },
 "nbformat": 4,
 "nbformat_minor": 2
}

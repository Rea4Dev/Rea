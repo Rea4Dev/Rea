{
 "cells": [
  {
   "attachments": {},
   "cell_type": "markdown",
   "metadata": {},
   "source": [
    "# <h1 style=\"text-align: center; color: #C82F4B; font-weight: 700;\">Python</h1>"
   ]
  },
  {
   "attachments": {},
   "cell_type": "markdown",
   "metadata": {},
   "source": [
    "<img src=\"../Jupyter/Imagens de Ilustração/fotor_2023-3-20_20_36_8.png\" alt=\"descrição da imagem\" width=\"900\" style=\"display: block; margin-left: auto; margin-right: auto;\">\n"
   ]
  },
  {
   "attachments": {},
   "cell_type": "markdown",
   "metadata": {},
   "source": [
    "## <h2 style=\"text-align: center; color: #C82F4B; font-weight: 700; border-top: solid #c82f4b20 5px;\">Introdução à linguagem Python</h2>"
   ]
  },
  {
   "attachments": {},
   "cell_type": "markdown",
   "metadata": {},
   "source": [
    "### <h3 style=\"text-align: center; color: #C82F4B; font-weight: 700;\">História</h3>"
   ]
  },
  {
   "attachments": {},
   "cell_type": "markdown",
   "metadata": {},
   "source": [
    "<p  style=\"text-align: center;\">Podemos separar o resumo da história do Python em quatro tópicos:</p>"
   ]
  },
  {
   "attachments": {},
   "cell_type": "markdown",
   "metadata": {},
   "source": [
    "<p style=\"text-align:center; border-bottom:solid #c82f4b40 5px;\"><span style=\"color:#C82F4B;\">1</span>. O objetivo era ser o <span style=\"color: #6890C3;\">sucessor</span> de uma linguagem chamada ABC.<br>\n",
    "<span style=\"color:#C82F4B;\">2.</span> Criado no início dos anos <span style=\"color: #6890C3;\">90 em CWI na Holanda</span>, por <span style=\"color: #6890C3;\">Guido van Rossum</span> (apesar de principal autor, houve muitas contribuições de outros pesquisadores).<br>\n",
    "<span style=\"color:#C82F4B;\">3.</span> Em 95 Guido foi a CNRI na Virgínia, em <span style=\"color: #6890C3;\">2000 na BeOpen</span> onde formou a <span style=\"color: #6890C3;\">BeOpen PythonLabs</span> (no mesmo ano, a equipe do PythonLabs mudou para a <span style=\"color: #6890C3;\">Digital Creations</span>, agora <span style=\"color: #6890C3;\">Zope Corporation</span>).<br>\n",
    "<span style=\"color:#C82F4B;\">4.</span> Em <span style=\"color: #6890C3;\">2001</span> foi formada a <span style=\"color: #6890C3;\">PSF</span> (<span style=\"color: #6890C3;\">Python Software Foundation</span>), uma organização sem fins lucrativos, criada especificamente para possuir a propriedade intelectual relacionada ao Python.</p>"
   ]
  },
  {
   "attachments": {},
   "cell_type": "markdown",
   "metadata": {},
   "source": [
    "### <h3 style=\"text-align: center; color: #C82F4B; font-weight: 700;\">Características</h3>"
   ]
  },
  {
   "attachments": {},
   "cell_type": "markdown",
   "metadata": {},
   "source": [
    "- É uma linguagem <span style=\"color: #6890C3;\">orientada a objetos</span>, ou seja, tudo é objeto (por isso ao usarmos type() os tipos de dados aparecem com <class ' '>)."
   ]
  },
  {
   "cell_type": "code",
   "execution_count": 28,
   "metadata": {},
   "outputs": [
    {
     "name": "stdout",
     "output_type": "stream",
     "text": [
      "<class 'int'>\n"
     ]
    }
   ],
   "source": [
    "x = 3\n",
    "print(type(x))\n"
   ]
  },
  {
   "attachments": {},
   "cell_type": "markdown",
   "metadata": {},
   "source": [
    "- Utiliza uma sintaxe elegante, facilitando a leitura dos programas.\n",
    "- Fácil de usar, ideal para desenvolvimento de protótipos e outras tarefas de programação ad-hoc, sem comprometer a manutenção.\n",
    "- Vem com uma grande biblioteca padrão que suporta muitas tarefas comuns de programação, como se conectar a servidores da Web, pesquisar texto com expressões regulares, ler e modificar arquivos.\n",
    "- Possui inúmeras bibliotecas que estender seu poder de atuação.\n",
    "- É uma <span style=\"color: #6890C3;\">linguagem interpretada</span>, ou seja, uma vez escrito o código, este não precisa ser convertido em linguagem de máquina por um processo de compilação."
   ]
  },
  {
   "attachments": {},
   "cell_type": "markdown",
   "metadata": {},
   "source": [
    "- Permite atribuição múltipla. Podemos atribuir valores a mais de uma variável em uma única instrução, como:"
   ]
  },
  {
   "cell_type": "code",
   "execution_count": 29,
   "metadata": {},
   "outputs": [
    {
     "name": "stdout",
     "output_type": "stream",
     "text": [
      "2\n",
      "4\n"
     ]
    }
   ],
   "source": [
    "x, y = 2, 4\n",
    "print(x)\n",
    "print(y)\n"
   ]
  },
  {
   "attachments": {},
   "cell_type": "markdown",
   "metadata": {},
   "source": [
    "- Usa da identação como forma de definição de blocos de código (em C isso era indiferente, por exemplo).\n",
    "- Tipagem dinâmica (não precisa definir o tipo antes) e forte (não realiza conversão de tipos automaticamente, podendo gerar erros em situações onde você esquece de converter).\n",
    "- O interpretador Python 3 utiliza <span style=\"color: #6890C3;\">unicode</span> por padrão, mas evite acentuações e caracteres especiais, por motivos de boa prática.\n",
    "- Um código que segue as regras do idioma Python é chamado de pythonic code.\n",
    "Caso queira as regras, referência e outras informações oficiais, veja o <span style=\"color: #6890C3;\">PEP8</span> ou a <span style=\"color: #6890C3;\">documentação iniciante</span>. Menção honrosa também ao \"<span style=\"color: #6890C3; \">The Zen of Python</span>\".\n",
    "<p style=\" border-bottom:solid #c82f4b40 5px;\">"
   ]
  },
  {
   "attachments": {},
   "cell_type": "markdown",
   "metadata": {},
   "source": [
    "### <h3 style=\"text-align: center; color: #C82F4B; font-weight: 700;\">Variáveis</h3>"
   ]
  },
  {
   "attachments": {},
   "cell_type": "markdown",
   "metadata": {},
   "source": [
    "<p style=\"text-align:center; border-bottom:solid #c82f4b40 5px;\">\n",
    "    São espaços alocados na memória RAM para guardar valores temporariamente.\n",
    "    Em Python, esses espaços <span style=\"color: #6890C3;\">não precisam ser tipados</span>, ou seja, a variável pode ser alocada sem especificar o tipo de dado que ela aguardará. O interpretador Python é capaz de determinar o tipo de dado da variável com base no seu valor, ou seja, as variáveis <span style=\"color: #6890C3;\">são tipadas dinamicamente</span> nessa linguagem.\n",
    "</p>"
   ]
  },
  {
   "attachments": {},
   "cell_type": "markdown",
   "metadata": {},
   "source": [
    "### <h3 style=\"text-align: center; color: #C82F4B; font-weight: 700;\">Operações</h3>"
   ]
  },
  {
   "attachments": {},
   "cell_type": "markdown",
   "metadata": {},
   "source": [
    "<p style=\"text-align: center;\">Eis aqui as operações em Python que precisam ser destacadas:</p>"
   ]
  },
  {
   "attachments": {},
   "cell_type": "markdown",
   "metadata": {},
   "source": [
    "<span style=\"color: #6890C3;\">Quociente</span> de x e y:"
   ]
  },
  {
   "cell_type": "code",
   "execution_count": 30,
   "metadata": {},
   "outputs": [
    {
     "name": "stdout",
     "output_type": "stream",
     "text": [
      "2.0\n"
     ]
    }
   ],
   "source": [
    "x, y = 4, 2\n",
    "print(x/y)\n"
   ]
  },
  {
   "attachments": {},
   "cell_type": "markdown",
   "metadata": {},
   "source": [
    "<span style=\"color: #6890C3;\">Parte inteira</span> do quociente de x e y:"
   ]
  },
  {
   "cell_type": "code",
   "execution_count": 31,
   "metadata": {},
   "outputs": [
    {
     "name": "stdout",
     "output_type": "stream",
     "text": [
      "2\n"
     ]
    }
   ],
   "source": [
    "x, y = 4, 2\n",
    "print(x//y)\n"
   ]
  },
  {
   "attachments": {},
   "cell_type": "markdown",
   "metadata": {},
   "source": [
    "<span style=\"color: #6890C3;\">Resto</span> de x e y:"
   ]
  },
  {
   "cell_type": "code",
   "execution_count": 32,
   "metadata": {},
   "outputs": [
    {
     "name": "stdout",
     "output_type": "stream",
     "text": [
      "0\n"
     ]
    }
   ],
   "source": [
    "x, y = 4, 2\n",
    "print(x % y)\n"
   ]
  },
  {
   "attachments": {},
   "cell_type": "markdown",
   "metadata": {},
   "source": [
    "Valor absoluto de x (<span style=\"color: #6890C3;\">módulo</span>):"
   ]
  },
  {
   "cell_type": "code",
   "execution_count": 33,
   "metadata": {},
   "outputs": [
    {
     "name": "stdout",
     "output_type": "stream",
     "text": [
      "4\n"
     ]
    }
   ],
   "source": [
    "x = -4\n",
    "print(abs(x))\n"
   ]
  },
  {
   "attachments": {},
   "cell_type": "markdown",
   "metadata": {},
   "source": [
    "<span style=\"color: #6890C3;\">Exponenciação</span>, x elevado a y:"
   ]
  },
  {
   "cell_type": "code",
   "execution_count": 34,
   "metadata": {},
   "outputs": [
    {
     "name": "stdout",
     "output_type": "stream",
     "text": [
      "16\n",
      "16\n"
     ]
    }
   ],
   "source": [
    "x, y = 4, 2\n",
    "print(pow(x, y))\n",
    "print(x**y)\n"
   ]
  },
  {
   "attachments": {},
   "cell_type": "markdown",
   "metadata": {},
   "source": [
    "<p style=\" border-bottom:solid #c82f4b40 5px;\">Como pode perceber, neste último, <span style=\"color: #6890C3;\">há duas formas</span> de fazer a exponenciação.</p>"
   ]
  },
  {
   "attachments": {},
   "cell_type": "markdown",
   "metadata": {},
   "source": [
    "### <h3 style=\"text-align: center; color: #C82F4B; font-weight: 700;\">Estruturas condicionais</h3>"
   ]
  },
  {
   "attachments": {},
   "cell_type": "markdown",
   "metadata": {},
   "source": [
    "#### <h4 style=\"text-align: center; color: #C82F4B; font-weight: 700;\">If</h4>"
   ]
  },
  {
   "attachments": {},
   "cell_type": "markdown",
   "metadata": {},
   "source": [
    "<p style=\"text-align:center;\">Não devemos ignorar ou subestimar um if isolado, existem situações onde ele poder vir a ser útil:</p>"
   ]
  },
  {
   "cell_type": "code",
   "execution_count": 49,
   "metadata": {},
   "outputs": [],
   "source": [
    "x = input(\"Insira um valor: \")\n",
    "x = float(x)\n",
    "if x != 1:\n",
    "    print(\"Não trata-se de uma unidade.\")\n"
   ]
  },
  {
   "attachments": {},
   "cell_type": "markdown",
   "metadata": {},
   "source": [
    "<p style=\" border-bottom:solid #c82f4b40 5px;\">"
   ]
  },
  {
   "attachments": {},
   "cell_type": "markdown",
   "metadata": {},
   "source": [
    "#### <h4 style=\"text-align: center; color: #C82F4B; font-weight: 700;\">If else</h4>"
   ]
  },
  {
   "cell_type": "code",
   "execution_count": 36,
   "metadata": {},
   "outputs": [
    {
     "name": "stdout",
     "output_type": "stream",
     "text": [
      "A não é menor que b\n"
     ]
    }
   ],
   "source": [
    "a = input(\"Insira o valor de a: \")\n",
    "b = input(\"Insira o valor de b: \")\n",
    "if a < b:\n",
    "    print(\"A é menor que b\")\n",
    "else:\n",
    "    print(\"A não é menor que b\")\n"
   ]
  },
  {
   "attachments": {},
   "cell_type": "markdown",
   "metadata": {},
   "source": [
    "<p style=\" border-bottom:solid #c82f4b40 5px;\">"
   ]
  },
  {
   "attachments": {},
   "cell_type": "markdown",
   "metadata": {},
   "source": [
    "#### <h4 style=\"text-align: center; color: #C82F4B; font-weight: 700; border-bottom:solid #c82f4b40 5px;\">elif</h4>"
   ]
  },
  {
   "cell_type": "code",
   "execution_count": 37,
   "metadata": {},
   "outputs": [
    {
     "name": "stdout",
     "output_type": "stream",
     "text": [
      "Código não cadastrado\n"
     ]
    }
   ],
   "source": [
    "codigo_compra = input(\"Digite o código de compra: \")\n",
    "codigo_compra = int(codigo_compra)\n",
    "\n",
    "\n",
    "if codigo_compra == 5222:\n",
    "\n",
    "    print(\"Compra à vista.\")\n",
    "\n",
    "elif codigo_compra == 5333:\n",
    "\n",
    "    print(\"Compra à prazo no boleto.\")\n",
    "\n",
    "elif codigo_compra == 5444:\n",
    "\n",
    "    print(\"Compra à prazo no cartão.\")\n",
    "\n",
    "else:\n",
    "\n",
    "    print(\"Código não cadastrado\")\n"
   ]
  },
  {
   "attachments": {},
   "cell_type": "markdown",
   "metadata": {},
   "source": [
    "<p style=\" border-bottom:solid #c82f4b40 5px;\">"
   ]
  },
  {
   "attachments": {},
   "cell_type": "markdown",
   "metadata": {},
   "source": [
    "### <h3 style=\"text-align: center; color: #C82F4B; font-weight: 700;\">Estruturas lógicas</h3>"
   ]
  },
  {
   "attachments": {},
   "cell_type": "markdown",
   "metadata": {},
   "source": [
    "<p style=\"text-align:center;\"><span style=\"color: #6890C3;\">not</span> primeiro, <span style=\"color: #6890C3;\">and</span> em seguida e <span style=\"color: #6890C3;\">or</span> por último.</p>"
   ]
  },
  {
   "attachments": {},
   "cell_type": "markdown",
   "metadata": {},
   "source": [
    "#### <h4 style=\"text-align: center; color: #C82F4B; font-weight: 700;\">And</h4>"
   ]
  },
  {
   "cell_type": "code",
   "execution_count": 38,
   "metadata": {},
   "outputs": [
    {
     "name": "stdout",
     "output_type": "stream",
     "text": [
      "Aluno aprovado!\n"
     ]
    }
   ],
   "source": [
    "qtde_faltas = int(input(\"Digite a quantidade de faltas: \"))\n",
    "\n",
    "media_final = float(input(\"Digite a média final: \"))\n",
    "\n",
    "\n",
    "if qtde_faltas <= 5 and media_final >= 7:\n",
    "\n",
    "    print(\"Aluno aprovado!\")\n",
    "\n",
    "else:\n",
    "\n",
    "    print(\"Aluno reprovado!\")\n"
   ]
  },
  {
   "attachments": {},
   "cell_type": "markdown",
   "metadata": {},
   "source": [
    "<p style=\" border-bottom:solid #c82f4b40 5px;\">"
   ]
  },
  {
   "attachments": {},
   "cell_type": "markdown",
   "metadata": {},
   "source": [
    "#### <h4 style=\"text-align: center; color: #C82F4B; font-weight: 700;  border-bottom:solid #c82f4b40 5px;\">Or</h4>"
   ]
  },
  {
   "cell_type": "code",
   "execution_count": 39,
   "metadata": {},
   "outputs": [
    {
     "name": "stdout",
     "output_type": "stream",
     "text": [
      "True\n",
      "False\n"
     ]
    }
   ],
   "source": [
    "A = 15\n",
    "\n",
    "B = 9\n",
    "\n",
    "C = 9\n",
    "\n",
    "\n",
    "print(B == C or A < B and A < C)\n",
    "\n",
    "print((B == C or A < B) and A < C)\n"
   ]
  },
  {
   "attachments": {},
   "cell_type": "markdown",
   "metadata": {},
   "source": [
    "<p style=\" border-bottom:solid #c82f4b40 5px;\">"
   ]
  },
  {
   "attachments": {},
   "cell_type": "markdown",
   "metadata": {},
   "source": [
    "### <h3 style=\"text-align: center; color: #C82F4B; font-weight: 700;\">Estruturas de repetição</h3>"
   ]
  },
  {
   "attachments": {},
   "cell_type": "markdown",
   "metadata": {},
   "source": [
    "#### <h4 style=\"text-align: center; color: #C82F4B; font-weight: 700;\">While</h4>"
   ]
  },
  {
   "cell_type": "code",
   "execution_count": 50,
   "metadata": {},
   "outputs": [
    {
     "name": "stdout",
     "output_type": "stream",
     "text": [
      "Número ímpar!\n",
      "Número par!\n",
      "Número par!\n"
     ]
    }
   ],
   "source": [
    "numero = 1\n",
    "\n",
    "while numero != 0:\n",
    "\n",
    "    numero = int(input(\"Digite um número: \"))\n",
    "\n",
    "    if numero % 2 == 0:\n",
    "\n",
    "        print(\"Número par!\")\n",
    "\n",
    "    else:\n",
    "\n",
    "        print(\"Número ímpar!\")\n"
   ]
  },
  {
   "attachments": {},
   "cell_type": "markdown",
   "metadata": {},
   "source": [
    "<p style=\" border-bottom:solid #c82f4b40 5px;\">"
   ]
  },
  {
   "attachments": {},
   "cell_type": "markdown",
   "metadata": {},
   "source": [
    "#### <h4 style=\"text-align: center; color: #C82F4B; font-weight: 700;\">For</h4>"
   ]
  },
  {
   "cell_type": "code",
   "execution_count": null,
   "metadata": {},
   "outputs": [
    {
     "name": "stdout",
     "output_type": "stream",
     "text": [
      "Posição = 0, valor = R\n",
      "Posição = 1, valor = e\n",
      "Posição = 2, valor = a\n"
     ]
    }
   ],
   "source": [
    "nome = \"Rea\"\n",
    "\n",
    "for i, v in enumerate(nome):\n",
    "\n",
    "    print(f\"Posição = {i}, valor = {v}\")\n"
   ]
  },
  {
   "attachments": {},
   "cell_type": "markdown",
   "metadata": {},
   "source": [
    "<p style=\" border-bottom:solid #c82f4b40 5px;\">"
   ]
  },
  {
   "attachments": {},
   "cell_type": "markdown",
   "metadata": {},
   "source": [
    "#### <h4 style=\"text-align: center; color: #C82F4B; font-weight: 700;  border-bottom:solid #c82f4b40 5px;\">Range</h4>"
   ]
  },
  {
   "attachments": {},
   "cell_type": "markdown",
   "metadata": {},
   "source": [
    "<p style=\"text-align:center;\">Para criar uma <span style=\"color: #6890C3;\">sequencia numérica de iteração</span>, usamos range()</p>"
   ]
  },
  {
   "cell_type": "code",
   "execution_count": 51,
   "metadata": {},
   "outputs": [
    {
     "name": "stdout",
     "output_type": "stream",
     "text": [
      "0\n",
      "1\n",
      "2\n",
      "3\n",
      "4\n"
     ]
    }
   ],
   "source": [
    "for x in range(5):\n",
    "\n",
    "    print(x)\n"
   ]
  },
  {
   "attachments": {},
   "cell_type": "markdown",
   "metadata": {},
   "source": [
    "Exemplo do uso de <span style=\"color: #6890C3;\">break</span>:"
   ]
  },
  {
   "cell_type": "code",
   "execution_count": 52,
   "metadata": {},
   "outputs": [
    {
     "name": "stdout",
     "output_type": "stream",
     "text": [
      "L\n",
      "i\n",
      "n\n",
      "g\n",
      "u\n"
     ]
    }
   ],
   "source": [
    "disciplina = \"Linguagem de programação\"\n",
    "\n",
    "for letra in disciplina:\n",
    "\n",
    "    if letra == 'a':\n",
    "\n",
    "        break\n",
    "\n",
    "    else:\n",
    "\n",
    "        print(letra)\n"
   ]
  },
  {
   "attachments": {},
   "cell_type": "markdown",
   "metadata": {},
   "source": [
    "Exemplo do uso de <span style=\"color: #6890C3;\">continue</span>:"
   ]
  },
  {
   "cell_type": "code",
   "execution_count": 53,
   "metadata": {},
   "outputs": [
    {
     "name": "stdout",
     "output_type": "stream",
     "text": [
      "L\n",
      "i\n",
      "n\n",
      "g\n",
      "u\n",
      "g\n",
      "e\n",
      "m\n",
      " \n",
      "d\n",
      "e\n",
      " \n",
      "p\n",
      "r\n",
      "o\n",
      "g\n",
      "r\n",
      "m\n",
      "ç\n",
      "ã\n",
      "o\n"
     ]
    }
   ],
   "source": [
    "disciplina = \"Linguagem de programação\"\n",
    "\n",
    "for letra in disciplina:\n",
    "\n",
    "    if letra == 'a':\n",
    "\n",
    "        continue\n",
    "\n",
    "    else:\n",
    "\n",
    "        print(letra)\n"
   ]
  },
  {
   "cell_type": "code",
   "execution_count": 54,
   "metadata": {},
   "outputs": [
    {
     "name": "stdout",
     "output_type": "stream",
     "text": [
      "Vogal 'e' encontrada, na posição ----> 1\n",
      "Vogal 'e' encontrada, na posição ----> 3\n",
      "Vogal 'a' encontrada, na posição ----> 11\n",
      "Vogal 'a' encontrada, na posição ----> 18\n",
      "Vogal 'a' encontrada, na posição ----> 26\n",
      "Vogal 'e' encontrada, na posição ----> 31\n",
      "Vogal 'e' encontrada, na posição ----> 33\n",
      "Vogal 'a' encontrada, na posição ----> 36\n",
      "Vogal 'e' encontrada, na posição ----> 38\n",
      "Vogal 'e' encontrada, na posição ----> 42\n",
      "Vogal 'a' encontrada, na posição ----> 48\n",
      "Vogal 'a' encontrada, na posição ----> 51\n",
      "Vogal 'a' encontrada, na posição ----> 56\n",
      "Vogal 'a' encontrada, na posição ----> 61\n",
      "Vogal 'e' encontrada, na posição ----> 63\n",
      "Vogal 'a' encontrada, na posição ----> 65\n",
      "Vogal 'a' encontrada, na posição ----> 70\n",
      "Vogal 'e' encontrada, na posição ----> 73\n",
      "Vogal 'a' encontrada, na posição ----> 77\n",
      "Vogal 'a' encontrada, na posição ----> 80\n"
     ]
    }
   ],
   "source": [
    "texto = \"Devemos tomar cuidado com a diferença entre o quadrado da soma e a soma de quadrados.\"\n",
    "\n",
    "for i, letra in enumerate(texto):\n",
    "\n",
    "    if letra == 'a' or letra == 'e':\n",
    "\n",
    "        print(f\"Vogal '{letra}' encontrada, na posição ----> {i}\")\n",
    "\n",
    "    else:\n",
    "\n",
    "        continue\n"
   ]
  },
  {
   "attachments": {},
   "cell_type": "markdown",
   "metadata": {},
   "source": [
    "<p style=\" border-bottom:solid #c82f4b40 5px;\">"
   ]
  },
  {
   "attachments": {},
   "cell_type": "markdown",
   "metadata": {},
   "source": [
    "### <h3 style=\"text-align: center; color: #C82F4B; font-weight: 700;  border-bottom:solid #c82f4b40 5px;\">Funções</h3>"
   ]
  },
  {
   "attachments": {},
   "cell_type": "markdown",
   "metadata": {},
   "source": [
    "#### <h4 id=\"funcoes\" style=\"text-align: center; color: #C82F4B; font-weight: 700;\">Funções Built-in</h4>"
   ]
  },
  {
   "attachments": {},
   "cell_type": "markdown",
   "metadata": {},
   "source": [
    "<p style=\"text-align:center;\">Uma função built-in é um objeto que está integrado ao núcleo do interpretador, ou seja, <span style=\"color: #6890C3;\">não precisa ser feita nenhuma instalação adicional</span>, já está <span style=\"color: #6890C3;\">pronto para uso</span>.</p>"
   ]
  },
  {
   "attachments": {},
   "cell_type": "markdown",
   "metadata": {},
   "source": [
    "<style>\n",
    "*{\n",
    "    margin-left:auto; \n",
    "    margin-right:auto;\n",
    "}\n",
    "</style>\n",
    "\n",
    "| sintaxe | explicação |\n",
    "|------|-------|\n",
    "| abs() | Retorna o valor absoluto (módulo) de um número.    |\n",
    "| all() | Retorna True se todos os elementos em um iterável são verdadeiros ou se o iterável estiver vazio.    |\n",
    "| any() |Retorna True se pelo menos um elemento em um iterável for verdadeiro.|\n",
    "| ascii() |Retorna uma string contendo uma representação imprimível de um objeto, mas com caracteres não-ASCII escapados.|\n",
    "| bin() |Converte um número inteiro em uma string binária.|\n",
    "| bool() |Retorna o valor booleano de um objeto.|\n",
    "| breakpoint() |Causa a interrupção do código para fins de depuração.|\n",
    "| bytearray() |Retorna um objeto bytearray, que é uma sequência mutável de inteiros no intervalo 0 <= x < 256.|\n",
    "| bytes() |\tRetorna um objeto bytes, que é uma sequência imutável de inteiros no intervalo 0 <= x < 256.|\n",
    "| callable() |Retorna True se o objeto for \"chamável\", ou seja, se ele puder ser chamado como uma função.|\n",
    "| chr() |Retorna uma string representando um caractere Unicode cujo ponto de código é o inteiro passado como argumento.|\n",
    "| classmethod() |Transforma um método de uma classe em um método de classe.|\n",
    "| compile() |Compila o código-fonte em um objeto código ou retorna o código já compilado a partir de um objeto código anterior.|\n",
    "| complex() |Retorna um número complexo com o valor real + imag * 1j ou converte uma string ou número em um número complexo.|\n",
    "| delattr() |Deleta um atributo de um objeto, se possível.|\n",
    "| dict() |Retorna um dicionário (um mapeamento de chaves exclusivas para valores).|\n",
    "| dir() |Retorna uma lista de nomes de atributos e métodos válidos para o objeto fornecido.|\n",
    "| divmod() |Retorna o par (x // y, x % y).|\n",
    "| enumerate() |Retorna um objeto de enumeração, que consiste em pares (índice, valor) para cada valor em um iterável.|\n",
    "| eval() |(Perigosa!) Avalia uma string como expressão Python e retorna o resultado.|\n",
    "| exec() |Executa código Python dinamicamente.|\n",
    "| filter() |Retorna um iterador contendo os elementos do iterável para os quais a função de filtro retorna True.|\n",
    "| float() |Retorna um número de ponto flutuante construído a partir de um número ou string.|\n",
    "| format() |Formata um valor de acordo com um formato especificado em uma string de formatação.|\n",
    "| frozenset() |Retorna um novo conjunto imutável, contendo elementos únicos do iterável fornecido ou um conjunto vazio se nenhum iterável for fornecido.|\n",
    "| getattr() |Retorna o valor de um atributo de um objeto.|\n",
    "| globals() |Retorna um dicionário que representa o espaço de nomes global atual.|\n",
    "| hasattr() |Retorna True se um objeto tiver um determinado atributo.|\n",
    "| hash() |Retorna o valor hash de um objeto (um número inteiro).|\n",
    "| help() |Abre o sistema de ajuda interativo do Python.|\n",
    "| hex() |Converte um número inteiro em uma string hexadecimal.|\n",
    "| id() |Retorna o identificador único de um objeto.|\n",
    "| input() |Lê uma linha de entrada do usuário a partir do console e retorna uma string.|\n",
    "| int() | Converte um número ou string para um inteiro.|\n",
    "| isinstance() |Converte um número ou string para um inteiro.|\n",
    "| issubclass() |Verifica se uma classe é uma subclasse de outra.|\n",
    "| iter() |Retorna um iterador para um objeto.|\n",
    "| len() |Retorna o comprimento de um objeto.|\n",
    "| list() |Converte um objeto em uma lista.|\n",
    "| locals() |\tRetorna um dicionário com as variáveis locais atuais.|\n",
    "| map() |Aplica uma função a cada item de um objeto iterável.|\n",
    "| max() |\tRetorna o valor máximo de um objeto iterável ou argumentos.|\n",
    "| memoryview() |\tRetorna uma visão de memória de um objeto.|\n",
    "| min() |\tRetorna o valor mínimo de um objeto iterável ou argumentos.|\n",
    "| next() |\tRetorna o próximo item de um iterador.|\n",
    "| object() |Cria uma nova instância de objeto.|\n",
    "| oct() |Converte um inteiro em uma string octal.|\n",
    "| open() |Abre um arquivo e retorna um objeto arquivo.|\n",
    "| ord() |Retorna o valor inteiro do caractere Unicode.|\n",
    "| pow() |Retorna a potência de um número.|\n",
    "| print() |Imprime um objeto na saída padrão.|\n",
    "| property() |Cria uma propriedade para uma classe.|\n",
    "| range() |Cria uma sequência de números inteiros.|\n",
    "| repr() |Retorna a representação de string de um objeto.|\n",
    "| reversed() |Retorna uma sequência reversa de um objeto iterável.|\n",
    "| round() |Retorna um número arredondado.|\n",
    "| set() |Cria um objeto set.|\n",
    "| setattr() |Define o valor de um atributo de um objeto.|\n",
    "| slice() |Cria um objeto de fatia para acessar um subconjunto de uma sequência.|\n",
    "| sorted() |Retorna uma lista ordenada a partir de um objeto iterável.|\n",
    "| staticmethod() |\tTransforma um método em um método estático.|\n",
    "| str() |Converte um objeto para uma string.|\n",
    "| sum() |Retorna a soma de um objeto iterável.|\n",
    "| super() |Retorna um objeto proxy da classe pai.|\n",
    "| tuple() |Converte um objeto em uma tupla.|\n",
    "| type() |Retorna o tipo de um objeto ou cria uma nova classe.|\n",
    "| vars() |Retorna o dicionário de atributos de um objeto.|\n",
    "| zip() |Cria uma lista de tuplas, onde cada tupla contém um item de cada objeto iterável.|\n",
    "| import() |Importa um módulo.|\n"
   ]
  },
  {
   "attachments": {},
   "cell_type": "markdown",
   "metadata": {},
   "source": [
    "<p style=\" border-bottom:solid #c82f4b40 5px;\">"
   ]
  },
  {
   "attachments": {},
   "cell_type": "markdown",
   "metadata": {},
   "source": [
    "#### <h4 style=\"text-align: center; color: #C82F4B; font-weight: 700;\">Funções definida pelo usuário</h4>"
   ]
  },
  {
   "cell_type": "code",
   "execution_count": null,
   "metadata": {},
   "outputs": [
    {
     "name": "stdout",
     "output_type": "stream",
     "text": [
      "Função em Python desenvolvida na disciplina: Python, do curso: Engenharia de Software.\n"
     ]
    }
   ],
   "source": [
    "def imprimir_mensagem(disciplina, curso):\n",
    "\n",
    "    return f\"Função em Python desenvolvida na disciplina: {disciplina}, do curso: {curso}.\"\n",
    "\n",
    "\n",
    "resultado = imprimir_mensagem(\"Python\", \"Engenharia de Software\")\n",
    "print(resultado)\n"
   ]
  },
  {
   "attachments": {},
   "cell_type": "markdown",
   "metadata": {},
   "source": [
    "<p style=\" border-bottom:solid #c82f4b40 5px;\">"
   ]
  },
  {
   "attachments": {},
   "cell_type": "markdown",
   "metadata": {},
   "source": [
    "#### <h4 style=\"text-align: center; color: #C82F4B; font-weight: 700;\">Funções com parâmetros definidos e indefinidos</h4>"
   ]
  },
  {
   "attachments": {},
   "cell_type": "markdown",
   "metadata": {},
   "source": [
    "<p style=\"text-align:center;\"><span style=\"color: #6890C3;\">Posicional</span>: Se dependerem da ordem em que forem passados para identificar.<br><span style=\"color: #6890C3;\">Nominal</span>: Se dependem do nome para identificar.<br><span style=\"color: #6890C3;\">Obrigatoriedade</span>: Se os parâmetros forem obrigatórios.<br><span style=\"color: #6890C3;\">Default</span>: Se possui um valor padrão caso nada seja passado.</p>"
   ]
  },
  {
   "attachments": {},
   "cell_type": "markdown",
   "metadata": {},
   "source": [
    "<span style=\"color: #6890C3;\">parâmetro posicional não obrigatório</span>"
   ]
  },
  {
   "cell_type": "code",
   "execution_count": null,
   "metadata": {},
   "outputs": [
    {
     "name": "stdout",
     "output_type": "stream",
     "text": [
      "\n",
      "Chamada 1\n",
      "Quantidade de parâmetros = 4\n",
      "Posição = 0, valor = São Paulo\n",
      "Posição = 1, valor = 10\n",
      "Posição = 2, valor = 23.78\n",
      "Posição = 3, valor = João\n",
      "\n",
      "Chamada 2\n",
      "Quantidade de parâmetros = 2\n",
      "Posição = 0, valor = 10\n",
      "Posição = 1, valor = São Paulo\n"
     ]
    }
   ],
   "source": [
    "def imprimir_parametros(*args):\n",
    "\n",
    "    qtde_parametros = len(args)\n",
    "\n",
    "    print(f\"Quantidade de parâmetros = {qtde_parametros}\")\n",
    "\n",
    "    for i, valor in enumerate(args):\n",
    "\n",
    "        print(f\"Posição = {i}, valor = {valor}\")\n",
    "\n",
    "\n",
    "print(\"\\nChamada 1\")\n",
    "\n",
    "imprimir_parametros(\"São Paulo\", 10, 23.78, \"João\")\n",
    "\n",
    "\n",
    "print(\"\\nChamada 2\")\n",
    "\n",
    "imprimir_parametros(10, \"São Paulo\")\n"
   ]
  },
  {
   "attachments": {},
   "cell_type": "markdown",
   "metadata": {},
   "source": [
    "<span style=\"color: #6890C3;\">parâmetro posicional obrigatório sem valor default</span>"
   ]
  },
  {
   "cell_type": "code",
   "execution_count": 41,
   "metadata": {},
   "outputs": [
    {
     "name": "stdout",
     "output_type": "stream",
     "text": [
      "2.0\n"
     ]
    }
   ],
   "source": [
    "def dividir(a, b):\n",
    "\n",
    "    return a / b\n",
    "\n",
    "\n",
    "r = dividir(4, 2)\n",
    "\n",
    "print(r)\n"
   ]
  },
  {
   "attachments": {},
   "cell_type": "markdown",
   "metadata": {},
   "source": [
    "<span style=\"color: #6890C3;\">parâmetro posicional obrigatório com valor default</span>"
   ]
  },
  {
   "cell_type": "code",
   "execution_count": null,
   "metadata": {},
   "outputs": [
    {
     "name": "stdout",
     "output_type": "stream",
     "text": [
      "2.0\n"
     ]
    }
   ],
   "source": [
    "def dividir(a=4, b=2):\n",
    "\n",
    "    return a / b\n",
    "\n",
    "\n",
    "r = dividir()  # Veja que nada foi passado\n",
    "\n",
    "print(r)\n"
   ]
  },
  {
   "attachments": {},
   "cell_type": "markdown",
   "metadata": {},
   "source": [
    "<span style=\"color: #6890C3;\">parâmetro nominal não obrigatório</span>"
   ]
  },
  {
   "cell_type": "code",
   "execution_count": 44,
   "metadata": {},
   "outputs": [
    {
     "name": "stdout",
     "output_type": "stream",
     "text": [
      "\n",
      "Chamada 1\n",
      "Tipo de objeto recebido = <class 'dict'>\n",
      "\n",
      "Quantidade de parâmetros = 3\n",
      "variável = cidade, valor = São Paulo\n",
      "variável = idade, valor = 33\n",
      "variável = nome, valor = João\n",
      "\n",
      "Chamada 2\n",
      "Tipo de objeto recebido = <class 'dict'>\n",
      "\n",
      "Quantidade de parâmetros = 2\n",
      "variável = desconto, valor = 10\n",
      "variável = valor, valor = 100\n"
     ]
    }
   ],
   "source": [
    "def imprimir_parametros(**kwargs):\n",
    "\n",
    "    print(f\"Tipo de objeto recebido = {type(kwargs)}\\n\")\n",
    "\n",
    "    qtde_parametros = len(kwargs)\n",
    "\n",
    "    print(f\"Quantidade de parâmetros = {qtde_parametros}\")\n",
    "\n",
    "    for i, valor in kwargs.items():\n",
    "\n",
    "        print(f\"variável = {i}, valor = {valor}\")\n",
    "\n",
    "\n",
    "print(\"\\nChamada 1\")\n",
    "\n",
    "imprimir_parametros(cidade=\"São Paulo\", idade=33, nome=\"João\")\n",
    "\n",
    "\n",
    "print(\"\\nChamada 2\")\n",
    "\n",
    "imprimir_parametros(desconto=10, valor=100)\n"
   ]
  },
  {
   "attachments": {},
   "cell_type": "markdown",
   "metadata": {},
   "source": [
    "<span style=\"color: #6890C3;\">parâmetro nominal obrigatório sem valor default</span>"
   ]
  },
  {
   "cell_type": "code",
   "execution_count": 42,
   "metadata": {},
   "outputs": [
    {
     "name": "stdout",
     "output_type": "stream",
     "text": [
      "JOÃO\n"
     ]
    }
   ],
   "source": [
    "def converter_maiuscula(texto, flag_maiuscula):\n",
    "\n",
    "    if flag_maiuscula:\n",
    "\n",
    "        return texto.upper()\n",
    "\n",
    "    else:\n",
    "\n",
    "        return texto.lower()\n",
    "\n",
    "\n",
    "# Passagem nominal de parâmetros\n",
    "texto = converter_maiuscula(flag_maiuscula=True, texto=\"João\")\n",
    "\n",
    "print(texto)\n"
   ]
  },
  {
   "attachments": {},
   "cell_type": "markdown",
   "metadata": {},
   "source": [
    "<span style=\"color: #6890C3;\">parâmetro nominal obrigatório com valor default</span>"
   ]
  },
  {
   "cell_type": "code",
   "execution_count": 43,
   "metadata": {},
   "outputs": [
    {
     "name": "stdout",
     "output_type": "stream",
     "text": [
      "\n",
      "Texto 1 = linguagem de programação\n",
      "\n",
      "Texto 2 = linguagem de programação\n"
     ]
    }
   ],
   "source": [
    "# O parâmetro flag_minuscula possui True como valor default\n",
    "def converter_minuscula(texto, flag_minuscula=True):\n",
    "\n",
    "    if flag_minuscula:\n",
    "\n",
    "        return texto.lower()\n",
    "\n",
    "    else:\n",
    "\n",
    "        return texto.upper()\n",
    "\n",
    "\n",
    "texto1 = converter_minuscula(\n",
    "    flag_minuscula=True, texto=\"LINGUAGEM de Programação\")\n",
    "\n",
    "texto2 = converter_minuscula(texto=\"LINGUAGEM de Programação\")\n",
    "\n",
    "\n",
    "print(f\"\\nTexto 1 = {texto1}\")\n",
    "\n",
    "print(f\"\\nTexto 2 = {texto2}\")\n"
   ]
  },
  {
   "attachments": {},
   "cell_type": "markdown",
   "metadata": {},
   "source": [
    "<p style=\" border-bottom:solid #c82f4b40 5px;\">"
   ]
  },
  {
   "attachments": {},
   "cell_type": "markdown",
   "metadata": {},
   "source": [
    "#### <h4 style=\"text-align: center; color: #C82F4B; font-weight: 700;  border-bottom:solid #c82f4b40 5px;\">Funções anônimas</h4>"
   ]
  },
  {
   "attachments": {},
   "cell_type": "markdown",
   "metadata": {},
   "source": [
    "<p style=\"text-align:center;\">Expressões lambda (às vezes chamadas de <span style=\"color: #6890C3;\">formas</span> lambda) são usadas para criar <span style=\"color: #6890C3;\">funções anônimas</span>. Uma função anônima é uma função que <span style=\"color: #6890C3;\">não é construída com o \"def\"</span> e, por isso, <span style=\"color: #6890C3;\">não possui nome</span>. Esse tipo de construção <span style=\"color: #6890C3;\">é útil, quando a função faz somente uma ação</span> e é <span style=\"color: #6890C3;\">usada uma única vez</span>.</p>"
   ]
  },
  {
   "cell_type": "code",
   "execution_count": 46,
   "metadata": {},
   "outputs": [
    {
     "data": {
      "text/plain": [
       "5"
      ]
     },
     "execution_count": 46,
     "metadata": {},
     "output_type": "execute_result"
    }
   ],
   "source": [
    "(lambda x, y: x + y)(x=3, y=2)"
   ]
  },
  {
   "attachments": {},
   "cell_type": "markdown",
   "metadata": {},
   "source": [
    "A linguagem Python, nos permite <span style=\"color: #6890C3;\">atribuir a uma variável uma função anônima</span>, dessa forma, para invocar a função, fazemos a <span style=\"color: #6890C3;\">chamada da variável</span>. Observe o código a seguir:"
   ]
  },
  {
   "cell_type": "code",
   "execution_count": 47,
   "metadata": {},
   "outputs": [
    {
     "data": {
      "text/plain": [
       "8"
      ]
     },
     "execution_count": 47,
     "metadata": {},
     "output_type": "execute_result"
    }
   ],
   "source": [
    "somar = lambda x, y: x + y\n",
    "\n",
    "somar(x=5, y=3)"
   ]
  },
  {
   "attachments": {},
   "cell_type": "markdown",
   "metadata": {},
   "source": [
    "## <h2 style=\"text-align: center; color: #C82F4B; font-weight: 700; border-top: solid #c82f4b20 5px;\">Estruturas de Dados em Python</h2>"
   ]
  },
  {
   "attachments": {},
   "cell_type": "markdown",
   "metadata": {},
   "source": [
    "<p style=\"text-align:center;\">Em Python existem <span style=\"color: #6890C3;\">objetos em que podemos armazenar mais de um valor</span>, aos quais damos o nome de estrutura de dados.</p>"
   ]
  },
  {
   "attachments": {},
   "cell_type": "markdown",
   "metadata": {},
   "source": [
    "### <h3 style=\"text-align: center; color: #C82F4B; font-weight: 700;\">O que é Dados?</h3>"
   ]
  },
  {
   "attachments": {},
   "cell_type": "markdown",
   "metadata": {},
   "source": [
    "<p style=\"text-align:center;\"><span style=\"color: #C82F4B;\">Dados:</span> Em programação, um dado é uma <span style=\"color: #C82F4B;\">informação</span> que pode ser armazenada e manipulada por um programa.</p>"
   ]
  },
  {
   "attachments": {},
   "cell_type": "markdown",
   "metadata": {},
   "source": [
    "<p style=\"text-align:center; border-bottom:solid #c82f4b40 5px;\">Iniciamos este tópico ressaltando a citação:<br>\"Todos os <span style=\"color: #C82F4B;\">dados</span> em um programa Python são representados por <span style=\"color: #6890C3;\">objetos</span> ou pela <span style=\"color: #6890C3;\">relação entre objetos</span>.\" (PSF, p. 1, 2020a).<br>O que faz sentido, já que Pyton é uma linguagem orientada a objetos e nela tudo é objeto.</p>"
   ]
  },
  {
   "attachments": {},
   "cell_type": "markdown",
   "metadata": {},
   "source": [
    "### <h3 style=\"text-align: center; color: #C82F4B; font-weight: 700;\">Objetos em Python e comparações a outras linguagens.</h3>"
   ]
  },
  {
   "attachments": {},
   "cell_type": "markdown",
   "metadata": {},
   "source": [
    "<p style=\"text-align:center;\">Antes de tudo, vamos ressaltar que em Python o <span style=\"color: #6890C3;\">tipo</span> do objeto determina os <span style=\"color: #6890C3;\">valores</span> que ele pode armazenar e as <span style=\"color: #6890C3;\">operações</span> que podem ser feitas com tal estrutura.<br>Agora vamos a ressalvas comparativas:</p> "
   ]
  },
  {
   "attachments": {},
   "cell_type": "markdown",
   "metadata": {},
   "source": [
    "#### <h4 style=\"text-align: center; color: #C82F4B; font-weight: 700;\"><span style=\"color: #6890C3;\">Objetos</span> vs <span style=\"color: #5AA695;\">Variáveis primitivas</span></h4>"
   ]
  },
  {
   "attachments": {},
   "cell_type": "markdown",
   "metadata": {},
   "source": [
    "<p style=\"text-align:center;\">Já conhecemos alguns tipos de <span style=\"color: #6890C3;\">objetos</span> em Python, tais como o int (inteiro), o str (string), o float (ponto flutuante), tipos que nos lembram das <span style=\"color: #5AA695;\">variáveis primitivas de outras linguagens</span>, como C ou Java.<br>Um objeto pode ser <span style=\"color: #6890C3;\">mais complexo</span> que um tipo primitivo. Por exemplo, o tipo primitivo <span style=\"color: #5AA695;\">int</span>, na linguagem C, ocupa <span style=\"color: #5AA695;\">no máximo 4 bytes (32 bits)</span> e pode armazenar valores entre <span style=\"color: #5AA695;\">-2.147.483.648 e 2.147.483.647</span> . Já o objeto do tipo int, na linguagem Python, <span style=\"color: #6890C3;\">não possui um limite definido</span>, uma vez que fica <span style=\"color: #6890C3;\">limitado apenas à memória RAM</span> (random access memory) disponível no ambiente.</p>"
   ]
  },
  {
   "attachments": {},
   "cell_type": "markdown",
   "metadata": {},
   "source": [
    "#### <h4 style=\"text-align: center; color: #C82F4B; font-weight: 700;\"><span style=\"color: #6890C3;\">Classe str</span> vs <span style=\"color: #5AA695;\">Vetor char</span></h4>"
   ]
  },
  {
   "attachments": {},
   "cell_type": "markdown",
   "metadata": {},
   "source": [
    "<p style=\"text-align:center;\">Outro exemplo interessante é a classe (classe nada mais é que uma \"criadora\" de objetos) str (string). Em linguagem como a C, uma <span style=\"color: #5AA695;\">string é um vetor do tipo primitivo char</span>. Por sua vez, em Python, esse objeto, além de <span style=\"color: #6890C3;\">tamanho ilimitado</span>, possui <span style=\"color: #6890C3;\">vários métodos para manipulação de textos</span>, como o split(), o replace(), dentre outros.</p>"
   ]
  },
  {
   "attachments": {},
   "cell_type": "markdown",
   "metadata": {},
   "source": [
    "#### <h4 style=\"text-align: center; color: #C82F4B; font-weight: 700;\"><span style=\"color: #6890C3;\">Estrutura de Dados</span> vs <span style=\"color: #5AA695;\">Vetores</span></h4>"
   ]
  },
  {
   "attachments": {},
   "cell_type": "markdown",
   "metadata": {},
   "source": [
    "<p style=\"text-align:center;\">Em Python, existem várias <span style=\"color: #6890C3;\">estruturas de dados</span> que podem armazenar mais de um valor, como listas, tuplas, conjuntos e dicionários. Essas estruturas de dados são semelhantes aos <span style=\"color: #5AA695;\">vetores em C</span>, mas com algumas diferenças importantes:</p>"
   ]
  },
  {
   "attachments": {},
   "cell_type": "markdown",
   "metadata": {},
   "source": [
    "<p style=\"text-align:center;\">Uma diferença chave é que em Python, <span style=\"color: #6890C3;\">as listas podem crescer e diminuir dinamicamente</span>, enquanto em C, o <span style=\"color: #5AA695;\">tamanho de um vetor deve ser especificado no momento da declaração</span>. Além disso, em Python, as <span style=\"color: #6890C3;\">listas podem conter elementos de diferentes tipos de dados</span>, enquanto em C, um <span style=\"color: #5AA695;\">vetor deve conter elementos do mesmo tipo</span>.</p>"
   ]
  },
  {
   "attachments": {},
   "cell_type": "markdown",
   "metadata": {},
   "source": [
    "<p style=\" border-bottom:solid #c82f4b40 5px;\">"
   ]
  },
  {
   "attachments": {},
   "cell_type": "markdown",
   "metadata": {},
   "source": [
    "### <h3 style=\"text-align: center; color: #C82F4B; font-weight: 700;\">Tipos de Estrutura de Dados</h3>"
   ]
  },
  {
   "attachments": {},
   "cell_type": "markdown",
   "metadata": {},
   "source": [
    "<p style=\"text-align:center;\"><span style=\"color: #6890C3;\">Cada objeto</span> é capaz de armazenar <span style=\"color: #6890C3;\">um tipo</span> de estrutura de dados. Separamos, então, em <span style=\"color: #6890C3;\">grupos</span>:</p>"
   ]
  },
  {
   "attachments": {},
   "cell_type": "markdown",
   "metadata": {},
   "source": [
    "#### <h4 style=\"text-align: center; color: #C82F4B; font-weight: 700;\">Tipo sequência</h4>"
   ]
  },
  {
   "attachments": {},
   "cell_type": "markdown",
   "metadata": {},
   "source": [
    "<p style=\"text-align:center;\">Os objetos do tipo sequência são estruturas de dados <span style=\"color: #6890C3;\">capazes de armazenar mais de um valor</span>.<br>Essas estruturas de dados <span style=\"color: #6890C3;\">representam sequências finitas</span> indexadas por números não negativos.<br>O primeiro elemento de uma sequência ocupa o <span style=\"color: #6890C3;\">índice 0</span>; o segundo, 1; o último elemento, a posição n - 1, em que <span style=\"color: #6890C3;\">n é capacidade de armazenamento da sequência</span>.</p>"
   ]
  },
  {
   "attachments": {},
   "cell_type": "markdown",
   "metadata": {},
   "source": [
    "##### <h5 style=\"text-align: center; color: #C82F4B; font-weight: 700;\">Operações em comum</h5>"
   ]
  },
  {
   "attachments": {},
   "cell_type": "markdown",
   "metadata": {},
   "source": [
    "<p style=\"text-align:center;\">As estruturas de dados desse grupo possuem algumas operações em comum:</p>"
   ]
  },
  {
   "attachments": {},
   "cell_type": "markdown",
   "metadata": {},
   "source": [
    "###### <p><span style=\"color: #6890C3; font-size:25px;\">x in s</p>"
   ]
  },
  {
   "attachments": {},
   "cell_type": "markdown",
   "metadata": {},
   "source": [
    "<p>Usada para verificar se um determinado elemento 'x' <span style=\"color: #6890C3;\">é igual a algum outro em uma sequência</span> 's', retornando <span style=\"color: #6890C3;\">True ou False</span>.</p>"
   ]
  },
  {
   "cell_type": "code",
   "execution_count": null,
   "metadata": {},
   "outputs": [
    {
     "name": "stdout",
     "output_type": "stream",
     "text": [
      "O quinto elemento, que tem índice quatro, é o 6\n",
      "O elemento 6 está presente na lista\n"
     ]
    }
   ],
   "source": [
    "s = [1, 2, 3, 4, 5+1]  # originalmente não tinha 6\n",
    "# lembre que começa em 0\n",
    "print(f\"O quinto elemento, que tem índice quatro, é o {s[4]}\")\n",
    "x = 6\n",
    "if x in s:\n",
    "    print(\"O elemento\", x, \"está presente na lista\")\n",
    "else:\n",
    "    print(\"O elemento\", x, \"não está presente na lista\")\n"
   ]
  },
  {
   "attachments": {},
   "cell_type": "markdown",
   "metadata": {},
   "source": [
    "Veja que dizer \"ele verifica se x está em s\" <span style=\"color: #6890C3;\">é errôneo</span>, pois se fosse assim, o caso acima diria que não está presente."
   ]
  },
  {
   "attachments": {},
   "cell_type": "markdown",
   "metadata": {},
   "source": [
    "###### <p><span style=\"color: #6890C3; font-size:25px;\">s + t</p>"
   ]
  },
  {
   "attachments": {},
   "cell_type": "markdown",
   "metadata": {},
   "source": [
    "Contatena duas sequências."
   ]
  },
  {
   "cell_type": "code",
   "execution_count": null,
   "metadata": {},
   "outputs": [
    {
     "name": "stdout",
     "output_type": "stream",
     "text": [
      "[1, 2, 3, 4, 5, 6]\n",
      "Saudações, Rea!\n"
     ]
    }
   ],
   "source": [
    "s = [1, 2, 3]\n",
    "t = [4, 5, 6]\n",
    "r = s + t\n",
    "print(r)\n",
    "\n",
    "a = \"Saudações, \"\n",
    "b = \"Rea!\"\n",
    "c = a + b\n",
    "print(c)\n"
   ]
  },
  {
   "attachments": {},
   "cell_type": "markdown",
   "metadata": {},
   "source": [
    "###### <p><span style=\"color: #6890C3; font-size:25px;\">n * s</p>"
   ]
  },
  {
   "attachments": {},
   "cell_type": "markdown",
   "metadata": {},
   "source": [
    "Usada para criar uma nova sequência que consiste em 'n' cópias da sequência 's'."
   ]
  },
  {
   "cell_type": "code",
   "execution_count": null,
   "metadata": {},
   "outputs": [
    {
     "name": "stdout",
     "output_type": "stream",
     "text": [
      "Python Python \n",
      "[1, 2, 3, 1, 2, 3]\n"
     ]
    }
   ],
   "source": [
    "s = \"Python \"\n",
    "t = 2 * s\n",
    "print(t)\n",
    "\n",
    "a = [1, 2, 3]\n",
    "b = 2 * a\n",
    "print(b)\n"
   ]
  },
  {
   "attachments": {},
   "cell_type": "markdown",
   "metadata": {},
   "source": [
    "###### <p><span style=\"color: #6890C3; font-size:25px;\">s[i]</p>"
   ]
  },
  {
   "attachments": {},
   "cell_type": "markdown",
   "metadata": {},
   "source": [
    "Acessa o valor guardado na posição de índice <span style=\"color: #6890C3;\">i</span> na sequência."
   ]
  },
  {
   "cell_type": "code",
   "execution_count": null,
   "metadata": {},
   "outputs": [
    {
     "data": {
      "text/plain": [
       "3"
      ]
     },
     "execution_count": 25,
     "metadata": {},
     "output_type": "execute_result"
    }
   ],
   "source": [
    "s = [1, 2, 3, 4]\n",
    "s[2]  # lembre que começa com 0\n"
   ]
  },
  {
   "attachments": {},
   "cell_type": "markdown",
   "metadata": {},
   "source": [
    "###### <p><span style=\"color: #6890C3; font-size:25px;\">s[i:j]</p>"
   ]
  },
  {
   "attachments": {},
   "cell_type": "markdown",
   "metadata": {},
   "source": [
    "Acessa os valores da posição de índice <span style=\"color: #6890C3;\">i</span> até os de índice <span style=\"color: #6890C3;\">j</span>, sem incluir j."
   ]
  },
  {
   "cell_type": "code",
   "execution_count": null,
   "metadata": {},
   "outputs": [
    {
     "data": {
      "text/plain": [
       "[1, 2, 3]"
      ]
     },
     "execution_count": 27,
     "metadata": {},
     "output_type": "execute_result"
    }
   ],
   "source": [
    "s = [1, 2, 3, 4, 5]\n",
    "s[0:3]  # intervalo aberto em 3\n"
   ]
  },
  {
   "attachments": {},
   "cell_type": "markdown",
   "metadata": {},
   "source": [
    "###### <p><span style=\"color: #6890C3; font-size:25px;\">s[i:j:k]</p>"
   ]
  },
  {
   "attachments": {},
   "cell_type": "markdown",
   "metadata": {},
   "source": [
    "Acessa os valores da posição de índice <span style=\"color: #6890C3;\">i</span> até os de índice <span style=\"color: #6890C3;\">j</span> (sem incluir j), com passo <span style=\"color: #6890C3;\">k</span> (o último passo é inclusivo)."
   ]
  },
  {
   "cell_type": "code",
   "execution_count": null,
   "metadata": {},
   "outputs": [
    {
     "data": {
      "text/plain": [
       "[1, 4, 7, 10]"
      ]
     },
     "execution_count": 29,
     "metadata": {},
     "output_type": "execute_result"
    }
   ],
   "source": [
    "s = [1, 2, 3, 4, 5, 6, 7, 8, 9, 10]\n",
    "s[0:10:3]  # intervalo aberto em 10\n"
   ]
  },
  {
   "cell_type": "markdown",
   "metadata": {},
   "source": []
  },
  {
   "attachments": {},
   "cell_type": "markdown",
   "metadata": {},
   "source": [
    "###### <p><span style=\"color: #6890C3; font-size:25px;\">len(s)</p>"
   ]
  },
  {
   "attachments": {},
   "cell_type": "markdown",
   "metadata": {},
   "source": [
    "Comprimento de <span style=\"color: #6890C3;\">s</span>."
   ]
  },
  {
   "cell_type": "code",
   "execution_count": null,
   "metadata": {},
   "outputs": [
    {
     "name": "stdout",
     "output_type": "stream",
     "text": [
      "5\n"
     ]
    },
    {
     "data": {
      "text/plain": [
       "3"
      ]
     },
     "execution_count": 32,
     "metadata": {},
     "output_type": "execute_result"
    }
   ],
   "source": [
    "s = [1, 2, 3, 4, 5]\n",
    "print(len(s))\n",
    "\n",
    "r = \"Rea\"\n",
    "len(r)\n"
   ]
  },
  {
   "attachments": {},
   "cell_type": "markdown",
   "metadata": {},
   "source": [
    "###### <p><span style=\"color: #6890C3; font-size:25px;\">min(s)</p>"
   ]
  },
  {
   "attachments": {},
   "cell_type": "markdown",
   "metadata": {},
   "source": [
    "Menor valor de <span style=\"color: #6890C3;\">s</span>."
   ]
  },
  {
   "cell_type": "code",
   "execution_count": null,
   "metadata": {},
   "outputs": [
    {
     "name": "stdout",
     "output_type": "stream",
     "text": [
      "1\n"
     ]
    },
    {
     "data": {
      "text/plain": [
       "'a'"
      ]
     },
     "execution_count": 36,
     "metadata": {},
     "output_type": "execute_result"
    }
   ],
   "source": [
    "s = [1, 2, 3, 4, 5]\n",
    "print(min(s))\n",
    "\n",
    "r = \"rea\"\n",
    "min(r)\n"
   ]
  },
  {
   "attachments": {},
   "cell_type": "markdown",
   "metadata": {},
   "source": [
    "###### <p><span style=\"color: #6890C3; font-size:25px;\">max(s)</p>"
   ]
  },
  {
   "attachments": {},
   "cell_type": "markdown",
   "metadata": {},
   "source": [
    "Maior valor de <span style=\"color: #6890C3;\">s</span>."
   ]
  },
  {
   "cell_type": "code",
   "execution_count": null,
   "metadata": {},
   "outputs": [
    {
     "name": "stdout",
     "output_type": "stream",
     "text": [
      "5\n"
     ]
    },
    {
     "data": {
      "text/plain": [
       "'r'"
      ]
     },
     "execution_count": 37,
     "metadata": {},
     "output_type": "execute_result"
    }
   ],
   "source": [
    "s = [1, 2, 3, 4, 5]\n",
    "print(max(s))\n",
    "\n",
    "r = \"rea\"\n",
    "max(r)\n"
   ]
  },
  {
   "attachments": {},
   "cell_type": "markdown",
   "metadata": {},
   "source": [
    "###### <p><span style=\"color: #6890C3; font-size:25px;\">s.count(x)</p>"
   ]
  },
  {
   "attachments": {},
   "cell_type": "markdown",
   "metadata": {},
   "source": [
    "Número total de ocorrências de <span style=\"color: #6890C3;\">x</span> ter alguém igual em <span style=\"color: #6890C3;\">s</span>."
   ]
  },
  {
   "cell_type": "code",
   "execution_count": null,
   "metadata": {},
   "outputs": [
    {
     "name": "stdout",
     "output_type": "stream",
     "text": [
      "O quinto elemento, que tem índice quatro, é o 6\n"
     ]
    },
    {
     "data": {
      "text/plain": [
       "3"
      ]
     },
     "execution_count": 38,
     "metadata": {},
     "output_type": "execute_result"
    }
   ],
   "source": [
    "s = [1, 2, 3+3, 4+2, 5+1]  # originalmente não tinha 6\n",
    "# lembre que começa em 0\n",
    "print(f\"O quinto elemento, que tem índice quatro, é o {s[4]}\")\n",
    "x = 6\n",
    "s.count(x)\n"
   ]
  },
  {
   "attachments": {},
   "cell_type": "markdown",
   "metadata": {},
   "source": [
    "<p style=\" border-bottom:solid #c82f4b40 5px;\">"
   ]
  },
  {
   "attachments": {},
   "cell_type": "markdown",
   "metadata": {},
   "source": [
    "##### <h5 style=\"text-align: center; color: #C82F4B; font-weight: 700;\">Texto</h5>"
   ]
  },
  {
   "attachments": {},
   "cell_type": "markdown",
   "metadata": {},
   "source": [
    "<p style=\"text-align:center;\">Um texto é um <span style=\"color: #6890C3;\">objeto da classe str</span> (strings). São objetos imutáveis, <span style=\"color: #6890C3;\">não é possível atribuir um novo valor a uma posição específica</span>.<br>Eis algumas funções para este objeto:</p>"
   ]
  },
  {
   "attachments": {},
   "cell_type": "markdown",
   "metadata": {},
   "source": [
    "###### <p><span style=\"color: #6890C3; font-size:25px;\">lower()</p>"
   ]
  },
  {
   "attachments": {},
   "cell_type": "markdown",
   "metadata": {},
   "source": [
    "Passa o que tiver em maiúsculo para minúsculo."
   ]
  },
  {
   "cell_type": "code",
   "execution_count": null,
   "metadata": {},
   "outputs": [
    {
     "name": "stdout",
     "output_type": "stream",
     "text": [
      "rea\n"
     ]
    }
   ],
   "source": [
    "texto = \"REA\"\n",
    "print(texto.lower())\n"
   ]
  },
  {
   "attachments": {},
   "cell_type": "markdown",
   "metadata": {},
   "source": [
    "###### <p><span style=\"color: #6890C3; font-size:25px;\">upper()</p>"
   ]
  },
  {
   "attachments": {},
   "cell_type": "markdown",
   "metadata": {},
   "source": [
    "Passa o que tiver em minúsculo para maiúsculo."
   ]
  },
  {
   "cell_type": "code",
   "execution_count": null,
   "metadata": {},
   "outputs": [
    {
     "name": "stdout",
     "output_type": "stream",
     "text": [
      "REA\n"
     ]
    }
   ],
   "source": [
    "texto = \"rea\"\n",
    "print(texto.upper())\n"
   ]
  },
  {
   "attachments": {},
   "cell_type": "markdown",
   "metadata": {},
   "source": [
    "###### <p><span style=\"color: #6890C3; font-size:25px;\">replace()</p>"
   ]
  },
  {
   "attachments": {},
   "cell_type": "markdown",
   "metadata": {},
   "source": [
    "Substitui um caractere por outro."
   ]
  },
  {
   "cell_type": "code",
   "execution_count": null,
   "metadata": {},
   "outputs": [
    {
     "name": "stdout",
     "output_type": "stream",
     "text": [
      "Goroto\n"
     ]
    }
   ],
   "source": [
    "texto = \"Garota\"\n",
    "print(texto.replace(\"a\", 'o'))\n"
   ]
  },
  {
   "attachments": {},
   "cell_type": "markdown",
   "metadata": {},
   "source": [
    "###### <p><span style=\"color: #6890C3; font-size:25px;\">split()</p>"
   ]
  },
  {
   "attachments": {},
   "cell_type": "markdown",
   "metadata": {},
   "source": [
    "Usada para <span style=\"color: #6890C3;\">\"cortar\"</span> um texto e <span style=\"color: #6890C3;\">transformá-lo em uma lista</span>.<br>Essa função pode ser usada sem <span style=\"color: #6890C3;\">nenhum parâmetro</span>, nesse caso, a string será cortada a cada <span style=\"color: #6890C3;\">espaço em branco</span> que for encontrado.<br>Caso seja <span style=\"color: #6890C3;\">passado um parâmetro</span>, então o corte será <span style=\"color: #6890C3;\">feito no parâmetro</span> especificado."
   ]
  },
  {
   "cell_type": "code",
   "execution_count": null,
   "metadata": {},
   "outputs": [
    {
     "name": "stdout",
     "output_type": "stream",
     "text": [
      "texto = Aprendendo Python, na disciplina de linguagem de programação.\n",
      "Tamanho do texto = 61\n",
      "\n",
      "palavras = ['Aprendendo', 'Python,', 'na', 'disciplina', 'de', 'linguagem', 'de', 'programação.']\n",
      "Tamanho de palavras = 8\n",
      "\n",
      "partes = ['Aprendendo Python', ' na disciplina de linguagem de programação.']\n",
      "Tamanho das partes = 2\n"
     ]
    }
   ],
   "source": [
    "texto = \"Aprendendo Python, na disciplina de linguagem de programação.\"\n",
    "\n",
    "print(f\"texto = {texto}\")\n",
    "\n",
    "print(f\"Tamanho do texto = {len(texto)}\\n\")\n",
    "\n",
    "\n",
    "palavras = texto.split()\n",
    "\n",
    "print(f\"palavras = {palavras}\")\n",
    "\n",
    "print(f\"Tamanho de palavras = {len(palavras)}\\n\")\n",
    "\n",
    "\n",
    "# Aposto, em português, é a parte que explica um termo imediatamente citado.\n",
    "aposto = texto.split(\",\")\n",
    "\n",
    "print(f\"partes = {aposto}\")\n",
    "\n",
    "print(f\"Tamanho das partes = {len(aposto)}\")\n"
   ]
  },
  {
   "attachments": {},
   "cell_type": "markdown",
   "metadata": {},
   "source": [
    "<p style=\" border-bottom:solid #c82f4b40 5px;\">"
   ]
  },
  {
   "attachments": {},
   "cell_type": "markdown",
   "metadata": {},
   "source": [
    "##### <h5 style=\"text-align: center; color: #C82F4B; font-weight: 700;\">Listas</h5>"
   ]
  },
  {
   "attachments": {},
   "cell_type": "markdown",
   "metadata": {},
   "source": [
    "<p style=\"text-align:center;\">Lista é uma estrutura de dados do tipo <span style=\"color: #6890C3;\">sequencial</span> que possui como principal característica ser <span style=\"color: #6890C3;\">mutável</span>.</p>"
   ]
  },
  {
   "attachments": {},
   "cell_type": "markdown",
   "metadata": {},
   "source": [
    "###### <h6 style=\"text-align: center; color: #C82F4B; font-weight: 700; font-size:15px;\">Construção</span></h6>"
   ]
  },
  {
   "attachments": {},
   "cell_type": "markdown",
   "metadata": {},
   "source": [
    "<p style=\"text-align:center;\">Em Python, as listas podem ser construídas de várias maneiras:</p>"
   ]
  },
  {
   "attachments": {},
   "cell_type": "markdown",
   "metadata": {},
   "source": [
    "<span style=\"color: #6890C3;\">Lista vazia</span>:"
   ]
  },
  {
   "cell_type": "code",
   "execution_count": null,
   "metadata": {},
   "outputs": [],
   "source": [
    "lista = []\n"
   ]
  },
  {
   "attachments": {},
   "cell_type": "markdown",
   "metadata": {},
   "source": [
    "<span style=\"color: #6890C3;\">Elementos separados por vírgula</span>:"
   ]
  },
  {
   "cell_type": "code",
   "execution_count": null,
   "metadata": {},
   "outputs": [],
   "source": [
    "lista = ['a', 'b', 'c']\n"
   ]
  },
  {
   "attachments": {},
   "cell_type": "markdown",
   "metadata": {},
   "source": [
    "<span style=\"color: #6890C3;\">List comprehension</span>:"
   ]
  },
  {
   "attachments": {},
   "cell_type": "markdown",
   "metadata": {},
   "source": [
    "Forma pythônica de criar uma lista com base em um <span style=\"color: #6890C3;\">objeto iterável</span>. Esse tipo de técnica é utilizada quando, dada uma sequência, deseja-se criar uma nova sequência, porém com as informações originais transformadas ou filtradas por um critério."
   ]
  },
  {
   "cell_type": "code",
   "execution_count": null,
   "metadata": {},
   "outputs": [],
   "source": [
    "numeros = [1, 2, 3, 4, 5]\n",
    "quadrados = [x ** 2 for x in numeros]\n",
    "print(quadrados)\n"
   ]
  },
  {
   "cell_type": "code",
   "execution_count": null,
   "metadata": {},
   "outputs": [],
   "source": [
    "linguagens = [\"Python\", \"Java\", \"JavaScript\",\n",
    "              \"C\", \"C#\", \"C++\", \"Swift\", \"Go\", \"Kotlin\"]\n",
    "\n",
    "# linguagens = '''Python Java JavaScript C C# C++ Swift Go Kotlin'''.split() # Essa sintaxe produz o mesmo resultado que a linha 1\n",
    "\n",
    "\n",
    "print(\"Antes da listcomp = \", linguagens)\n",
    "\n",
    "\n",
    "linguagens = [item.lower() for item in linguagens]\n",
    "\n",
    "\n",
    "print(\"\\nDepois da listcomp = \", linguagens)\n"
   ]
  },
  {
   "cell_type": "code",
   "execution_count": null,
   "metadata": {},
   "outputs": [],
   "source": [
    "linguagens = '''Python Java JavaScript C C# C++ Swift Go Kotlin'''.split()\n",
    "\n",
    "print(\"Antes da listcomp = \", linguagens)\n",
    "\n",
    "\n",
    "for i, item in enumerate(linguagens):\n",
    "\n",
    "    linguagens[i] = item.lower()\n",
    "\n",
    "\n",
    "print(\"\\nDepois da listcomp = \", linguagens)\n"
   ]
  },
  {
   "attachments": {},
   "cell_type": "markdown",
   "metadata": {},
   "source": [
    "Podemos também fazer com que só o que tenha <span style=\"color: #6890C3;\">\"Java\"</span> no texto seja exibido."
   ]
  },
  {
   "cell_type": "code",
   "execution_count": null,
   "metadata": {},
   "outputs": [
    {
     "name": "stdout",
     "output_type": "stream",
     "text": [
      "['Java', 'JavaScript']\n"
     ]
    }
   ],
   "source": [
    "linguagens = '''Python Java JavaScript C C# C++ Swift Go Kotlin'''.split()\n",
    "\n",
    "\n",
    "linguagens_java = [item for item in linguagens if \"Java\" in item]\n",
    "\n",
    "\n",
    "print(linguagens_java)\n"
   ]
  },
  {
   "cell_type": "code",
   "execution_count": null,
   "metadata": {},
   "outputs": [],
   "source": [
    "linguagens = '''Python Java JavaScript C C# C++ Swift Go Kotlin'''.split()\n",
    "\n",
    "linguagens_java = []\n",
    "\n",
    "\n",
    "for item in linguagens:\n",
    "\n",
    "    if \"Java\" in item:\n",
    "\n",
    "        linguagens_java.append(item)\n",
    "\n",
    "\n",
    "print(linguagens_java)\n"
   ]
  },
  {
   "attachments": {},
   "cell_type": "markdown",
   "metadata": {},
   "source": [
    "<span style=\"color: #6890C3;\">Construtor de tipo</span>:"
   ]
  },
  {
   "attachments": {},
   "cell_type": "markdown",
   "metadata": {},
   "source": [
    "Pode ser útil em situações em que você precisa criar uma lista a partir de um objeto iterável ou converter outro tipo de objeto em uma lista entre outros. "
   ]
  },
  {
   "cell_type": "code",
   "execution_count": null,
   "metadata": {},
   "outputs": [],
   "source": [
    "my_list = list()\n",
    "print(my_list)\n"
   ]
  },
  {
   "attachments": {},
   "cell_type": "markdown",
   "metadata": {},
   "source": [
    "<p style=\" border-bottom:solid #c82f4b40 5px;\">"
   ]
  },
  {
   "attachments": {},
   "cell_type": "markdown",
   "metadata": {},
   "source": [
    "###### <h6 style=\"text-align: center; color: #C82F4B; font-weight: 700; font-size:15px;\">Função map()</span></h6>"
   ]
  },
  {
   "attachments": {},
   "cell_type": "markdown",
   "metadata": {},
   "source": [
    "<p style=\"text-align:center;\">A função map() é utilizada para <span style=\"color: #6890C3;\">aplicar uma determinada função em cada item de um objeto iterável</span>. Para que essa transformação seja feita, a função map() exige que sejam passados <span style=\"color: #6890C3;\">dois parâmetros</span>: a função e o objeto iterável.</p>"
   ]
  },
  {
   "attachments": {},
   "cell_type": "markdown",
   "metadata": {},
   "source": [
    "<p style=\"text-align:center;\">Devemos observar que se aplicarmos map() sem antes colocar em uma lista, por exemplo, com list(), a função map() <span style=\"color: #6890C3;\">retorna um iterador</span> como <<span style=\"font-size:80%;\">map object at 0x0000022E6F7CD0B8</span>>. Por conta disso devemos \"tratar\" este iterador.</p>"
   ]
  },
  {
   "attachments": {},
   "cell_type": "markdown",
   "metadata": {},
   "source": [
    "A palavra-chave <span style=\"color: #6890C3;\">lambda</span> em Python é usada para criar <span style=\"color: #6890C3;\">funções anônimas</span>, ou seja, funções que não possuem um nome associado a elas. Essas funções geralmente são definidas em linha, dentro do código que as utiliza. Essas funções geralmente são definidas em linha, dentro do código que as utiliza. Por exemplo, <span style=\"color: #6890C3;\">em vez de definir uma função separada para calcular o quadrado de um número, você pode usar uma função lambda para isso</scan>."
   ]
  },
  {
   "cell_type": "code",
   "execution_count": null,
   "metadata": {},
   "outputs": [],
   "source": [
    "numeros = [1, 2, 3, 4, 5]\n",
    "quadrados = list(map(lambda x: x**2, numeros))\n",
    "print(quadrados)\n"
   ]
  },
  {
   "cell_type": "code",
   "execution_count": null,
   "metadata": {},
   "outputs": [],
   "source": [
    "linguagens = '''Python Java JavaScript C C# C++ Swift Go Kotlin'''.split()\n",
    "\n",
    "\n",
    "nova_lista = list(map(lambda x: x.lower(), linguagens))\n",
    "print(f\"A nova lista é = {nova_lista}\\n\")\n"
   ]
  },
  {
   "attachments": {},
   "cell_type": "markdown",
   "metadata": {},
   "source": [
    "<p style=\" border-bottom:solid #c82f4b40 5px;\">"
   ]
  },
  {
   "attachments": {},
   "cell_type": "markdown",
   "metadata": {},
   "source": [
    "###### <h6 style=\"text-align: center; color: #C82F4B; font-weight: 700; font-size:15px;  border-bottom:solid #c82f4b40 5px;\">Função filter()</span></h6>"
   ]
  },
  {
   "attachments": {},
   "cell_type": "markdown",
   "metadata": {},
   "source": [
    "<p style=\"text-align:center;\">A função filter() tem as mesmas características da função map(), mas, em vez de usarmos uma função para transformar os valores da lista, nós a usamos para filtrar.</p>"
   ]
  },
  {
   "attachments": {},
   "cell_type": "markdown",
   "metadata": {},
   "source": [
    "<p style=\"text-align:center;\">Caso tenha dúvidas em relação ao list() e lambda, veja acima em \"função map\".</p>"
   ]
  },
  {
   "cell_type": "code",
   "execution_count": null,
   "metadata": {},
   "outputs": [],
   "source": [
    "# range() cria um objeto numérico iterável, quando junto com list, cria uma lista que inclui todo o intervalo (aberto no último)\n",
    "numeros = list(range(0, 21))\n",
    "\n",
    "numeros_pares = list(filter(lambda x: x % 2 == 0, numeros))\n",
    "\n",
    "\n",
    "print(numeros_pares)\n"
   ]
  },
  {
   "attachments": {},
   "cell_type": "markdown",
   "metadata": {},
   "source": [
    "<p style=\" border-bottom:solid #c82f4b40 5px;\">"
   ]
  },
  {
   "attachments": {},
   "cell_type": "markdown",
   "metadata": {},
   "source": [
    "##### <h5 style=\"text-align: center; color: #C82F4B; font-weight: 700;  border-bottom:solid #c82f4b40 5px;\">Tuplas</h5>"
   ]
  },
  {
   "attachments": {},
   "cell_type": "markdown",
   "metadata": {},
   "source": [
    "<p style=\"text-align:center;\">São objetos <span style=\"color: #6890C3;\">imutáveis</span>. Sua utilização ocorre em casos nos quais a <span style=\"color: #6890C3;\">ordem dos elementos é importante e não pode ser alterada</span>.</p>"
   ]
  },
  {
   "attachments": {},
   "cell_type": "markdown",
   "metadata": {},
   "source": [
    "###### <h6 style=\"text-align: center; color: #C82F4B; font-weight: 700; font-size:15px;  border-bottom:solid #c82f4b40 5px;\">Construção</span></h6>"
   ]
  },
  {
   "attachments": {},
   "cell_type": "markdown",
   "metadata": {},
   "source": [
    "<span style=\"color: #6890C3;\">Tupla vazia</span>:"
   ]
  },
  {
   "cell_type": "code",
   "execution_count": null,
   "metadata": {},
   "outputs": [],
   "source": [
    "tupla = ()\n"
   ]
  },
  {
   "attachments": {},
   "cell_type": "markdown",
   "metadata": {},
   "source": [
    "<span style=\"color: #6890C3;\">Separados por vírgulas</scan>:"
   ]
  },
  {
   "cell_type": "code",
   "execution_count": null,
   "metadata": {},
   "outputs": [],
   "source": [
    "tupla = ('a', 'b', 'c')\n"
   ]
  },
  {
   "attachments": {},
   "cell_type": "markdown",
   "metadata": {},
   "source": [
    "<span style=\"color: #6890C3;\">Construtor de tipo</span>:"
   ]
  },
  {
   "cell_type": "code",
   "execution_count": null,
   "metadata": {},
   "outputs": [],
   "source": [
    "# Criando uma tupla vazia\n",
    "tupla_vazia = tuple()\n",
    "print(tupla_vazia)  # Saída: ()\n",
    "\n",
    "# Criando uma tupla com alguns elementos\n",
    "tupla_frutas = tuple(['maçã', 'banana', 'laranja'])\n",
    "print(tupla_frutas)  # Saída: ('maçã', 'banana', 'laranja')\n",
    "\n",
    "# Criando uma tupla com um único elemento\n",
    "tupla_um_elemento = tuple(['chocolate'])\n",
    "print(tupla_um_elemento)  # Saída: ('chocolate',)\n",
    "\n",
    "# Criando uma tupla com diferentes tipos de dados\n",
    "tupla_mista = tuple(['texto', 42, True])\n",
    "print(tupla_mista)  # Saída: ('texto', 42, True)\n"
   ]
  },
  {
   "attachments": {},
   "cell_type": "markdown",
   "metadata": {},
   "source": [
    "<p style=\" border-bottom:solid #c82f4b40 5px;\">"
   ]
  },
  {
   "attachments": {},
   "cell_type": "markdown",
   "metadata": {},
   "source": [
    "#### <h4 style=\"text-align: center; color: #C82F4B; font-weight: 700;\">Tipo set (conjunto)</h4>"
   ]
  },
  {
   "attachments": {},
   "cell_type": "markdown",
   "metadata": {},
   "source": [
    "<p style=\"text-align:center;\">Um objeto do tipo set <span style=\"color: #6890C3;\">habilita operações matemáticas de conjuntos</span>, tais como: união, intersecção, diferença, etc. Esse tipo de estrutura pode ser usado, portanto, em <span style=\"color: #6890C3;\">testes de associação e remoção de valores duplicados de uma sequência</span> (PSF, 2020c).</p>"
   ]
  },
  {
   "attachments": {},
   "cell_type": "markdown",
   "metadata": {},
   "source": [
    "##### <h5 style=\"text-align: center; color: #C82F4B; font-weight: 700;\">Exemplo</h5>"
   ]
  },
  {
   "attachments": {},
   "cell_type": "markdown",
   "metadata": {},
   "source": [
    "Veja um exemplo disso neste código que verifica se o componente está funcionando para poder vendermos:"
   ]
  },
  {
   "cell_type": "code",
   "execution_count": 55,
   "metadata": {},
   "outputs": [
    {
     "name": "stdout",
     "output_type": "stream",
     "text": [
      "Foram verificados 23 componentes.\n",
      "\n",
      "4 componentes apresentaram defeito.\n",
      "\n",
      "Os componentes que podem ser vendidos são:\n",
      "memória ram\n",
      "gabinete\n",
      "mouse\n",
      "no-break\n",
      "estabilizador\n",
      "hub\n",
      "placa de vídeo\n",
      "microfone\n",
      "cooler\n",
      "impressora\n",
      "teclado\n",
      "dissipador de calor\n",
      "modem\n",
      "placa de captura\n",
      "caixas de som\n",
      "placa mãe\n",
      "cpu\n",
      "joystick\n",
      "webcam\n"
     ]
    }
   ],
   "source": [
    "def create_report():\n",
    "\n",
    "    componentes_verificados = set(['caixas de som', 'cooler', 'dissipador de calor', 'cpu', 'hd', 'estabilizador', 'gabinete', 'hub', 'impressora', 'joystick', 'memória ram',\n",
    "                                  'microfone', 'modem', 'monitor', 'mouse', 'no-break', 'placa de captura', 'placa de som', 'placa de vídeo', 'placa mãe', 'scanner', 'teclado', 'webcam'])\n",
    "\n",
    "    componentes_com_defeito = set(['hd', 'monitor', 'placa de som', 'scanner'])\n",
    "\n",
    "    qtde_componentes_verificados = len(componentes_verificados)\n",
    "\n",
    "    qtde_componentes_com_defeito = len(componentes_com_defeito)\n",
    "\n",
    "    componentes_ok = componentes_verificados.difference(\n",
    "        componentes_com_defeito)\n",
    "\n",
    "    print(f\"Foram verificados {qtde_componentes_verificados} componentes.\\n\")\n",
    "\n",
    "    print(f\"{qtde_componentes_com_defeito} componentes apresentaram defeito.\\n\")\n",
    "\n",
    "    print(\"Os componentes que podem ser vendidos são:\")\n",
    "\n",
    "    for item in componentes_ok:\n",
    "\n",
    "        print(item)\n",
    "\n",
    "\n",
    "create_report()\n"
   ]
  },
  {
   "attachments": {},
   "cell_type": "markdown",
   "metadata": {},
   "source": [
    "<p style=\" border-bottom:solid #c82f4b40 5px;\">"
   ]
  },
  {
   "attachments": {},
   "cell_type": "markdown",
   "metadata": {},
   "source": [
    "##### <h5 style=\"text-align: center; color: #C82F4B; font-weight: 700;\">Construção</h5>"
   ]
  },
  {
   "attachments": {},
   "cell_type": "markdown",
   "metadata": {},
   "source": [
    "<p>Perceba que desta vez <span style=\"color: #6890C3;\">não tem a construção vazia</span>, isso porque <span style=\"color: #6890C3;\">não é possível criar um set vazio</span>, com set = {}, <span style=\"color: #6890C3;\">pois essa é a forma de construção de um dicionário</span>.</p>"
   ]
  },
  {
   "attachments": {},
   "cell_type": "markdown",
   "metadata": {},
   "source": [
    "<span style=\"color: #6890C3;\">Separados por vírgulas</span>:"
   ]
  },
  {
   "cell_type": "code",
   "execution_count": null,
   "metadata": {},
   "outputs": [],
   "source": [
    "set = {'a', 'b', 'c'}  # {}\n"
   ]
  },
  {
   "attachments": {},
   "cell_type": "markdown",
   "metadata": {},
   "source": [
    "<span style=\"color: #6890C3;\">Construtor do tipo</span>:"
   ]
  },
  {
   "attachments": {},
   "cell_type": "markdown",
   "metadata": {},
   "source": [
    "Para construir com utilização da função <span style=\"color: #6890C3;\">set(iterable)</span>, obrigatoriamente <span style=\"color: #6890C3;\">temos de passar um objeto iterável</span> para ser transformado em conjunto. Esse objeto pode ser uma <span style=\"color: #6890C3;\">lista, uma tupla ou um texto</span>."
   ]
  },
  {
   "cell_type": "code",
   "execution_count": null,
   "metadata": {},
   "outputs": [],
   "source": [
    "meu_set = set([1, 2, 3, 4, 5])  # ()\n"
   ]
  },
  {
   "cell_type": "code",
   "execution_count": null,
   "metadata": {},
   "outputs": [],
   "source": [
    "vogais_1 = {'aeiou'}  # sem uso do construtor\n",
    "\n",
    "print(type(vogais_1), vogais_1)\n",
    "\n",
    "\n",
    "vogais_2 = set('aeiou')  # construtor com string\n",
    "\n",
    "print(type(vogais_2), vogais_2)\n",
    "\n",
    "\n",
    "vogais_3 = set(['a', 'e', 'i', 'o', 'u'])  # construtor com lista\n",
    "\n",
    "print(type(vogais_3), vogais_3)\n",
    "\n",
    "\n",
    "vogais_4 = set(('a', 'e', 'i', 'o', 'u'))  # construtor com tupla\n",
    "\n",
    "print(type(vogais_4), vogais_4)\n"
   ]
  },
  {
   "attachments": {},
   "cell_type": "markdown",
   "metadata": {},
   "source": [
    "<p style=\" border-bottom:solid #c82f4b40 5px;\">"
   ]
  },
  {
   "attachments": {},
   "cell_type": "markdown",
   "metadata": {},
   "source": [
    "##### <h5 style=\"text-align: center; color: #C82F4B; font-weight: 700;  border-bottom:solid #c82f4b40 5px;\">Operações</h5>"
   ]
  },
  {
   "attachments": {},
   "cell_type": "markdown",
   "metadata": {},
   "source": [
    "<p style=\"text-align:center;\">Das operações que já conhecemos sobre sequências, conseguimos <span style=\"color: #6890C3;\">aproveitar</span> nessa nova estrutura:<br>- len(s)<br>- x in s<br>- x not in s</p>"
   ]
  },
  {
   "attachments": {},
   "cell_type": "markdown",
   "metadata": {},
   "source": [
    "<p style=\"text-align:center;\">Por hora, para novas funções, <span style=\"color: #6890C3;\">deduza tudo que tem como fazer com conjuntos e pesquise como fazer isso em set</span>.<br>Podemos encontrar <span style=\"color: #6890C3;\">mais funções</span> em: https://docs.python.org/pt-br/3/library/stdtypes.html</p>"
   ]
  },
  {
   "attachments": {},
   "cell_type": "markdown",
   "metadata": {},
   "source": [
    "<p style=\" border-bottom:solid #c82f4b40 5px;\">"
   ]
  },
  {
   "attachments": {},
   "cell_type": "markdown",
   "metadata": {},
   "source": [
    "#### <h4 style=\"text-align: center; color: #C82F4B; font-weight: 700;  border-bottom:solid #c82f4b40 5px;\">Tipo mapping (dicionário)</h4>"
   ]
  },
  {
   "attachments": {},
   "cell_type": "markdown",
   "metadata": {},
   "source": [
    "<p style=\"text-align:center;\">As estruturas de dados que possuem um <span style=\"color: #6890C3;\">mapeamento entre uma chave e um valor</span> são consideradas objetos do tipo mapping.<br>Em Python, o objeto que possui essa propriedade é o <span style=\"color: #6890C3;\">dict (dicionário)</span>. Uma vez que esse objeto é <span style=\"color: #6890C3;\">mutável</span>, conseguimos atribuir um novo valor a uma chave já existente.</p>"
   ]
  },
  {
   "attachments": {},
   "cell_type": "markdown",
   "metadata": {},
   "source": [
    "##### <h5 style=\"text-align: center; color: #C82F4B; font-weight: 700;  border-bottom:solid #c82f4b40 5px;\">Construção</h5>"
   ]
  },
  {
   "attachments": {},
   "cell_type": "markdown",
   "metadata": {},
   "source": [
    "<span style=\"color: #6890C3;\">Dicionário vazio</span>:"
   ]
  },
  {
   "attachments": {},
   "cell_type": "markdown",
   "metadata": {},
   "source": [
    "Criação de dicionário vazio, com <span style=\"color: #6890C3;\">atribuição posterior</span> de chave e valor"
   ]
  },
  {
   "cell_type": "code",
   "execution_count": null,
   "metadata": {},
   "outputs": [],
   "source": [
    "dicionario = {}\n",
    "\n",
    "dicionario['nome'] = \"Rea\"\n",
    "\n",
    "dicionario['idade'] = 18\n",
    "\n",
    "print(dicionario)\n"
   ]
  },
  {
   "attachments": {},
   "cell_type": "markdown",
   "metadata": {},
   "source": [
    "<span style=\"color: #6890C3;\">Separado por vírgulas</span>:"
   ]
  },
  {
   "cell_type": "code",
   "execution_count": null,
   "metadata": {},
   "outputs": [],
   "source": [
    "dicionario = {'chave1': 1, 'chave2': 2, 'chave3': 3}\n"
   ]
  },
  {
   "attachments": {},
   "cell_type": "markdown",
   "metadata": {},
   "source": [
    "<span style=\"color: #6890C3;\">Construtor de tipo</span>:"
   ]
  },
  {
   "cell_type": "code",
   "execution_count": null,
   "metadata": {},
   "outputs": [],
   "source": [
    "dicionario = dict([('chave1', 1), ('chave2', 2), ('chave3', 3)])\n"
   ]
  },
  {
   "attachments": {},
   "cell_type": "markdown",
   "metadata": {},
   "source": [
    "<p style=\" border-bottom:solid #c82f4b40 5px;\">"
   ]
  },
  {
   "attachments": {},
   "cell_type": "markdown",
   "metadata": {},
   "source": [
    "### <h3 style=\"text-align: center; color: #C82F4B; font-weight: 700;  border-bottom:solid #c82f4b40 5px;\">Algoritmos de busca</h3>"
   ]
  },
  {
   "attachments": {},
   "cell_type": "markdown",
   "metadata": {},
   "source": [
    "<p style=\"text-align:center;\">Em Python, temos a operação <span style=\"color: #6890C3;\">\"in\"</span> ou \"not in\" usada para verificar se um valor está em uma sequência. Entretanto, <span style=\"color: #6890C3;\">quando utilizamos esses comandos, estamos sendo \"usuários\"</span> de um algoritmo que alguém escreveu e \"encapsulou\" neles. No entanto, como profissionais de tecnologia, <span style=\"color: #6890C3;\">precisamos saber o que está por trás do comando</span>.</p>"
   ]
  },
  {
   "attachments": {},
   "cell_type": "markdown",
   "metadata": {},
   "source": [
    "#### <h4 style=\"text-align: center; color: #C82F4B; font-weight: 700;\">Busca linear (ou sequencial)</h4>"
   ]
  },
  {
   "attachments": {},
   "cell_type": "markdown",
   "metadata": {},
   "source": [
    "<p style=\"text-align:center;\">Uma busca linear (ou exaustiva) simplesmente percorre todos os elementos da sequência procurando aquele de destino, <span style=\"color: #6890C3;\">o que pode ser muito custoso computacionalmente</span>.</p>"
   ]
  },
  {
   "attachments": {},
   "cell_type": "markdown",
   "metadata": {},
   "source": [
    "<p style=\"text-align:center;\">Para implementar a busca linear, vamos precisar de uma <span style=\"color: #6890C3;\">estrutura de repetição</span> (for) para percorrer a sequência, e uma <span style=\"color: #6890C3;\">estrutura de decisão</span> (if) para verificar se o valor em uma determinada posição é o que procuramos.</p>"
   ]
  },
  {
   "attachments": {},
   "cell_type": "markdown",
   "metadata": {},
   "source": [
    "## <h2 style=\"text-align: center; color: #C82F4B; font-weight: 700;  border-top: solid #c82f4b20 5px;\">Sintaxe e Códigos</h2>"
   ]
  },
  {
   "attachments": {},
   "cell_type": "markdown",
   "metadata": {},
   "source": [
    "<p style=\"text-align: center;\">Pode tratar-se tanto de <span style=\"color: #6890C3;\">exemplos práticos da sintaxe sobre algum tópico</span> específico do Python aplicados <span style=\"color: #6890C3;\">ou apenas códigos</span> que julguei necessário ou interessante de se guardar.</p>"
   ]
  },
  {
   "attachments": {},
   "cell_type": "markdown",
   "metadata": {},
   "source": [
    "### <h3 style=\"text-align: center; color: #C82F4B; font-weight: 700;\">De conteúdos específicos</h3>"
   ]
  },
  {
   "attachments": {},
   "cell_type": "markdown",
   "metadata": {},
   "source": [
    "#### <h4 style=\"text-align: center; color: #C82F4B; font-weight: 700;\">Textos</h4>"
   ]
  },
  {
   "attachments": {},
   "cell_type": "markdown",
   "metadata": {},
   "source": [
    "##### <h5 style=\"text-align: center; color: #C82F4B; font-weight: 700;background-color: #892be20c;\">Mostrando quantas vezes uma palavra aparece em um texto</h5>"
   ]
  },
  {
   "attachments": {},
   "cell_type": "markdown",
   "metadata": {},
   "source": [
    "<p style=\"text-align:center;\">Este software mostra quantas vezes apareceu a palavra <span style=\"color: #6890C3;\">\"string\"</span> no objeto <span style=\"color: #6890C3;\">\"texto\"</span>.</p>"
   ]
  },
  {
   "cell_type": "code",
   "execution_count": null,
   "metadata": {},
   "outputs": [],
   "source": [
    "texto = \"\"\"Operadores de String\n",
    "\n",
    "Python oferece operadores para processar texto (ou seja, valores de string).\n",
    "\n",
    "Assim como os números, as strings podem ser comparadas usando operadores de comparação:\n",
    "\n",
    "==, !=, <, > e assim por diante.\n",
    "\n",
    "O operador ==, por exemplo, retorna True se as strings nos dois lados do operador tiverem o mesmo valor (Perkovic, p. 23, 2016).\n",
    "\n",
    "\"\"\"\n",
    "\n",
    "print(f\"Tamanho do texto = {len(texto)}\")\n",
    "texto = texto.lower()\n",
    "\n",
    "\n",
    "texto = texto.replace(\",\", \"\").replace(\".\", \"\").replace(\n",
    "    \"(\", \"\").replace(\")\", \"\").replace(\"\\n\", \" \")\n",
    "lista_palavras = texto.split()\n",
    "\n",
    "\n",
    "print(f\"Tamanho da lista de palavras = {len(lista_palavras)}\")\n",
    "\n",
    "\n",
    "total = lista_palavras.count(\"string\") + lista_palavras.count(\"strings\")\n",
    "print(f\"Quantidade de vezes que string ou strings aparecem = {total}\")\n"
   ]
  },
  {
   "attachments": {},
   "cell_type": "markdown",
   "metadata": {},
   "source": [
    "<p style=\" border-bottom:solid #c82f4b40 5px;\">"
   ]
  },
  {
   "attachments": {},
   "cell_type": "markdown",
   "metadata": {},
   "source": [
    "#### <h4 style=\"text-align: center; color: #C82F4B; font-weight: 700;\">Listas</h4>"
   ]
  },
  {
   "attachments": {},
   "cell_type": "markdown",
   "metadata": {},
   "source": [
    "##### <h5 style=\"text-align: center; color: #C82F4B; font-weight: 700;background-color: #892be20c;\">Mostrando posição e valor em listas com \"for in\"</h5>"
   ]
  },
  {
   "attachments": {},
   "cell_type": "markdown",
   "metadata": {},
   "source": [
    "<p style=\"text-align:center;\">Estes softwares, a cada <span style=\"color: #6890C3;\">iteração do for</span>, mostram a <span style=\"color: #6890C3;\">posição e o valor</span> naquela posição, tudo isso <span style=\"color: #6890C3;\">relativo a uma lista</span>.</p>"
   ]
  },
  {
   "cell_type": "code",
   "execution_count": 56,
   "metadata": {},
   "outputs": [
    {
     "name": "stdout",
     "output_type": "stream",
     "text": [
      "Posição = 0, valor = a\n",
      "Posição = 1, valor = e\n",
      "Posição = 2, valor = i\n",
      "Posição = 3, valor = o\n",
      "Posição = 4, valor = u\n"
     ]
    }
   ],
   "source": [
    "vogais = ['a', 'e', 'i', 'o', 'u']\n",
    "\n",
    "\n",
    "for vogal in vogais:\n",
    "\n",
    "    # vogal vira o elemento dentro da lista vogais, e vai progredindo a cada iteração.\n",
    "    print(f'Posição = {vogais.index(vogal)}, valor = {vogal}')\n"
   ]
  },
  {
   "attachments": {},
   "cell_type": "markdown",
   "metadata": {},
   "source": [
    "Substituímos o contador manual (\"p\") pela função <span style=\"color: #6890C3;\">enumerate()</span>, que é usada para percorrer um objeto iterável retornando a posição e o valor. Por isso, na estrutura de repetição <span style=\"color: #6890C3;\">precisamos usar as variáves p e x</span>. A primeira guarda a posição e a segunda guarda o valor. Usamos o nome x propositalmente para que você perceba que o nome da variável é de livre escolha."
   ]
  },
  {
   "cell_type": "code",
   "execution_count": 57,
   "metadata": {},
   "outputs": [
    {
     "name": "stdout",
     "output_type": "stream",
     "text": [
      "Tipo do objeto vogais = <class 'list'>\n",
      "Posição = 0, valor = a\n",
      "Posição = 1, valor = e\n",
      "Posição = 2, valor = i\n",
      "Posição = 3, valor = o\n",
      "Posição = 4, valor = u\n"
     ]
    }
   ],
   "source": [
    "\n",
    "vogais = []\n",
    "\n",
    "print(f\"Tipo do objeto vogais = {type(vogais)}\")\n",
    "\n",
    "\n",
    "vogais.append('a')\n",
    "\n",
    "vogais.append('e')\n",
    "\n",
    "vogais.append('i')\n",
    "\n",
    "vogais.append('o')\n",
    "\n",
    "vogais.append('u')\n",
    "\n",
    "\n",
    "for p, x in enumerate(vogais):\n",
    "\n",
    "    print(f\"Posição = {p}, valor = {x}\")\n"
   ]
  },
  {
   "attachments": {},
   "cell_type": "markdown",
   "metadata": {},
   "source": [
    "<p style=\" border-bottom:solid #c82f4b40 5px;\">"
   ]
  },
  {
   "attachments": {},
   "cell_type": "markdown",
   "metadata": {},
   "source": [
    "##### <h5 style=\"text-align: center; color: #C82F4B; font-weight: 700;background-color: #892be20c;\">Mostrando algumas impressões interessantes em listas</h5>"
   ]
  },
  {
   "cell_type": "code",
   "execution_count": null,
   "metadata": {},
   "outputs": [],
   "source": [
    "frutas = [\"maça\", \"banana\", \"uva\", \"mamão\", \"maça\"]\n",
    "\n",
    "notas = [8.7, 5.2, 10, 3.5]\n",
    "\n",
    "\n",
    "print(\"maça\" in frutas)  # True\n",
    "\n",
    "print(\"abacate\" in frutas)  # False\n",
    "\n",
    "print(\"abacate\" not in frutas)  # True\n",
    "\n",
    "print(min(frutas))  # banana\n",
    "\n",
    "print(max(notas))  # 10\n",
    "\n",
    "print(frutas.count(\"maça\"))  # 2\n",
    "\n",
    "print(frutas.count(\"Maça\"))  # 0\n",
    "\n",
    "print(frutas + notas)\n",
    "\n",
    "print(2 * frutas)\n"
   ]
  },
  {
   "attachments": {},
   "cell_type": "markdown",
   "metadata": {},
   "source": [
    "<p style=\" border-bottom:solid #c82f4b40 5px;\">"
   ]
  },
  {
   "attachments": {},
   "cell_type": "markdown",
   "metadata": {},
   "source": [
    "##### <h5 style=\"text-align: center; color: #C82F4B; font-weight: 700;background-color: #892be20c;\">Testando algumas operações reservadas a sequência com listas</h5>"
   ]
  },
  {
   "cell_type": "code",
   "execution_count": null,
   "metadata": {},
   "outputs": [],
   "source": [
    "lista = ['Python', 30.61, \"Java\", 51, ['a', 'b', 20], \"maça\"]\n",
    "\n",
    "\n",
    "print(f\"Tamanho da lista = {len(lista)}\")  # 6\n",
    "\n",
    "\n",
    "for i, item in enumerate(lista):\n",
    "\n",
    "    print(\n",
    "        f\"Posição = {i},\\t valor = {item} -----------------> tipo individual = {type(item)}\")\n",
    "\n",
    "\n",
    "print(\"\\nExemplos de slices:\\n\")\n",
    "\n",
    "\n",
    "print(\"lista[1] = \", lista[1])\n",
    "\n",
    "print(\"lista[0:2] = \", lista[0:2])\n",
    "\n",
    "print(\"lista[:2] = \", lista[:2])\n",
    "\n",
    "print(\"lista[3:5] = \", lista[3:5])\n",
    "\n",
    "print(\"lista[3:6] = \", lista[3:6])\n",
    "\n",
    "print(\"lista[3:] = \", lista[3:])\n",
    "\n",
    "print(\"lista[-2] = \", lista[-2])\n",
    "\n",
    "print(\"lista[-1] = \", lista[-1])\n",
    "\n",
    "print(\"lista[4][1] = \", lista[4][1])\n"
   ]
  },
  {
   "attachments": {},
   "cell_type": "markdown",
   "metadata": {},
   "source": [
    "<p style=\" border-bottom:solid #c82f4b40 5px;\">"
   ]
  },
  {
   "attachments": {},
   "cell_type": "markdown",
   "metadata": {},
   "source": [
    "#### <h4 style=\"text-align: center; color: #C82F4B; font-weight: 700;\">Algoritmos de busca</h4>"
   ]
  },
  {
   "attachments": {},
   "cell_type": "markdown",
   "metadata": {},
   "source": [
    "<p style=\"text-align:center;\">Enquanto estudava acabei querendo testar desenvolver um software que <span style=\"color: #6890C3;\">gera listas randômicas</span> e faz uma verificação se nelas tem o número <span style=\"color: #6890C3;\">10</span> e onde tem pelo <span style=\"color: #6890C3;\">índice</span> (<span style=\"color: #6890C3;\">onde originalmente tinha</span> e <span style=\"color: #6890C3;\">onde terá já arrumado</span> em ordem numérica). O software também informa <span style=\"color: #6890C3;\">quantas iterações precisou fazer</span> para chegar em uma lista que tivesse o número 10.</p>"
   ]
  },
  {
   "cell_type": "code",
   "execution_count": 100,
   "metadata": {},
   "outputs": [
    {
     "name": "stdout",
     "output_type": "stream",
     "text": [
      "[4, 10, 26, 32, 37, 45, 104, 131, 142, 155, 168, 182, 209, 227, 230, 256, 282, 291, 293, 299, 353, 382, 394, 428, 447, 509, 514, 554, 560, 561, 576, 581, 589, 598, 600, 603, 635, 665, 674, 702, 718, 720, 734, 762, 790, 800, 835, 844, 948, 964]\n",
      "Possui, originalmente como index ---> 48\n",
      "Mas, agora que organizado, em ---> 1\n",
      "Foi necessário 68 iterações para gerar uma lista que tivesse.\n"
     ]
    }
   ],
   "source": [
    "def executar_busca_linear(lista, valor):\n",
    "\n",
    "    for elemento in lista:\n",
    "\n",
    "        if valor == elemento:\n",
    "\n",
    "            return True\n",
    "\n",
    "    return False\n",
    "\n",
    "\n",
    "import random\n",
    "\n",
    "lista = random.sample(range(1000), 50) #criamos uma lista de 50 valores com números inteiros randômicos que variam entre 0 e 1000\n",
    "\n",
    "resultado = executar_busca_linear(lista, 10) \n",
    "\n",
    "i = 0\n",
    "while resultado == False:\n",
    "    i = i + 1\n",
    "    executar_busca_linear(lista, 10)\n",
    "    lista = random.sample(range(1000), 50)\n",
    "    resultado = executar_busca_linear(lista, 10) \n",
    "\n",
    "if resultado == True:\n",
    "    print(sorted(lista))\n",
    "    print(f\"Possui, originalmente como index ---> {lista.index(10)}\")\n",
    "    lista = sorted(lista)\n",
    "    print(f\"Mas, agora que organizado, em ---> {lista.index(10)}\")\n",
    "    print(f\"Foi necessário {i} iterações para gerar uma lista que tivesse.\")\n",
    "else:\n",
    "    print(\"Não tem.\")"
   ]
  },
  {
   "attachments": {},
   "cell_type": "markdown",
   "metadata": {},
   "source": [
    "##### <h5 style=\"text-align: center; color: #C82F4B; font-weight: 700;background-color: #892be20c;\">Mostrando posição e valor em listas com \"for in\"</h5>"
   ]
  },
  {
   "cell_type": "code",
   "execution_count": null,
   "metadata": {},
   "outputs": [
    {
     "name": "stdout",
     "output_type": "stream",
     "text": [
      "Tipo do objeto vogais = <class 'tuple'>\n",
      "Posição = 0, valor = a\n",
      "Posição = 1, valor = e\n",
      "Posição = 2, valor = i\n",
      "Posição = 3, valor = o\n",
      "Posição = 4, valor = u\n"
     ]
    }
   ],
   "source": [
    "vogais = ('a', 'e', 'i', 'o', 'u')\n",
    "\n",
    "\n",
    "for p, x in enumerate(vogais):\n",
    "\n",
    "    print(f\"Posição = {p}, valor = {x}\")\n"
   ]
  },
  {
   "attachments": {},
   "cell_type": "markdown",
   "metadata": {},
   "source": [
    "<p style=\" border-bottom:solid #c82f4b40 5px;\">"
   ]
  },
  {
   "attachments": {},
   "cell_type": "markdown",
   "metadata": {},
   "source": [
    "### <h3 style=\"text-align: center; color: #C82F4B; font-weight: 700;  border-bottom:solid #c82f4b40 5px;\">Apenas códigos</h3>"
   ]
  },
  {
   "attachments": {},
   "cell_type": "markdown",
   "metadata": {},
   "source": [
    "#### <h4 style=\"text-align: center; color: #C82F4B; font-weight: 700;background-color: #892be20c;\">Inserção e impressão de valores</h4>"
   ]
  },
  {
   "cell_type": "markdown",
   "metadata": {},
   "source": [
    "<p style=\"text-align: center;\">Basicamente, fazemos usando o <span style=\"color: #6890C3;\">input</span> e podemos imprimir com <span style=\"color: #6890C3;\">print(f\"{}\")</span></p>"
   ]
  },
  {
   "cell_type": "code",
   "execution_count": 58,
   "metadata": {},
   "outputs": [
    {
     "name": "stdout",
     "output_type": "stream",
     "text": [
      "rea, é um prazer te conhecer!\n"
     ]
    }
   ],
   "source": [
    "nome = input(\"Qual o seu nome?: \")\n",
    "print(f\"{nome}, é um prazer te conhecer!\")\n"
   ]
  },
  {
   "attachments": {},
   "cell_type": "markdown",
   "metadata": {},
   "source": [
    "<p style=\" border-bottom:solid #c82f4b40 5px;\">"
   ]
  },
  {
   "attachments": {},
   "cell_type": "markdown",
   "metadata": {},
   "source": [
    "#### <h4 style=\"text-align: center; color: #C82F4B; font-weight: 700;background-color: #892be20c;\">Tratamento de variável</h4>"
   ]
  },
  {
   "cell_type": "markdown",
   "metadata": {},
   "source": [
    "<p style=\"text-align: center;\"><span style=\"color: #6890C3;\">Para explicar este tópico</span>, quis desenvolver um exemplo de software que te informa o f(x) do x dado na função dada.</p><p style=\"text-align: center;\">Este software tem <span style=\"color: #6890C3;\">diversos pontos de melhoria</span>, como a falta do uso de funções, vetores, estruturas de repetição, demonstração em gráfico, parte front e até mesmo solucionadores, mas a intenção deste software é apenas destacar na prática a importância de tratar variáveis quanto temos input(), que transforma em string aquilo que iremos querer que se comporte como número.</p>"
   ]
  },
  {
   "cell_type": "code",
   "execution_count": 59,
   "metadata": {},
   "outputs": [
    {
     "name": "stdout",
     "output_type": "stream",
     "text": [
      "O tipo era <class 'str'>\n",
      "Agora virou <class 'float'>\n",
      "f(2.0)=8.0\n"
     ]
    }
   ],
   "source": [
    "# \"a\" atribuído, mas está em str.\n",
    "a = input(\"Digite o valor do coeficiente a: \")\n",
    "print(f\"O tipo era {type(a)}\")\n",
    "\n",
    "a = float(a)  # agora que tratado, está em float.\n",
    "print(f\"Agora virou {type(a)}\")\n",
    "\n",
    "b = input(\"Digite o valor do coeficiente b: \")\n",
    "b = float(b)\n",
    "c = input(\"Digite o valor do termo idependente c: \")\n",
    "c = float(c)\n",
    "x = input(\"Digite o valor de x: \")\n",
    "x = float(x)\n",
    "y = a*x**2+b*x+c\n",
    "print(f\"f({x})={y}\")\n"
   ]
  },
  {
   "attachments": {},
   "cell_type": "markdown",
   "metadata": {},
   "source": [
    "<p style=\" border-bottom:solid #c82f4b40 5px;\">"
   ]
  },
  {
   "cell_type": "markdown",
   "metadata": {},
   "source": [
    "<p style=\"text-align:center;\">Este foi um exemplo prático, pois, caso não fosse tratada as variáveis, o código apresentaria um erro \"<span style=\"color: #6890C3;\">TypeError</span>\" ao ser executado.</p>"
   ]
  },
  {
   "attachments": {},
   "cell_type": "markdown",
   "metadata": {},
   "source": [
    "#### <h4 style=\"text-align: center; color: #C82F4B; font-weight: 700;background-color: #892be20c;  border-bottom:solid #c82f4b40 5px;\">Função do primeiro grau com <a style=\"text-decoration: underline; color: #C82F4B\" href=\"#funcoes\">eval()</a></h4>"
   ]
  },
  {
   "attachments": {},
   "cell_type": "markdown",
   "metadata": {},
   "source": [
    "<p style=\"text-align:center;\">A função eval() usada no código <span style=\"color: #6890C3;\">recebe como entrada uma string</span> (sequência de caracteres) digitada pelo usuário, que nesse caso é uma equação linear. Essa entrada é <span style=\"color: #6890C3;\">analisada e avaliada como uma expressão Python</span> pela função:</p>"
   ]
  },
  {
   "cell_type": "code",
   "execution_count": 60,
   "metadata": {},
   "outputs": [
    {
     "name": "stdout",
     "output_type": "stream",
     "text": [
      "\n",
      "A entrada do usuário 2*x+4 é do tipo <class 'str'>\n",
      "\n",
      "Resultado da equação para x = 0 é 4\n",
      "\n",
      "Resultado da equação para x = 1 é 6\n",
      "\n",
      "Resultado da equação para x = 2 é 8\n",
      "\n",
      "Resultado da equação para x = 3 é 10\n",
      "\n",
      "Resultado da equação para x = 4 é 12\n"
     ]
    }
   ],
   "source": [
    "equacao = input(\"Digite a fórmula geral da equação linear (a * x + b): \")\n",
    "\n",
    "print(f\"\\nA entrada do usuário {equacao} é do tipo {type(equacao)}\")\n",
    "\n",
    "\n",
    "for x in range(5):\n",
    "\n",
    "    y = eval(equacao)\n",
    "\n",
    "    print(f\"\\nResultado da equação para x = {x} é {y}\")\n"
   ]
  },
  {
   "attachments": {},
   "cell_type": "markdown",
   "metadata": {},
   "source": [
    "Entretanto, precisamos ressaltar que eval é uma instrução que requer prudência para o uso, pois é fácil alguém externo à aplicação fazer uma \"injection\" de código intruso."
   ]
  },
  {
   "attachments": {},
   "cell_type": "markdown",
   "metadata": {},
   "source": [
    "<p style=\" border-bottom:solid #c82f4b40 5px;\">"
   ]
  },
  {
   "attachments": {},
   "cell_type": "markdown",
   "metadata": {},
   "source": [
    "## <h2 style=\"text-align: center; color: #C82F4B; font-weight: 700;  border-top: solid #c82f4b20 5px;\">Campo de testes</h2>"
   ]
  }
 ],
 "metadata": {
  "kernelspec": {
   "display_name": "Python 3",
   "language": "python",
   "name": "python3"
  },
  "language_info": {
   "codemirror_mode": {
    "name": "ipython",
    "version": 3
   },
   "file_extension": ".py",
   "mimetype": "text/x-python",
   "name": "python",
   "nbconvert_exporter": "python",
   "pygments_lexer": "ipython3",
   "version": "3.11.3"
  },
  "orig_nbformat": 4
 },
 "nbformat": 4,
 "nbformat_minor": 2
}

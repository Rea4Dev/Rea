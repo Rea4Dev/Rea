{
 "cells": [
  {
   "attachments": {},
   "cell_type": "markdown",
   "metadata": {},
   "source": [
    "# <h1 style=\"text-align: center; color: #C82F4B; font-weight: 700;\">Python</h1>"
   ]
  },
  {
   "attachments": {},
   "cell_type": "markdown",
   "metadata": {},
   "source": [
    "<img src=\"../Jupyter/Imagens de Ilustração/fotor_2023-3-20_20_36_8.png\" alt=\"descrição da imagem\" width=\"900\" style=\"display: block; margin-left: auto; margin-right: auto;\">\n"
   ]
  },
  {
   "attachments": {},
   "cell_type": "markdown",
   "metadata": {},
   "source": [
    "## <h2 style=\"text-align: center; color: #C82F4B; font-weight: 700;\">Introdução à linguagem Python</h2>"
   ]
  },
  {
   "attachments": {},
   "cell_type": "markdown",
   "metadata": {},
   "source": [
    "### <h3 style=\"text-align: center; color: #C82F4B; font-weight: 700;\">História</h3>"
   ]
  },
  {
   "attachments": {},
   "cell_type": "markdown",
   "metadata": {},
   "source": [
    "Podemos separar o resumo da história do Python em quatro tópicos:\n",
    "1. O objetivo era ser o sucessor de uma linguagem chamada ABC.\n",
    "2. Criado no início dos anos 90 em CWI na Holanda, por Guido van Rossum (apesar de principal autor, houve muitas contribuições de outros pesquisadores).\n",
    "3. Em 95 Guido foi a CNRI na Virgínia, em 2000 na BeOpen onde formou a BeOpen PythonLabs (no mesmo ano, a equipe do PythonLabs mudou para a Digital Creations, agora Zope Corporation).\n",
    "4. Em 2001 foi formada a PSF (Python Software Foundation), uma organização sem fins lucrativos, criada especificamente para possuir a propriedade intelectual relacionada ao Python."
   ]
  },
  {
   "attachments": {},
   "cell_type": "markdown",
   "metadata": {},
   "source": [
    "### <h3 style=\"text-align: center; color: #C82F4B; font-weight: 700;\">Características</h3>"
   ]
  },
  {
   "attachments": {},
   "cell_type": "markdown",
   "metadata": {},
   "source": [
    "- É uma linguagem orientada a objetos, ou seja, tudo é objeto (por isso ao usarmos type() os tipos de dados aparecem com <class ' '>)."
   ]
  },
  {
   "cell_type": "code",
   "execution_count": null,
   "metadata": {},
   "outputs": [],
   "source": [
    "x=3\n",
    "print(type(x))"
   ]
  },
  {
   "attachments": {},
   "cell_type": "markdown",
   "metadata": {},
   "source": [
    "- Utiliza uma sintaxe elegante, facilitando a leitura dos programas.\n",
    "- Fácil de usar, ideal para desenvolvimento de protótipos e outras tarefas de programação ad-hoc, sem comprometer a manutenção.\n",
    "- Vem com uma grande biblioteca padrão que suporta muitas tarefas comuns de programação, como se conectar a servidores da Web, pesquisar texto com expressões regulares, ler e modificar arquivos.\n",
    "- Possui inúmeras bibliotecas que estender seu poder de atuação.\n",
    "- É uma linguagem interpretada, ou seja, uma vez escrito o código, este não precisa ser convertido em linguagem de máquina por um processo de compilação."
   ]
  },
  {
   "attachments": {},
   "cell_type": "markdown",
   "metadata": {},
   "source": [
    "- Permite atribuição múltipla. Podemos atribuir valores a mais de uma variável em uma única instrução, como:"
   ]
  },
  {
   "cell_type": "code",
   "execution_count": null,
   "metadata": {},
   "outputs": [],
   "source": [
    "x, y = 2, 4\n",
    "print(x)\n",
    "print(y)"
   ]
  },
  {
   "attachments": {},
   "cell_type": "markdown",
   "metadata": {},
   "source": [
    "- O interpretador Python 3 utiliza unicode por padrão, mas evite acentuações e caracteres especiais, por motivos de boa prática.\n",
    "- Um código que segue as regras do idioma Python é chamado de pythonic code.\n",
    "Caso queira as regras, referência e outras informações oficiais, veja o PEP8 ou a documentação iniciante. Menção honrosa também ao \"The Zen of Python\"."
   ]
  },
  {
   "attachments": {},
   "cell_type": "markdown",
   "metadata": {},
   "source": [
    "### <h3 style=\"text-align: center; color: #C82F4B; font-weight: 700;\">Variáveis</h3>"
   ]
  },
  {
   "attachments": {},
   "cell_type": "markdown",
   "metadata": {},
   "source": [
    "São espaços alocados na memória RAM para guardar valores temporariamente.\n",
    "Em Python, esses espaços não precisam ser tipados, ou seja, a variável pode ser alocada sem especificar o tipo de dado que ela aguardará. O interpretador Python é capaz de determinar o tipo de dado da variável com base no seu valor, ou seja, as variáveis são tipadas dinamicamente nessa linguagem."
   ]
  },
  {
   "attachments": {},
   "cell_type": "markdown",
   "metadata": {},
   "source": [
    "### <h3 style=\"text-align: center; color: #C82F4B; font-weight: 700;\">Operações em Python</h3>"
   ]
  },
  {
   "attachments": {},
   "cell_type": "markdown",
   "metadata": {},
   "source": [
    "<p style=\"text-align: center;\">Eis aqui as operações em Python que precisam ser destacadas:</p>"
   ]
  },
  {
   "attachments": {},
   "cell_type": "markdown",
   "metadata": {},
   "source": [
    "Quociente de x e y:"
   ]
  },
  {
   "cell_type": "code",
   "execution_count": 3,
   "metadata": {},
   "outputs": [
    {
     "name": "stdout",
     "output_type": "stream",
     "text": [
      "2.0\n"
     ]
    }
   ],
   "source": [
    "x, y= 4, 2\n",
    "print(x/y)"
   ]
  },
  {
   "attachments": {},
   "cell_type": "markdown",
   "metadata": {},
   "source": [
    "Parte inteira do quociente de x e y:"
   ]
  },
  {
   "cell_type": "code",
   "execution_count": 4,
   "metadata": {},
   "outputs": [
    {
     "name": "stdout",
     "output_type": "stream",
     "text": [
      "2\n"
     ]
    }
   ],
   "source": [
    "x, y= 4, 2\n",
    "print(x//y)"
   ]
  },
  {
   "attachments": {},
   "cell_type": "markdown",
   "metadata": {},
   "source": [
    "Resto de x e y:"
   ]
  },
  {
   "cell_type": "code",
   "execution_count": 5,
   "metadata": {},
   "outputs": [
    {
     "name": "stdout",
     "output_type": "stream",
     "text": [
      "0\n"
     ]
    }
   ],
   "source": [
    "x, y= 4, 2\n",
    "print(x%y)"
   ]
  },
  {
   "attachments": {},
   "cell_type": "markdown",
   "metadata": {},
   "source": [
    "Valor absoluto de x (módulo):"
   ]
  },
  {
   "cell_type": "code",
   "execution_count": 9,
   "metadata": {},
   "outputs": [
    {
     "name": "stdout",
     "output_type": "stream",
     "text": [
      "4\n"
     ]
    }
   ],
   "source": [
    "x = -4\n",
    "print(abs(x))"
   ]
  },
  {
   "attachments": {},
   "cell_type": "markdown",
   "metadata": {},
   "source": [
    "Exponenciação, x elevado a y:"
   ]
  },
  {
   "cell_type": "code",
   "execution_count": null,
   "metadata": {},
   "outputs": [],
   "source": [
    "x, y= 4, 2\n",
    "print(pow(x, y))\n",
    "print(x**y)"
   ]
  },
  {
   "attachments": {},
   "cell_type": "markdown",
   "metadata": {},
   "source": [
    "Como pode perceber, neste último, há duas formas de fazer a exponenciação."
   ]
  },
  {
   "attachments": {},
   "cell_type": "markdown",
   "metadata": {},
   "source": [
    "### <h3 style=\"text-align: center; color: #C82F4B; font-weight: 700; background-color:#e27a2b06;\">Sintaxe & Códigos</h3>"
   ]
  },
  {
   "attachments": {},
   "cell_type": "markdown",
   "metadata": {},
   "source": [
    "<p style=\"text-align: center;\">Pode tratar-se tanto de exemplos práticos da sintaxe do Python aplicados ou apenas códigos que julguei necessário ou interessante de se guardar.</p>"
   ]
  },
  {
   "attachments": {},
   "cell_type": "markdown",
   "metadata": {},
   "source": [
    "#### <h4 style=\"text-align: center; color: #C82F4B; font-weight: 700; background-color: #892be20c\">Inserção e impressão de valores</h4>"
   ]
  },
  {
   "attachments": {},
   "cell_type": "markdown",
   "metadata": {},
   "source": [
    "<p style=\"text-align: center;\">Basicamente, fazemos usando o input e podemos imprimir com print(f\"{}\")</p>"
   ]
  },
  {
   "cell_type": "code",
   "execution_count": 10,
   "metadata": {},
   "outputs": [
    {
     "name": "stdout",
     "output_type": "stream",
     "text": [
      "Renan, é um prazer te conhecer!\n"
     ]
    }
   ],
   "source": [
    "nome=input(\"Qual o seu nome?: \")\n",
    "print(f\"{nome}, é um prazer te conhecer!\")"
   ]
  },
  {
   "attachments": {},
   "cell_type": "markdown",
   "metadata": {},
   "source": [
    "#### <h4 style=\"text-align: center; color: #C82F4B; font-weight: 700; background-color: #892be20c;\">Tratamento de Variável</h4>"
   ]
  },
  {
   "attachments": {},
   "cell_type": "markdown",
   "metadata": {},
   "source": [
    "<p style=\"text-align: center;\">Quis desenvolver um exemplo de software que te informa o f(x) do x dado na função dada.</p><p style=\"text-align: center;\">Este software tem diversos pontos de melhoria, como a falta do uso de funções, vetores, estruturas de repetição, demonstração em gráfico, parte front e até mesmo solucionadores, mas a intenção deste software é apenas destacar na prática a importância de tratar variáveis quanto temos input(), que transforma em string aquilo que iremos querer que se comporte como número.</p>"
   ]
  },
  {
   "cell_type": "code",
   "execution_count": 20,
   "metadata": {},
   "outputs": [
    {
     "name": "stdout",
     "output_type": "stream",
     "text": [
      "O tipo era <class 'str'>\n",
      "Agora virou <class 'float'>\n",
      "f(2.0)=7.0\n"
     ]
    }
   ],
   "source": [
    "a = input(\"Digite o valor do coeficiente a: \") #\"a\" atribuído, mas está em str.\n",
    "print(f\"O tipo era {type(a)}\")\n",
    "\n",
    "a = float(a) #agora que tratado, está em float.\n",
    "print(f\"Agora virou {type(a)}\")\n",
    "\n",
    "b = input(\"Digite o valor do coeficiente b: \")\n",
    "b = float(b)\n",
    "c = input(\"Digite o valor do termo idependente c: \")\n",
    "c = float(c)\n",
    "x = input(\"Digite o valor de x: \")\n",
    "x = float(x)\n",
    "y = a*x**2+b*x+c\n",
    "print(f\"f({x})={y}\")"
   ]
  },
  {
   "attachments": {},
   "cell_type": "markdown",
   "metadata": {},
   "source": [
    "<p style=\"text-align:center;\">Este foi um exemplo prático, pois, caso não fosse tratada as variáveis, o código apresentaria um erro \"TypeError\" ao ser executado.</p>"
   ]
  }
 ],
 "metadata": {
  "kernelspec": {
   "display_name": "Python 3",
   "language": "python",
   "name": "python3"
  },
  "language_info": {
   "codemirror_mode": {
    "name": "ipython",
    "version": 3
   },
   "file_extension": ".py",
   "mimetype": "text/x-python",
   "name": "python",
   "nbconvert_exporter": "python",
   "pygments_lexer": "ipython3",
   "version": "3.11.3"
  },
  "orig_nbformat": 4
 },
 "nbformat": 4,
 "nbformat_minor": 2
}

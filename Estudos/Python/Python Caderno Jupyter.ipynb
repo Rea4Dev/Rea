{
 "cells": [
  {
   "attachments": {},
   "cell_type": "markdown",
   "metadata": {},
   "source": [
    "###### <p style=\"text-align:center; color:black; font-weight: 900;\">Caso esteja vendo no GitHub, provavelmente a cor estará irritante aos seus olhos. Isso por que esta página foi feita para ser exibido com o fundo escuro, assim como é no meu.</p>"
   ]
  },
  {
   "attachments": {},
   "cell_type": "markdown",
   "metadata": {},
   "source": [
    "<p style=\"font-size:35px; text-align:center;\">Bem vindo!</p><p style=\"text-align:center;\">Eu sou <span style=\"color: #6890C3;\">Rea</span> e este é meu caderno pessoal de estudos referentes ao meu Bacharel em Engenharia de Software, desta vez, sobre Python.<br><span style=\"color: #6890C3;\">Tudo aqui foi escrito unicamente por mim e pensado para mim</span>, assim sendo, <span style=\"color: #6890C3;\">caso não tenha um conceito ou outro é porque, para mim, já conheço e é trivial.</span>.</p>"
   ]
  },
  {
   "attachments": {},
   "cell_type": "markdown",
   "metadata": {},
   "source": [
    "# <h1 style=\"text-align: center; color: #C82F4B; font-weight: 700;\">Python</h1>"
   ]
  },
  {
   "attachments": {},
   "cell_type": "markdown",
   "metadata": {},
   "source": [
    "<img src=\"../Jupyter/Imagens de Ilustração/fotor_2023-3-20_20_36_8.png\" alt=\"descrição da imagem\" width=\"900\" style=\"display: block; margin-left: auto; margin-right: auto;\">\n"
   ]
  },
  {
   "attachments": {},
   "cell_type": "markdown",
   "metadata": {},
   "source": [
    "## <h2 style=\"text-align: center; color: #C82F4B; font-weight: 700;\">Introdução à linguagem Python</h2>"
   ]
  },
  {
   "attachments": {},
   "cell_type": "markdown",
   "metadata": {},
   "source": [
    "### <h3 style=\"text-align: center; color: #C82F4B; font-weight: 700;\">História</h3>"
   ]
  },
  {
   "attachments": {},
   "cell_type": "markdown",
   "metadata": {},
   "source": [
    "<p style=\"text-align: center;\">Podemos separar o resumo da história do Python em quatro tópicos:</p>"
   ]
  },
  {
   "attachments": {},
   "cell_type": "markdown",
   "metadata": {},
   "source": [
    "<p style=\"text-align:center;\"><span style=\"color:#C82F4B;\">1</span>. O objetivo era ser o <span style=\"color: #6890C3;\">sucessor</span> de uma linguagem chamada ABC.<br>\n",
    "<span style=\"color:#C82F4B;\">2.</span> Criado no início dos anos <span style=\"color: #6890C3;\">90 em CWI na Holanda</span>, por <span style=\"color: #6890C3;\">Guido van Rossum</span> (apesar de principal autor, houve muitas contribuições de outros pesquisadores).<br>\n",
    "<span style=\"color:#C82F4B;\">3.</span> Em 95 Guido foi a CNRI na Virgínia, em <span style=\"color: #6890C3;\">2000 na BeOpen</span> onde formou a <span style=\"color: #6890C3;\">BeOpen PythonLabs</span> (no mesmo ano, a equipe do PythonLabs mudou para a <span style=\"color: #6890C3;\">Digital Creations</span>, agora <span style=\"color: #6890C3;\">Zope Corporation</span>).<br>\n",
    "<span style=\"color:#C82F4B;\">4.</span> Em <span style=\"color: #6890C3;\">2001</span> foi formada a <span style=\"color: #6890C3;\">PSF</span> (<span style=\"color: #6890C3;\">Python Software Foundation</span>), uma organização sem fins lucrativos, criada especificamente para possuir a propriedade intelectual relacionada ao Python.</p>"
   ]
  },
  {
   "attachments": {},
   "cell_type": "markdown",
   "metadata": {},
   "source": [
    "### <h3 style=\"text-align: center; color: #C82F4B; font-weight: 700;\">Características</h3>"
   ]
  },
  {
   "attachments": {},
   "cell_type": "markdown",
   "metadata": {},
   "source": [
    "- É uma linguagem <span style=\"color: #6890C3;\">orientada a objetos</span>, ou seja, tudo é objeto (por isso ao usarmos type() os tipos de dados aparecem com <class ' '>)."
   ]
  },
  {
   "cell_type": "code",
   "execution_count": 1,
   "metadata": {},
   "outputs": [
    {
     "name": "stdout",
     "output_type": "stream",
     "text": [
      "<class 'int'>\n"
     ]
    }
   ],
   "source": [
    "x=3\n",
    "print(type(x))"
   ]
  },
  {
   "attachments": {},
   "cell_type": "markdown",
   "metadata": {},
   "source": [
    "- Utiliza uma sintaxe elegante, facilitando a leitura dos programas.\n",
    "- Fácil de usar, ideal para desenvolvimento de protótipos e outras tarefas de programação ad-hoc, sem comprometer a manutenção.\n",
    "- Vem com uma grande biblioteca padrão que suporta muitas tarefas comuns de programação, como se conectar a servidores da Web, pesquisar texto com expressões regulares, ler e modificar arquivos.\n",
    "- Possui inúmeras bibliotecas que estender seu poder de atuação.\n",
    "- É uma <span style=\"color: #6890C3;\">linguagem interpretada</span>, ou seja, uma vez escrito o código, este não precisa ser convertido em linguagem de máquina por um processo de compilação."
   ]
  },
  {
   "attachments": {},
   "cell_type": "markdown",
   "metadata": {},
   "source": [
    "- Permite atribuição múltipla. Podemos atribuir valores a mais de uma variável em uma única instrução, como:"
   ]
  },
  {
   "cell_type": "code",
   "execution_count": 2,
   "metadata": {},
   "outputs": [
    {
     "name": "stdout",
     "output_type": "stream",
     "text": [
      "2\n",
      "4\n"
     ]
    }
   ],
   "source": [
    "x, y = 2, 4\n",
    "print(x)\n",
    "print(y)"
   ]
  },
  {
   "attachments": {},
   "cell_type": "markdown",
   "metadata": {},
   "source": [
    "- O interpretador Python 3 utiliza <span style=\"color: #6890C3;\">unicode</span> por padrão, mas evite acentuações e caracteres especiais, por motivos de boa prática.\n",
    "- Um código que segue as regras do idioma Python é chamado de pythonic code.\n",
    "Caso queira as regras, referência e outras informações oficiais, veja o <span style=\"color: #6890C3;\">PEP8</span> ou a <span style=\"color: #6890C3;\">documentação iniciante</span>. Menção honrosa também ao \"<span style=\"color: #6890C3;\">The Zen of Python</span>\"."
   ]
  },
  {
   "attachments": {},
   "cell_type": "markdown",
   "metadata": {},
   "source": [
    "### <h3 style=\"text-align: center; color: #C82F4B; font-weight: 700;\">Variáveis</h3>"
   ]
  },
  {
   "attachments": {},
   "cell_type": "markdown",
   "metadata": {},
   "source": [
    "<p style=\"text-align:center;\">\n",
    "    São espaços alocados na memória RAM para guardar valores temporariamente.\n",
    "    Em Python, esses espaços <span style=\"color: #6890C3;\">não precisam ser tipados</span>, ou seja, a variável pode ser alocada sem especificar o tipo de dado que ela aguardará. O interpretador Python é capaz de determinar o tipo de dado da variável com base no seu valor, ou seja, as variáveis <span style=\"color: #6890C3;\">são tipadas dinamicamente</span> nessa linguagem.\n",
    "</p>"
   ]
  },
  {
   "attachments": {},
   "cell_type": "markdown",
   "metadata": {},
   "source": [
    "### <h3 style=\"text-align: center; color: #C82F4B; font-weight: 700;\">Operações em Python</h3>"
   ]
  },
  {
   "attachments": {},
   "cell_type": "markdown",
   "metadata": {},
   "source": [
    "<p style=\"text-align: center;\">Eis aqui as operações em Python que precisam ser destacadas:</p>"
   ]
  },
  {
   "attachments": {},
   "cell_type": "markdown",
   "metadata": {},
   "source": [
    "<span style=\"color: #6890C3;\">Quociente</span> de x e y:"
   ]
  },
  {
   "cell_type": "code",
   "execution_count": 3,
   "metadata": {},
   "outputs": [
    {
     "name": "stdout",
     "output_type": "stream",
     "text": [
      "2.0\n"
     ]
    }
   ],
   "source": [
    "x, y= 4, 2\n",
    "print(x/y)"
   ]
  },
  {
   "attachments": {},
   "cell_type": "markdown",
   "metadata": {},
   "source": [
    "<span style=\"color: #6890C3;\">Parte inteira</span> do quociente de x e y:"
   ]
  },
  {
   "cell_type": "code",
   "execution_count": 4,
   "metadata": {},
   "outputs": [
    {
     "name": "stdout",
     "output_type": "stream",
     "text": [
      "2\n"
     ]
    }
   ],
   "source": [
    "x, y= 4, 2\n",
    "print(x//y)"
   ]
  },
  {
   "attachments": {},
   "cell_type": "markdown",
   "metadata": {},
   "source": [
    "<span style=\"color: #6890C3;\">Resto</span> de x e y:"
   ]
  },
  {
   "cell_type": "code",
   "execution_count": 5,
   "metadata": {},
   "outputs": [
    {
     "name": "stdout",
     "output_type": "stream",
     "text": [
      "0\n"
     ]
    }
   ],
   "source": [
    "x, y= 4, 2\n",
    "print(x%y)"
   ]
  },
  {
   "attachments": {},
   "cell_type": "markdown",
   "metadata": {},
   "source": [
    "Valor absoluto de x (<span style=\"color: #6890C3;\">módulo</span>):"
   ]
  },
  {
   "cell_type": "code",
   "execution_count": 6,
   "metadata": {},
   "outputs": [
    {
     "name": "stdout",
     "output_type": "stream",
     "text": [
      "4\n"
     ]
    }
   ],
   "source": [
    "x = -4\n",
    "print(abs(x))"
   ]
  },
  {
   "attachments": {},
   "cell_type": "markdown",
   "metadata": {},
   "source": [
    "<span style=\"color: #6890C3;\">Exponenciação</span>, x elevado a y:"
   ]
  },
  {
   "cell_type": "code",
   "execution_count": 7,
   "metadata": {},
   "outputs": [
    {
     "name": "stdout",
     "output_type": "stream",
     "text": [
      "16\n",
      "16\n"
     ]
    }
   ],
   "source": [
    "x, y= 4, 2\n",
    "print(pow(x, y))\n",
    "print(x**y)"
   ]
  },
  {
   "attachments": {},
   "cell_type": "markdown",
   "metadata": {},
   "source": [
    "Como pode perceber, neste último, <span style=\"color: #6890C3;\">há duas formas</span> de fazer a exponenciação."
   ]
  },
  {
   "attachments": {},
   "cell_type": "markdown",
   "metadata": {},
   "source": [
    "### <h3 style=\"text-align: center; color: #C82F4B; font-weight: 700; background-color:#e27a2b06;\">Sintaxe & Códigos</h3>"
   ]
  },
  {
   "attachments": {},
   "cell_type": "markdown",
   "metadata": {},
   "source": [
    "<p style=\"text-align: center;\">Pode tratar-se tanto de exemplos práticos da sintaxe do Python aplicados ou apenas códigos que julguei necessário ou interessante de se guardar.</p>"
   ]
  },
  {
   "attachments": {},
   "cell_type": "markdown",
   "metadata": {},
   "source": [
    "#### <h4 style=\"text-align: center; color: #C82F4B; font-weight: 700; background-color: #892be20c\">Inserção e impressão de valores</h4>"
   ]
  },
  {
   "attachments": {},
   "cell_type": "markdown",
   "metadata": {},
   "source": [
    "<p style=\"text-align: center;\">Basicamente, fazemos usando o <span style=\"color: #6890C3;\">input</span> e podemos imprimir com <span style=\"color: #6890C3;\">print(f\"{}\")</span></p>"
   ]
  },
  {
   "cell_type": "code",
   "execution_count": 8,
   "metadata": {},
   "outputs": [
    {
     "name": "stdout",
     "output_type": "stream",
     "text": [
      "Rea, é um prazer te conhecer!\n"
     ]
    }
   ],
   "source": [
    "nome=input(\"Qual o seu nome?: \")\n",
    "print(f\"{nome}, é um prazer te conhecer!\")"
   ]
  },
  {
   "attachments": {},
   "cell_type": "markdown",
   "metadata": {},
   "source": [
    "#### <h4 style=\"text-align: center; color: #C82F4B; font-weight: 700; background-color: #892be20c;\">Tratamento de Variável</h4>"
   ]
  },
  {
   "attachments": {},
   "cell_type": "markdown",
   "metadata": {},
   "source": [
    "<p style=\"text-align: center;\"><span style=\"color: #6890C3;\">Para explicar este tópico</span>, quis desenvolver um exemplo de software que te informa o f(x) do x dado na função dada.</p><p style=\"text-align: center;\">Este software tem <span style=\"color: #6890C3;\">diversos pontos de melhoria</span>, como a falta do uso de funções, vetores, estruturas de repetição, demonstração em gráfico, parte front e até mesmo solucionadores, mas a intenção deste software é apenas destacar na prática a importância de tratar variáveis quanto temos input(), que transforma em string aquilo que iremos querer que se comporte como número.</p>"
   ]
  },
  {
   "cell_type": "code",
   "execution_count": 9,
   "metadata": {},
   "outputs": [
    {
     "name": "stdout",
     "output_type": "stream",
     "text": [
      "O tipo era <class 'str'>\n",
      "Agora virou <class 'float'>\n",
      "f(5.0)=37.0\n"
     ]
    }
   ],
   "source": [
    "a = input(\"Digite o valor do coeficiente a: \") #\"a\" atribuído, mas está em str.\n",
    "print(f\"O tipo era {type(a)}\")\n",
    "\n",
    "a = float(a) #agora que tratado, está em float.\n",
    "print(f\"Agora virou {type(a)}\")\n",
    "\n",
    "b = input(\"Digite o valor do coeficiente b: \")\n",
    "b = float(b)\n",
    "c = input(\"Digite o valor do termo idependente c: \")\n",
    "c = float(c)\n",
    "x = input(\"Digite o valor de x: \")\n",
    "x = float(x)\n",
    "y = a*x**2+b*x+c\n",
    "print(f\"f({x})={y}\")"
   ]
  },
  {
   "attachments": {},
   "cell_type": "markdown",
   "metadata": {},
   "source": [
    "<p style=\"text-align:center;\">Este foi um exemplo prático, pois, caso não fosse tratada as variáveis, o código apresentaria um erro \"<span style=\"color: #6890C3;\">TypeError</span>\" ao ser executado.</p>"
   ]
  },
  {
   "attachments": {},
   "cell_type": "markdown",
   "metadata": {},
   "source": [
    "## <h2 style=\"text-align: center; color: #C82F4B; font-weight: 700;\">Estruturas de Dados em Python</h2>"
   ]
  },
  {
   "attachments": {},
   "cell_type": "markdown",
   "metadata": {},
   "source": [
    "<p style=\"text-align:center;\">Em Python existem <span style=\"color: #6890C3;\">objetos em que podemos armazenar mais de um valor</span>, aos quais damos o nome de estrutura de dados.</p>"
   ]
  },
  {
   "attachments": {},
   "cell_type": "markdown",
   "metadata": {},
   "source": [
    "### <h3 style=\"text-align: center; color: #C82F4B; font-weight: 700;\">O que é Dados?</h3>"
   ]
  },
  {
   "attachments": {},
   "cell_type": "markdown",
   "metadata": {},
   "source": [
    "<p style=\"text-align:center;\"><span style=\"color: #C82F4B;\">Dados:</span> Em programação, um dado é uma <span style=\"color: #C82F4B;\">informação</span> que pode ser armazenada e manipulada por um programa.</p>"
   ]
  },
  {
   "attachments": {},
   "cell_type": "markdown",
   "metadata": {},
   "source": [
    "<p style=\"text-align:center;\">Iniciamos este tópico ressaltando a citação:<br>\"Todos os <span style=\"color: #C82F4B;\">dados</span> em um programa Python são representados por <span style=\"color: #6890C3;\">objetos</span> ou pela <span style=\"color: #6890C3;\">relação entre objetos</span>.\" (PSF, p. 1, 2020a).<br>O que faz sentido, já que Pyton é uma linguagem orientada a objetos e nela tudo é objeto.</p>"
   ]
  },
  {
   "attachments": {},
   "cell_type": "markdown",
   "metadata": {},
   "source": [
    "### <h3 style=\"text-align: center; color: #C82F4B; font-weight: 700;\">Objetos em Python e comparações a outras linguagens.</h3>"
   ]
  },
  {
   "attachments": {},
   "cell_type": "markdown",
   "metadata": {},
   "source": [
    "<p style=\"text-align:center;\">Antes de tudo, vamos ressaltar que em Python o <span style=\"color: #6890C3;\">tipo</span> do objeto determina os <span style=\"color: #6890C3;\">valores</span> que ele pode armazenar e as <span style=\"color: #6890C3;\">operações</span> que podem ser feitas com tal estrutura.<br>Agora vamos a ressalvas comparativas:</p> "
   ]
  },
  {
   "attachments": {},
   "cell_type": "markdown",
   "metadata": {},
   "source": [
    "#### <h4 style=\"text-align: center; color: #C82F4B; font-weight: 700;\"><span style=\"color: #6890C3;\">Objetos</span> vs <span style=\"color: #5AA695;\">Variáveis primitivas</span></h4>"
   ]
  },
  {
   "attachments": {},
   "cell_type": "markdown",
   "metadata": {},
   "source": [
    "<p style=\"text-align:center;\">Já conhecemos alguns tipos de <span style=\"color: #6890C3;\">objetos</span> em Python, tais como o int (inteiro), o str (string), o float (ponto flutuante), tipos que nos lembram das <span style=\"color: #5AA695;\">variáveis primitivas de outras linguagens</span>, como C ou Java.<br>Um objeto pode ser <span style=\"color: #6890C3;\">mais complexo</span> que um tipo primitivo. Por exemplo, o tipo primitivo <span style=\"color: #5AA695;\">int</span>, na linguagem C, ocupa <span style=\"color: #5AA695;\">no máximo 4 bytes (32 bits)</span> e pode armazenar valores entre <span style=\"color: #5AA695;\">-2.147.483.648 e 2.147.483.647</span> . Já o objeto do tipo int, na linguagem Python, <span style=\"color: #6890C3;\">não possui um limite definido</span>, uma vez que fica <span style=\"color: #6890C3;\">limitado apenas à memória RAM</span> (random access memory) disponível no ambiente.</p>"
   ]
  },
  {
   "attachments": {},
   "cell_type": "markdown",
   "metadata": {},
   "source": [
    "#### <h4 style=\"text-align: center; color: #C82F4B; font-weight: 700;\"><span style=\"color: #6890C3;\">Classe str</span> vs <span style=\"color: #5AA695;\">Vetor char</span></h4>"
   ]
  },
  {
   "attachments": {},
   "cell_type": "markdown",
   "metadata": {},
   "source": [
    "<p style=\"text-align:center;\">Outro exemplo interessante é a classe (classe nada mais é que uma \"criadora\" de objetos) str (string). Em linguagem como a C, uma <span style=\"color: #5AA695;\">string é um vetor do tipo primitivo char</span>. Por sua vez, em Python, esse objeto, além de <span style=\"color: #6890C3;\">tamanho ilimitado</span>, possui <span style=\"color: #6890C3;\">vários métodos para manipulação de textos</span>, como o split(), o replace(), dentre outros.</p>"
   ]
  },
  {
   "attachments": {},
   "cell_type": "markdown",
   "metadata": {},
   "source": [
    "#### <h4 style=\"text-align: center; color: #C82F4B; font-weight: 700;\"><span style=\"color: #6890C3;\">Estrutura de Dados</span> vs <span style=\"color: #5AA695;\">Vetores</span></h4>"
   ]
  },
  {
   "attachments": {},
   "cell_type": "markdown",
   "metadata": {},
   "source": [
    "<p style=\"text-align:center;\">Em Python, existem várias <span style=\"color: #6890C3;\">estruturas de dados</span> que podem armazenar mais de um valor, como listas, tuplas, conjuntos e dicionários. Essas estruturas de dados são semelhantes aos <span style=\"color: #5AA695;\">vetores em C</span>, mas com algumas diferenças importantes:</p>"
   ]
  },
  {
   "attachments": {},
   "cell_type": "markdown",
   "metadata": {},
   "source": [
    "<p style=\"text-align:center;\">Uma diferença chave é que em Python, <span style=\"color: #6890C3;\">as listas podem crescer e diminuir dinamicamente</span>, enquanto em C, o <span style=\"color: #5AA695;\">tamanho de um vetor deve ser especificado no momento da declaração</span>. Além disso, em Python, as <span style=\"color: #6890C3;\">listas podem conter elementos de diferentes tipos de dados</span>, enquanto em C, um <span style=\"color: #5AA695;\">vetor deve conter elementos do mesmo tipo</span>.</p>"
   ]
  }
 ],
 "metadata": {
  "kernelspec": {
   "display_name": "Python 3",
   "language": "python",
   "name": "python3"
  },
  "language_info": {
   "codemirror_mode": {
    "name": "ipython",
    "version": 3
   },
   "file_extension": ".py",
   "mimetype": "text/x-python",
   "name": "python",
   "nbconvert_exporter": "python",
   "pygments_lexer": "ipython3",
   "version": "3.11.3"
  },
  "orig_nbformat": 4
 },
 "nbformat": 4,
 "nbformat_minor": 2
}

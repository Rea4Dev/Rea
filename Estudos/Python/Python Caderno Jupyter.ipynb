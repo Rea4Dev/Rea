{
 "cells": [
  {
   "attachments": {},
   "cell_type": "markdown",
   "metadata": {},
   "source": [
    "# <h1 style=\"text-align: center; color: #C82F4B; font-weight: 700;\">Python</h1>"
   ]
  },
  {
   "attachments": {},
   "cell_type": "markdown",
   "metadata": {},
   "source": [
    "<img src=\"../Jupyter/Imagens de Ilustração/fotor_2023-3-20_20_36_8.png\" alt=\"descrição da imagem\" width=\"900\" style=\"display: block; margin-left: auto; margin-right: auto;\">\n"
   ]
  },
  {
   "attachments": {},
   "cell_type": "markdown",
   "metadata": {},
   "source": [
    "## <h2 style=\"text-align: center; color: #C82F4B; font-weight: 700;\">Introdução à linguagem Python</h2>"
   ]
  },
  {
   "attachments": {},
   "cell_type": "markdown",
   "metadata": {},
   "source": [
    "### <h3 style=\"text-align: center; color: #C82F4B; font-weight: 700;\">História</h3>"
   ]
  },
  {
   "attachments": {},
   "cell_type": "markdown",
   "metadata": {},
   "source": [
    "<p style=\"text-align: center;\">Podemos separar o resumo da história do Python em quatro tópicos:</p>"
   ]
  },
  {
   "attachments": {},
   "cell_type": "markdown",
   "metadata": {},
   "source": [
    "<p style=\"text-align:center;\"><span style=\"color:#C82F4B;\">1</span>. O objetivo era ser o <span style=\"color: #6890C3;\">sucessor</span> de uma linguagem chamada ABC.<br>\n",
    "<span style=\"color:#C82F4B;\">2.</span> Criado no início dos anos <span style=\"color: #6890C3;\">90 em CWI na Holanda</span>, por <span style=\"color: #6890C3;\">Guido van Rossum</span> (apesar de principal autor, houve muitas contribuições de outros pesquisadores).<br>\n",
    "<span style=\"color:#C82F4B;\">3.</span> Em 95 Guido foi a CNRI na Virgínia, em <span style=\"color: #6890C3;\">2000 na BeOpen</span> onde formou a <span style=\"color: #6890C3;\">BeOpen PythonLabs</span> (no mesmo ano, a equipe do PythonLabs mudou para a <span style=\"color: #6890C3;\">Digital Creations</span>, agora <span style=\"color: #6890C3;\">Zope Corporation</span>).<br>\n",
    "<span style=\"color:#C82F4B;\">4.</span> Em <span style=\"color: #6890C3;\">2001</span> foi formada a <span style=\"color: #6890C3;\">PSF</span> (<span style=\"color: #6890C3;\">Python Software Foundation</span>), uma organização sem fins lucrativos, criada especificamente para possuir a propriedade intelectual relacionada ao Python.</p>"
   ]
  },
  {
   "attachments": {},
   "cell_type": "markdown",
   "metadata": {},
   "source": [
    "### <h3 style=\"text-align: center; color: #C82F4B; font-weight: 700;\">Características</h3>"
   ]
  },
  {
   "attachments": {},
   "cell_type": "markdown",
   "metadata": {},
   "source": [
    "- É uma linguagem <span style=\"color: #6890C3;\">orientada a objetos</span>, ou seja, tudo é objeto (por isso ao usarmos type() os tipos de dados aparecem com <class ' '>)."
   ]
  },
  {
   "cell_type": "code",
   "execution_count": 1,
   "metadata": {},
   "outputs": [
    {
     "name": "stdout",
     "output_type": "stream",
     "text": [
      "<class 'int'>\n"
     ]
    }
   ],
   "source": [
    "x=3\n",
    "print(type(x))"
   ]
  },
  {
   "attachments": {},
   "cell_type": "markdown",
   "metadata": {},
   "source": [
    "- Utiliza uma sintaxe elegante, facilitando a leitura dos programas.\n",
    "- Fácil de usar, ideal para desenvolvimento de protótipos e outras tarefas de programação ad-hoc, sem comprometer a manutenção.\n",
    "- Vem com uma grande biblioteca padrão que suporta muitas tarefas comuns de programação, como se conectar a servidores da Web, pesquisar texto com expressões regulares, ler e modificar arquivos.\n",
    "- Possui inúmeras bibliotecas que estender seu poder de atuação.\n",
    "- É uma <span style=\"color: #6890C3;\">linguagem interpretada</span>, ou seja, uma vez escrito o código, este não precisa ser convertido em linguagem de máquina por um processo de compilação."
   ]
  },
  {
   "attachments": {},
   "cell_type": "markdown",
   "metadata": {},
   "source": [
    "- Permite atribuição múltipla. Podemos atribuir valores a mais de uma variável em uma única instrução, como:"
   ]
  },
  {
   "cell_type": "code",
   "execution_count": 2,
   "metadata": {},
   "outputs": [
    {
     "name": "stdout",
     "output_type": "stream",
     "text": [
      "2\n",
      "4\n"
     ]
    }
   ],
   "source": [
    "x, y = 2, 4\n",
    "print(x)\n",
    "print(y)"
   ]
  },
  {
   "attachments": {},
   "cell_type": "markdown",
   "metadata": {},
   "source": [
    "- O interpretador Python 3 utiliza <span style=\"color: #6890C3;\">unicode</span> por padrão, mas evite acentuações e caracteres especiais, por motivos de boa prática.\n",
    "- Um código que segue as regras do idioma Python é chamado de pythonic code.\n",
    "Caso queira as regras, referência e outras informações oficiais, veja o <span style=\"color: #6890C3;\">PEP8</span> ou a <span style=\"color: #6890C3;\">documentação iniciante</span>. Menção honrosa também ao \"<span style=\"color: #6890C3;\">The Zen of Python</span>\"."
   ]
  },
  {
   "attachments": {},
   "cell_type": "markdown",
   "metadata": {},
   "source": [
    "### <h3 style=\"text-align: center; color: #C82F4B; font-weight: 700;\">Variáveis</h3>"
   ]
  },
  {
   "attachments": {},
   "cell_type": "markdown",
   "metadata": {},
   "source": [
    "<p style=\"text-align:center;\">\n",
    "    São espaços alocados na memória RAM para guardar valores temporariamente.\n",
    "    Em Python, esses espaços <span style=\"color: #6890C3;\">não precisam ser tipados</span>, ou seja, a variável pode ser alocada sem especificar o tipo de dado que ela aguardará. O interpretador Python é capaz de determinar o tipo de dado da variável com base no seu valor, ou seja, as variáveis <span style=\"color: #6890C3;\">são tipadas dinamicamente</span> nessa linguagem.\n",
    "</p>"
   ]
  },
  {
   "attachments": {},
   "cell_type": "markdown",
   "metadata": {},
   "source": [
    "### <h3 style=\"text-align: center; color: #C82F4B; font-weight: 700;\">Operações em Python</h3>"
   ]
  },
  {
   "attachments": {},
   "cell_type": "markdown",
   "metadata": {},
   "source": [
    "<p style=\"text-align: center;\">Eis aqui as operações em Python que precisam ser destacadas:</p>"
   ]
  },
  {
   "attachments": {},
   "cell_type": "markdown",
   "metadata": {},
   "source": [
    "<span style=\"color: #6890C3;\">Quociente</span> de x e y:"
   ]
  },
  {
   "cell_type": "code",
   "execution_count": 3,
   "metadata": {},
   "outputs": [
    {
     "name": "stdout",
     "output_type": "stream",
     "text": [
      "2.0\n"
     ]
    }
   ],
   "source": [
    "x, y= 4, 2\n",
    "print(x/y)"
   ]
  },
  {
   "attachments": {},
   "cell_type": "markdown",
   "metadata": {},
   "source": [
    "<span style=\"color: #6890C3;\">Parte inteira</span> do quociente de x e y:"
   ]
  },
  {
   "cell_type": "code",
   "execution_count": 4,
   "metadata": {},
   "outputs": [
    {
     "name": "stdout",
     "output_type": "stream",
     "text": [
      "2\n"
     ]
    }
   ],
   "source": [
    "x, y= 4, 2\n",
    "print(x//y)"
   ]
  },
  {
   "attachments": {},
   "cell_type": "markdown",
   "metadata": {},
   "source": [
    "<span style=\"color: #6890C3;\">Resto</span> de x e y:"
   ]
  },
  {
   "cell_type": "code",
   "execution_count": 5,
   "metadata": {},
   "outputs": [
    {
     "name": "stdout",
     "output_type": "stream",
     "text": [
      "0\n"
     ]
    }
   ],
   "source": [
    "x, y= 4, 2\n",
    "print(x%y)"
   ]
  },
  {
   "attachments": {},
   "cell_type": "markdown",
   "metadata": {},
   "source": [
    "Valor absoluto de x (<span style=\"color: #6890C3;\">módulo</span>):"
   ]
  },
  {
   "cell_type": "code",
   "execution_count": 6,
   "metadata": {},
   "outputs": [
    {
     "name": "stdout",
     "output_type": "stream",
     "text": [
      "4\n"
     ]
    }
   ],
   "source": [
    "x = -4\n",
    "print(abs(x))"
   ]
  },
  {
   "attachments": {},
   "cell_type": "markdown",
   "metadata": {},
   "source": [
    "<span style=\"color: #6890C3;\">Exponenciação</span>, x elevado a y:"
   ]
  },
  {
   "cell_type": "code",
   "execution_count": 7,
   "metadata": {},
   "outputs": [
    {
     "name": "stdout",
     "output_type": "stream",
     "text": [
      "16\n",
      "16\n"
     ]
    }
   ],
   "source": [
    "x, y= 4, 2\n",
    "print(pow(x, y))\n",
    "print(x**y)"
   ]
  },
  {
   "attachments": {},
   "cell_type": "markdown",
   "metadata": {},
   "source": [
    "Como pode perceber, neste último, <span style=\"color: #6890C3;\">há duas formas</span> de fazer a exponenciação."
   ]
  },
  {
   "attachments": {},
   "cell_type": "markdown",
   "metadata": {},
   "source": [
    "### <h3 style=\"text-align: center; color: #C82F4B; font-weight: 700;\">Estruturas condicionais</h3>"
   ]
  },
  {
   "attachments": {},
   "cell_type": "markdown",
   "metadata": {},
   "source": [
    "#### <h4 style=\"text-align: center; color: #C82F4B; font-weight: 700;\">If</h4>"
   ]
  },
  {
   "attachments": {},
   "cell_type": "markdown",
   "metadata": {},
   "source": [
    "<p style=\"text-align:center;\">Não devemos ignorar ou subestimar um if isolado, existem situações onde ele poder vir a ser útil:</p>"
   ]
  },
  {
   "cell_type": "code",
   "execution_count": 27,
   "metadata": {},
   "outputs": [
    {
     "name": "stdout",
     "output_type": "stream",
     "text": [
      "Não trata-se de uma unidade.\n"
     ]
    }
   ],
   "source": [
    "x = input(\"Insira um valor: \")\n",
    "x = float(x)\n",
    "if x != 1:\n",
    "    print(\"Não trata-se de uma unidade.\")"
   ]
  },
  {
   "attachments": {},
   "cell_type": "markdown",
   "metadata": {},
   "source": [
    "#### <h4 style=\"text-align: center; color: #C82F4B; font-weight: 700;\">If else</h4>"
   ]
  },
  {
   "cell_type": "code",
   "execution_count": 20,
   "metadata": {},
   "outputs": [
    {
     "name": "stdout",
     "output_type": "stream",
     "text": [
      "A é menor que b\n"
     ]
    }
   ],
   "source": [
    "a = input(\"Insira o valor de a: \")\n",
    "b = input(\"Insira o valor de b: \")\n",
    "if a<b:\n",
    "    print(\"A é menor que b\")\n",
    "else:\n",
    "    print(\"A não é menor que b\")"
   ]
  },
  {
   "attachments": {},
   "cell_type": "markdown",
   "metadata": {},
   "source": [
    "#### <h4 style=\"text-align: center; color: #C82F4B; font-weight: 700;\">elif</h4>"
   ]
  },
  {
   "cell_type": "code",
   "execution_count": 28,
   "metadata": {},
   "outputs": [
    {
     "name": "stdout",
     "output_type": "stream",
     "text": [
      "Compra à prazo no cartão.\n"
     ]
    }
   ],
   "source": [
    "codigo_compra = input(\"Digite o código de compra: \")\n",
    "codigo_compra = int(codigo_compra)\n",
    " \n",
    "\n",
    "if codigo_compra == 5222:\n",
    "\n",
    "    print(\"Compra à vista.\")\n",
    "\n",
    "elif codigo_compra == 5333:\n",
    "\n",
    "    print(\"Compra à prazo no boleto.\")\n",
    "\n",
    "elif codigo_compra == 5444:\n",
    "\n",
    "    print(\"Compra à prazo no cartão.\")\n",
    "\n",
    "else:\n",
    "\n",
    "    print(\"Código não cadastrado\")"
   ]
  },
  {
   "attachments": {},
   "cell_type": "markdown",
   "metadata": {},
   "source": [
    "### <h3 style=\"text-align: center; color: #C82F4B; font-weight: 700;\">Estruturas lógicas</h3>"
   ]
  },
  {
   "attachments": {},
   "cell_type": "markdown",
   "metadata": {},
   "source": [
    "<p style=\"text-align:center;\"><span style=\"color: #6890C3;\">not</span> primeiro, <span style=\"color: #6890C3;\">and</span> em seguida e <span style=\"color: #6890C3;\">or</span> por último.</p>"
   ]
  },
  {
   "attachments": {},
   "cell_type": "markdown",
   "metadata": {},
   "source": [
    "#### <h4 style=\"text-align: center; color: #C82F4B; font-weight: 700;\">And</h4>"
   ]
  },
  {
   "cell_type": "code",
   "execution_count": null,
   "metadata": {},
   "outputs": [],
   "source": [
    "qtde_faltas = int(input(\"Digite a quantidade de faltas: \"))\n",
    "\n",
    "media_final = float(input(\"Digite a média final: \"))\n",
    "\n",
    "\n",
    "if qtde_faltas <= 5 and media_final >= 7:\n",
    "\n",
    "    print(\"Aluno aprovado!\")\n",
    "\n",
    "else:\n",
    "\n",
    "    print(\"Aluno reprovado!\")"
   ]
  },
  {
   "attachments": {},
   "cell_type": "markdown",
   "metadata": {},
   "source": [
    "#### <h4 style=\"text-align: center; color: #C82F4B; font-weight: 700;\">Or</h4>"
   ]
  },
  {
   "cell_type": "code",
   "execution_count": 29,
   "metadata": {},
   "outputs": [
    {
     "name": "stdout",
     "output_type": "stream",
     "text": [
      "True\n",
      "False\n"
     ]
    }
   ],
   "source": [
    "A = 15\n",
    "\n",
    "B = 9\n",
    "\n",
    "C = 9\n",
    "\n",
    "\n",
    "print(B == C or A < B and A < C)\n",
    "\n",
    "print((B == C or A < B) and A < C )"
   ]
  },
  {
   "attachments": {},
   "cell_type": "markdown",
   "metadata": {},
   "source": [
    "### <h3 style=\"text-align: center; color: #C82F4B; font-weight: 700;\">Estruturas de repetição</h3>"
   ]
  },
  {
   "attachments": {},
   "cell_type": "markdown",
   "metadata": {},
   "source": [
    "#### <h4 style=\"text-align: center; color: #C82F4B; font-weight: 700;\">While</h4>"
   ]
  },
  {
   "cell_type": "code",
   "execution_count": 30,
   "metadata": {},
   "outputs": [
    {
     "name": "stdout",
     "output_type": "stream",
     "text": [
      "Número par!\n",
      "Número ímpar!\n",
      "Número ímpar!\n",
      "Número par!\n"
     ]
    }
   ],
   "source": [
    "numero = 1\n",
    "\n",
    "while numero != 0:\n",
    "\n",
    "    numero = int(input(\"Digite um número: \"))\n",
    "\n",
    "    if numero % 2 == 0:\n",
    "\n",
    "        print(\"Número par!\")\n",
    "\n",
    "    else:\n",
    "\n",
    "        print(\"Número ímpar!\")"
   ]
  },
  {
   "attachments": {},
   "cell_type": "markdown",
   "metadata": {},
   "source": [
    "#### <h4 style=\"text-align: center; color: #C82F4B; font-weight: 700;\">For</h4>"
   ]
  },
  {
   "cell_type": "code",
   "execution_count": 35,
   "metadata": {},
   "outputs": [
    {
     "name": "stdout",
     "output_type": "stream",
     "text": [
      "Posição = 0, valor = R\n",
      "Posição = 1, valor = e\n",
      "Posição = 2, valor = a\n"
     ]
    }
   ],
   "source": [
    "nome = \"Rea\"\n",
    "\n",
    "for i, v in enumerate(nome):\n",
    "\n",
    "    print(f\"Posição = {i}, valor = {v}\")"
   ]
  },
  {
   "attachments": {},
   "cell_type": "markdown",
   "metadata": {},
   "source": [
    "#### <h4 style=\"text-align: center; color: #C82F4B; font-weight: 700;\">Range</h4>"
   ]
  },
  {
   "attachments": {},
   "cell_type": "markdown",
   "metadata": {},
   "source": [
    "<p style=\"text-align:center;\">Para criar uma <span style=\"color: #6890C3;\">sequencia numérica de iteração</span>, usamos range()</p>"
   ]
  },
  {
   "cell_type": "code",
   "execution_count": 38,
   "metadata": {},
   "outputs": [
    {
     "name": "stdout",
     "output_type": "stream",
     "text": [
      "0\n",
      "1\n",
      "2\n",
      "3\n",
      "4\n"
     ]
    }
   ],
   "source": [
    "for x in range(5):\n",
    "\n",
    "    print(x)"
   ]
  },
  {
   "attachments": {},
   "cell_type": "markdown",
   "metadata": {},
   "source": [
    "## <h2 style=\"text-align: center; color: #C82F4B; font-weight: 700;\">Estruturas de Dados em Python</h2>"
   ]
  },
  {
   "attachments": {},
   "cell_type": "markdown",
   "metadata": {},
   "source": [
    "<p style=\"text-align:center;\">Em Python existem <span style=\"color: #6890C3;\">objetos em que podemos armazenar mais de um valor</span>, aos quais damos o nome de estrutura de dados.</p>"
   ]
  },
  {
   "attachments": {},
   "cell_type": "markdown",
   "metadata": {},
   "source": [
    "### <h3 style=\"text-align: center; color: #C82F4B; font-weight: 700;\">O que é Dados?</h3>"
   ]
  },
  {
   "attachments": {},
   "cell_type": "markdown",
   "metadata": {},
   "source": [
    "<p style=\"text-align:center;\"><span style=\"color: #C82F4B;\">Dados:</span> Em programação, um dado é uma <span style=\"color: #C82F4B;\">informação</span> que pode ser armazenada e manipulada por um programa.</p>"
   ]
  },
  {
   "attachments": {},
   "cell_type": "markdown",
   "metadata": {},
   "source": [
    "<p style=\"text-align:center;\">Iniciamos este tópico ressaltando a citação:<br>\"Todos os <span style=\"color: #C82F4B;\">dados</span> em um programa Python são representados por <span style=\"color: #6890C3;\">objetos</span> ou pela <span style=\"color: #6890C3;\">relação entre objetos</span>.\" (PSF, p. 1, 2020a).<br>O que faz sentido, já que Pyton é uma linguagem orientada a objetos e nela tudo é objeto.</p>"
   ]
  },
  {
   "attachments": {},
   "cell_type": "markdown",
   "metadata": {},
   "source": [
    "### <h3 style=\"text-align: center; color: #C82F4B; font-weight: 700;\">Objetos em Python e comparações a outras linguagens.</h3>"
   ]
  },
  {
   "attachments": {},
   "cell_type": "markdown",
   "metadata": {},
   "source": [
    "<p style=\"text-align:center;\">Antes de tudo, vamos ressaltar que em Python o <span style=\"color: #6890C3;\">tipo</span> do objeto determina os <span style=\"color: #6890C3;\">valores</span> que ele pode armazenar e as <span style=\"color: #6890C3;\">operações</span> que podem ser feitas com tal estrutura.<br>Agora vamos a ressalvas comparativas:</p> "
   ]
  },
  {
   "attachments": {},
   "cell_type": "markdown",
   "metadata": {},
   "source": [
    "#### <h4 style=\"text-align: center; color: #C82F4B; font-weight: 700;\"><span style=\"color: #6890C3;\">Objetos</span> vs <span style=\"color: #5AA695;\">Variáveis primitivas</span></h4>"
   ]
  },
  {
   "attachments": {},
   "cell_type": "markdown",
   "metadata": {},
   "source": [
    "<p style=\"text-align:center;\">Já conhecemos alguns tipos de <span style=\"color: #6890C3;\">objetos</span> em Python, tais como o int (inteiro), o str (string), o float (ponto flutuante), tipos que nos lembram das <span style=\"color: #5AA695;\">variáveis primitivas de outras linguagens</span>, como C ou Java.<br>Um objeto pode ser <span style=\"color: #6890C3;\">mais complexo</span> que um tipo primitivo. Por exemplo, o tipo primitivo <span style=\"color: #5AA695;\">int</span>, na linguagem C, ocupa <span style=\"color: #5AA695;\">no máximo 4 bytes (32 bits)</span> e pode armazenar valores entre <span style=\"color: #5AA695;\">-2.147.483.648 e 2.147.483.647</span> . Já o objeto do tipo int, na linguagem Python, <span style=\"color: #6890C3;\">não possui um limite definido</span>, uma vez que fica <span style=\"color: #6890C3;\">limitado apenas à memória RAM</span> (random access memory) disponível no ambiente.</p>"
   ]
  },
  {
   "attachments": {},
   "cell_type": "markdown",
   "metadata": {},
   "source": [
    "#### <h4 style=\"text-align: center; color: #C82F4B; font-weight: 700;\"><span style=\"color: #6890C3;\">Classe str</span> vs <span style=\"color: #5AA695;\">Vetor char</span></h4>"
   ]
  },
  {
   "attachments": {},
   "cell_type": "markdown",
   "metadata": {},
   "source": [
    "<p style=\"text-align:center;\">Outro exemplo interessante é a classe (classe nada mais é que uma \"criadora\" de objetos) str (string). Em linguagem como a C, uma <span style=\"color: #5AA695;\">string é um vetor do tipo primitivo char</span>. Por sua vez, em Python, esse objeto, além de <span style=\"color: #6890C3;\">tamanho ilimitado</span>, possui <span style=\"color: #6890C3;\">vários métodos para manipulação de textos</span>, como o split(), o replace(), dentre outros.</p>"
   ]
  },
  {
   "attachments": {},
   "cell_type": "markdown",
   "metadata": {},
   "source": [
    "#### <h4 style=\"text-align: center; color: #C82F4B; font-weight: 700;\"><span style=\"color: #6890C3;\">Estrutura de Dados</span> vs <span style=\"color: #5AA695;\">Vetores</span></h4>"
   ]
  },
  {
   "attachments": {},
   "cell_type": "markdown",
   "metadata": {},
   "source": [
    "<p style=\"text-align:center;\">Em Python, existem várias <span style=\"color: #6890C3;\">estruturas de dados</span> que podem armazenar mais de um valor, como listas, tuplas, conjuntos e dicionários. Essas estruturas de dados são semelhantes aos <span style=\"color: #5AA695;\">vetores em C</span>, mas com algumas diferenças importantes:</p>"
   ]
  },
  {
   "attachments": {},
   "cell_type": "markdown",
   "metadata": {},
   "source": [
    "<p style=\"text-align:center;\">Uma diferença chave é que em Python, <span style=\"color: #6890C3;\">as listas podem crescer e diminuir dinamicamente</span>, enquanto em C, o <span style=\"color: #5AA695;\">tamanho de um vetor deve ser especificado no momento da declaração</span>. Além disso, em Python, as <span style=\"color: #6890C3;\">listas podem conter elementos de diferentes tipos de dados</span>, enquanto em C, um <span style=\"color: #5AA695;\">vetor deve conter elementos do mesmo tipo</span>.</p>"
   ]
  },
  {
   "attachments": {},
   "cell_type": "markdown",
   "metadata": {},
   "source": [
    "### <h3 style=\"text-align: center; color: #C82F4B; font-weight: 700;\">Tipos de Estrutura de Dados</h3>"
   ]
  },
  {
   "attachments": {},
   "cell_type": "markdown",
   "metadata": {},
   "source": [
    "<p style=\"text-align:center;\"><span style=\"color: #6890C3;\">Cada objeto</span> é capaz de armazenar <span style=\"color: #6890C3;\">um tipo</span> de estrutura de dados. Separamos, então, em <span style=\"color: #6890C3;\">grupos</span>:</p>"
   ]
  },
  {
   "attachments": {},
   "cell_type": "markdown",
   "metadata": {},
   "source": [
    "#### <h4 style=\"text-align: center; color: #C82F4B; font-weight: 700;\">Tipo sequência</h4>"
   ]
  },
  {
   "attachments": {},
   "cell_type": "markdown",
   "metadata": {},
   "source": [
    "<p style=\"text-align:center;\">Os objetos do tipo sequência são estruturas de dados <span style=\"color: #6890C3;\">capazes de armazenar mais de um valor</span>.<br>Essas estruturas de dados <span style=\"color: #6890C3;\">representam sequências finitas</span> indexadas por números não negativos.<br>O primeiro elemento de uma sequência ocupa o <span style=\"color: #6890C3;\">índice 0</span>; o segundo, 1; o último elemento, a posição n - 1, em que <span style=\"color: #6890C3;\">n é capacidade de armazenamento da sequência</span>.</p>"
   ]
  },
  {
   "attachments": {},
   "cell_type": "markdown",
   "metadata": {},
   "source": [
    "##### <h5 style=\"text-align: center; color: #C82F4B; font-weight: 700;\">Operações em comum</h5>"
   ]
  },
  {
   "attachments": {},
   "cell_type": "markdown",
   "metadata": {},
   "source": [
    "<p style=\"text-align:center;\">As estruturas de dados desse grupo possuem algumas operações em comum:</p>"
   ]
  },
  {
   "attachments": {},
   "cell_type": "markdown",
   "metadata": {},
   "source": [
    "###### <p><span style=\"color: #6890C3; font-size:25px;\">x in s</p>"
   ]
  },
  {
   "attachments": {},
   "cell_type": "markdown",
   "metadata": {},
   "source": [
    "<p>Usada para verificar se um determinado elemento 'x' <span style=\"color: #6890C3;\">é igual a algum outro em uma sequência</span> 's', retornando <span style=\"color: #6890C3;\">True ou False</span>.</p>"
   ]
  },
  {
   "cell_type": "code",
   "execution_count": 21,
   "metadata": {},
   "outputs": [
    {
     "name": "stdout",
     "output_type": "stream",
     "text": [
      "O quinto elemento, que tem índice quatro, é o 6\n",
      "O elemento 6 está presente na lista\n"
     ]
    }
   ],
   "source": [
    "s = [1, 2, 3, 4, 5+1] #originalmente não tinha 6\n",
    "print(f\"O quinto elemento, que tem índice quatro, é o {s[4]}\") #lembre que começa em 0\n",
    "x = 6\n",
    "if x in s:\n",
    "    print(\"O elemento\", x, \"está presente na lista\")\n",
    "else:\n",
    "    print(\"O elemento\", x, \"não está presente na lista\")"
   ]
  },
  {
   "attachments": {},
   "cell_type": "markdown",
   "metadata": {},
   "source": [
    "Veja que dizer \"ele verifica se x está em s\" <span style=\"color: #6890C3;\">é errôneo</span>, pois se fosse assim, o caso acima diria que não está presente."
   ]
  },
  {
   "attachments": {},
   "cell_type": "markdown",
   "metadata": {},
   "source": [
    "###### <p><span style=\"color: #6890C3; font-size:25px;\">s + t</p>"
   ]
  },
  {
   "attachments": {},
   "cell_type": "markdown",
   "metadata": {},
   "source": [
    "Contatena duas sequências."
   ]
  },
  {
   "cell_type": "code",
   "execution_count": 23,
   "metadata": {},
   "outputs": [
    {
     "name": "stdout",
     "output_type": "stream",
     "text": [
      "[1, 2, 3, 4, 5, 6]\n",
      "Saudações, Rea!\n"
     ]
    }
   ],
   "source": [
    "s = [1, 2, 3]\n",
    "t = [4, 5, 6]\n",
    "r = s + t\n",
    "print(r)\n",
    "\n",
    "a = \"Saudações, \"\n",
    "b = \"Rea!\"\n",
    "c = a + b\n",
    "print(c)"
   ]
  },
  {
   "attachments": {},
   "cell_type": "markdown",
   "metadata": {},
   "source": [
    "###### <p><span style=\"color: #6890C3; font-size:25px;\">n * s</p>"
   ]
  },
  {
   "attachments": {},
   "cell_type": "markdown",
   "metadata": {},
   "source": [
    "Usada para criar uma nova sequência que consiste em 'n' cópias da sequência 's'."
   ]
  },
  {
   "cell_type": "code",
   "execution_count": 24,
   "metadata": {},
   "outputs": [
    {
     "name": "stdout",
     "output_type": "stream",
     "text": [
      "Python Python \n",
      "[1, 2, 3, 1, 2, 3]\n"
     ]
    }
   ],
   "source": [
    "s = \"Python \"\n",
    "t = 2 * s\n",
    "print(t)\n",
    "\n",
    "a = [1, 2, 3]\n",
    "b = 2 * a\n",
    "print(b)"
   ]
  },
  {
   "attachments": {},
   "cell_type": "markdown",
   "metadata": {},
   "source": [
    "###### <p><span style=\"color: #6890C3; font-size:25px;\">s[i]</p>"
   ]
  },
  {
   "attachments": {},
   "cell_type": "markdown",
   "metadata": {},
   "source": [
    "Acessa o valor guardado na posição de índice <span style=\"color: #6890C3;\">i</span> na sequência."
   ]
  },
  {
   "cell_type": "code",
   "execution_count": 25,
   "metadata": {},
   "outputs": [
    {
     "data": {
      "text/plain": [
       "3"
      ]
     },
     "execution_count": 25,
     "metadata": {},
     "output_type": "execute_result"
    }
   ],
   "source": [
    "s = [1, 2, 3, 4]\n",
    "s[2] #lembre que começa com 0"
   ]
  },
  {
   "attachments": {},
   "cell_type": "markdown",
   "metadata": {},
   "source": [
    "###### <p><span style=\"color: #6890C3; font-size:25px;\">s[i:j]</p>"
   ]
  },
  {
   "attachments": {},
   "cell_type": "markdown",
   "metadata": {},
   "source": [
    "Acessa os valores da posição de índice <span style=\"color: #6890C3;\">i</span> até os de índice <span style=\"color: #6890C3;\">j</span>, sem incluir j."
   ]
  },
  {
   "cell_type": "code",
   "execution_count": 27,
   "metadata": {},
   "outputs": [
    {
     "data": {
      "text/plain": [
       "[1, 2, 3]"
      ]
     },
     "execution_count": 27,
     "metadata": {},
     "output_type": "execute_result"
    }
   ],
   "source": [
    "s = [1, 2, 3, 4, 5]\n",
    "s[0:3] #intervalo aberto em 3"
   ]
  },
  {
   "attachments": {},
   "cell_type": "markdown",
   "metadata": {},
   "source": [
    "###### <p><span style=\"color: #6890C3; font-size:25px;\">s[i:j:k]</p>"
   ]
  },
  {
   "attachments": {},
   "cell_type": "markdown",
   "metadata": {},
   "source": [
    "Acessa os valores da posição de índice <span style=\"color: #6890C3;\">i</span> até os de índice <span style=\"color: #6890C3;\">j</span> (sem incluir j), com passo <span style=\"color: #6890C3;\">k</span> (o último passo é inclusivo)."
   ]
  },
  {
   "cell_type": "code",
   "execution_count": 29,
   "metadata": {},
   "outputs": [
    {
     "data": {
      "text/plain": [
       "[1, 4, 7, 10]"
      ]
     },
     "execution_count": 29,
     "metadata": {},
     "output_type": "execute_result"
    }
   ],
   "source": [
    "s = [1, 2, 3, 4, 5, 6, 7, 8, 9, 10]\n",
    "s[0:10:3] #intervalo aberto em 10"
   ]
  },
  {
   "cell_type": "markdown",
   "metadata": {},
   "source": []
  },
  {
   "attachments": {},
   "cell_type": "markdown",
   "metadata": {},
   "source": [
    "###### <p><span style=\"color: #6890C3; font-size:25px;\">len(s)</p>"
   ]
  },
  {
   "attachments": {},
   "cell_type": "markdown",
   "metadata": {},
   "source": [
    "Comprimento de <span style=\"color: #6890C3;\">s</span>."
   ]
  },
  {
   "cell_type": "code",
   "execution_count": 32,
   "metadata": {},
   "outputs": [
    {
     "name": "stdout",
     "output_type": "stream",
     "text": [
      "5\n"
     ]
    },
    {
     "data": {
      "text/plain": [
       "3"
      ]
     },
     "execution_count": 32,
     "metadata": {},
     "output_type": "execute_result"
    }
   ],
   "source": [
    "s = [1, 2, 3, 4, 5]\n",
    "print(len(s))\n",
    "\n",
    "r = \"Rea\"\n",
    "len(r)"
   ]
  },
  {
   "attachments": {},
   "cell_type": "markdown",
   "metadata": {},
   "source": [
    "###### <p><span style=\"color: #6890C3; font-size:25px;\">min(s)</p>"
   ]
  },
  {
   "attachments": {},
   "cell_type": "markdown",
   "metadata": {},
   "source": [
    "Menor valor de <span style=\"color: #6890C3;\">s</span>."
   ]
  },
  {
   "cell_type": "code",
   "execution_count": 36,
   "metadata": {},
   "outputs": [
    {
     "name": "stdout",
     "output_type": "stream",
     "text": [
      "1\n"
     ]
    },
    {
     "data": {
      "text/plain": [
       "'a'"
      ]
     },
     "execution_count": 36,
     "metadata": {},
     "output_type": "execute_result"
    }
   ],
   "source": [
    "s = [1, 2, 3, 4, 5]\n",
    "print(min(s))\n",
    "\n",
    "r = \"rea\"\n",
    "min(r)"
   ]
  },
  {
   "attachments": {},
   "cell_type": "markdown",
   "metadata": {},
   "source": [
    "###### <p><span style=\"color: #6890C3; font-size:25px;\">max(s)</p>"
   ]
  },
  {
   "attachments": {},
   "cell_type": "markdown",
   "metadata": {},
   "source": [
    "Maior valor de <span style=\"color: #6890C3;\">s</span>."
   ]
  },
  {
   "cell_type": "code",
   "execution_count": 37,
   "metadata": {},
   "outputs": [
    {
     "name": "stdout",
     "output_type": "stream",
     "text": [
      "5\n"
     ]
    },
    {
     "data": {
      "text/plain": [
       "'r'"
      ]
     },
     "execution_count": 37,
     "metadata": {},
     "output_type": "execute_result"
    }
   ],
   "source": [
    "s = [1, 2, 3, 4, 5]\n",
    "print(max(s))\n",
    "\n",
    "r = \"rea\"\n",
    "max(r)"
   ]
  },
  {
   "attachments": {},
   "cell_type": "markdown",
   "metadata": {},
   "source": [
    "###### <p><span style=\"color: #6890C3; font-size:25px;\">s.count(x)</p>"
   ]
  },
  {
   "attachments": {},
   "cell_type": "markdown",
   "metadata": {},
   "source": [
    "Número total de ocorrências de <span style=\"color: #6890C3;\">x</span> ter alguém igual em <span style=\"color: #6890C3;\">s</span>."
   ]
  },
  {
   "cell_type": "code",
   "execution_count": 38,
   "metadata": {},
   "outputs": [
    {
     "name": "stdout",
     "output_type": "stream",
     "text": [
      "O quinto elemento, que tem índice quatro, é o 6\n"
     ]
    },
    {
     "data": {
      "text/plain": [
       "3"
      ]
     },
     "execution_count": 38,
     "metadata": {},
     "output_type": "execute_result"
    }
   ],
   "source": [
    "s = [1, 2, 3+3, 4+2, 5+1] #originalmente não tinha 6\n",
    "print(f\"O quinto elemento, que tem índice quatro, é o {s[4]}\") #lembre que começa em 0\n",
    "x = 6\n",
    "s.count(x)"
   ]
  },
  {
   "attachments": {},
   "cell_type": "markdown",
   "metadata": {},
   "source": [
    "##### <h5 style=\"text-align: center; color: #C82F4B; font-weight: 700;\">Texto</h5>"
   ]
  },
  {
   "attachments": {},
   "cell_type": "markdown",
   "metadata": {},
   "source": [
    "<p style=\"text-align:center;\">Um texto é um <span style=\"color: #6890C3;\">objeto da classe str</span> (strings). São objetos imutáveis, <span style=\"color: #6890C3;\">não é possível atribuir um novo valor a uma posição específica</span>.<br>Eis algumas funções para este objeto:</p>"
   ]
  },
  {
   "attachments": {},
   "cell_type": "markdown",
   "metadata": {},
   "source": [
    "###### <p><span style=\"color: #6890C3; font-size:25px;\">lower()</p>"
   ]
  },
  {
   "attachments": {},
   "cell_type": "markdown",
   "metadata": {},
   "source": [
    "Passa o que tiver em maiúsculo para minúsculo."
   ]
  },
  {
   "cell_type": "code",
   "execution_count": 6,
   "metadata": {},
   "outputs": [
    {
     "name": "stdout",
     "output_type": "stream",
     "text": [
      "rea\n"
     ]
    }
   ],
   "source": [
    "texto = \"REA\"\n",
    "print(texto.lower())"
   ]
  },
  {
   "attachments": {},
   "cell_type": "markdown",
   "metadata": {},
   "source": [
    "###### <p><span style=\"color: #6890C3; font-size:25px;\">upper()</p>"
   ]
  },
  {
   "attachments": {},
   "cell_type": "markdown",
   "metadata": {},
   "source": [
    "Passa o que tiver em minúsculo para maiúsculo."
   ]
  },
  {
   "cell_type": "code",
   "execution_count": 7,
   "metadata": {},
   "outputs": [
    {
     "name": "stdout",
     "output_type": "stream",
     "text": [
      "REA\n"
     ]
    }
   ],
   "source": [
    "texto = \"rea\"\n",
    "print(texto.upper())"
   ]
  },
  {
   "attachments": {},
   "cell_type": "markdown",
   "metadata": {},
   "source": [
    "###### <p><span style=\"color: #6890C3; font-size:25px;\">replace()</p>"
   ]
  },
  {
   "attachments": {},
   "cell_type": "markdown",
   "metadata": {},
   "source": [
    "Substitui um caractere por outro."
   ]
  },
  {
   "cell_type": "code",
   "execution_count": 8,
   "metadata": {},
   "outputs": [
    {
     "name": "stdout",
     "output_type": "stream",
     "text": [
      "Goroto\n"
     ]
    }
   ],
   "source": [
    "texto = \"Garota\"\n",
    "print(texto.replace(\"a\",'o'))"
   ]
  },
  {
   "attachments": {},
   "cell_type": "markdown",
   "metadata": {},
   "source": [
    "###### <p><span style=\"color: #6890C3; font-size:25px;\">split()</p>"
   ]
  },
  {
   "attachments": {},
   "cell_type": "markdown",
   "metadata": {},
   "source": [
    "Usada para <span style=\"color: #6890C3;\">\"cortar\"</span> um texto e <span style=\"color: #6890C3;\">transformá-lo em uma lista</span>.<br>Essa função pode ser usada sem <span style=\"color: #6890C3;\">nenhum parâmetro</span>, nesse caso, a string será cortada a cada <span style=\"color: #6890C3;\">espaço em branco</span> que for encontrado.<br>Caso seja <span style=\"color: #6890C3;\">passado um parâmetro</span>, então o corte será <span style=\"color: #6890C3;\">feito no parâmetro</span> especificado."
   ]
  },
  {
   "cell_type": "code",
   "execution_count": 11,
   "metadata": {},
   "outputs": [
    {
     "name": "stdout",
     "output_type": "stream",
     "text": [
      "texto = Aprendendo Python, na disciplina de linguagem de programação.\n",
      "Tamanho do texto = 61\n",
      "\n",
      "palavras = ['Aprendendo', 'Python,', 'na', 'disciplina', 'de', 'linguagem', 'de', 'programação.']\n",
      "Tamanho de palavras = 8\n",
      "\n",
      "partes = ['Aprendendo Python', ' na disciplina de linguagem de programação.']\n",
      "Tamanho das partes = 2\n"
     ]
    }
   ],
   "source": [
    "texto = \"Aprendendo Python, na disciplina de linguagem de programação.\"\n",
    "\n",
    "print(f\"texto = {texto}\")\n",
    "\n",
    "print(f\"Tamanho do texto = {len(texto)}\\n\")\n",
    "\n",
    " \n",
    "\n",
    "palavras = texto.split()\n",
    "\n",
    "print(f\"palavras = {palavras}\")\n",
    "\n",
    "print(f\"Tamanho de palavras = {len(palavras)}\\n\")\n",
    "\n",
    "\n",
    "aposto = texto.split(\",\") #Aposto, em português, é a parte que explica um termo imediatamente citado.\n",
    "\n",
    "print(f\"partes = {aposto}\")\n",
    "\n",
    "print(f\"Tamanho das partes = {len(aposto)}\")\n"
   ]
  },
  {
   "attachments": {},
   "cell_type": "markdown",
   "metadata": {},
   "source": [
    "##### <h5 style=\"text-align: center; color: #C82F4B; font-weight: 700;\">Listas</h5>"
   ]
  },
  {
   "attachments": {},
   "cell_type": "markdown",
   "metadata": {},
   "source": [
    "<p style=\"text-align:center;\">Lista é uma estrutura de dados do tipo <span style=\"color: #6890C3;\">sequencial</span> que possui como principal característica ser <span style=\"color: #6890C3;\">mutável</span>.</p>"
   ]
  },
  {
   "attachments": {},
   "cell_type": "markdown",
   "metadata": {},
   "source": [
    "###### <h6 style=\"text-align: center; color: #C82F4B; font-weight: 700; font-size:15px;\">Construção</span></h6>"
   ]
  },
  {
   "attachments": {},
   "cell_type": "markdown",
   "metadata": {},
   "source": [
    "<p style=\"text-align:center;\">Em Python, as listas podem ser construídas de várias maneiras:</p>"
   ]
  },
  {
   "attachments": {},
   "cell_type": "markdown",
   "metadata": {},
   "source": [
    "<span style=\"color: #6890C3;\">Lista vazia</span>:"
   ]
  },
  {
   "cell_type": "code",
   "execution_count": null,
   "metadata": {},
   "outputs": [],
   "source": [
    "lista = []"
   ]
  },
  {
   "attachments": {},
   "cell_type": "markdown",
   "metadata": {},
   "source": [
    "<span style=\"color: #6890C3;\">Elementos separados por vírgula</span>:"
   ]
  },
  {
   "cell_type": "code",
   "execution_count": null,
   "metadata": {},
   "outputs": [],
   "source": [
    "lista = ['a', 'b', 'c']"
   ]
  },
  {
   "attachments": {},
   "cell_type": "markdown",
   "metadata": {},
   "source": [
    "<span style=\"color: #6890C3;\">List comprehension</span>:"
   ]
  },
  {
   "attachments": {},
   "cell_type": "markdown",
   "metadata": {},
   "source": [
    "Forma pythônica de criar uma lista com base em um <span style=\"color: #6890C3;\">objeto iterável</span>. Esse tipo de técnica é utilizada quando, dada uma sequência, deseja-se criar uma nova sequência, porém com as informações originais transformadas ou filtradas por um critério."
   ]
  },
  {
   "cell_type": "code",
   "execution_count": null,
   "metadata": {},
   "outputs": [],
   "source": [
    "numeros = [1, 2, 3, 4, 5]\n",
    "quadrados = [x ** 2 for x in numeros]\n",
    "print(quadrados)\n"
   ]
  },
  {
   "cell_type": "code",
   "execution_count": null,
   "metadata": {},
   "outputs": [],
   "source": [
    "linguagens = [\"Python\", \"Java\", \"JavaScript\", \"C\", \"C#\", \"C++\", \"Swift\", \"Go\", \"Kotlin\"]\n",
    "\n",
    "#linguagens = '''Python Java JavaScript C C# C++ Swift Go Kotlin'''.split() # Essa sintaxe produz o mesmo resultado que a linha 1\n",
    "\n",
    " \n",
    "\n",
    "print(\"Antes da listcomp = \", linguagens)\n",
    "\n",
    " \n",
    "\n",
    "linguagens = [item.lower() for item in linguagens]\n",
    "\n",
    " \n",
    "\n",
    "print(\"\\nDepois da listcomp = \", linguagens)"
   ]
  },
  {
   "cell_type": "code",
   "execution_count": null,
   "metadata": {},
   "outputs": [],
   "source": [
    "linguagens = '''Python Java JavaScript C C# C++ Swift Go Kotlin'''.split()\n",
    "\n",
    "print(\"Antes da listcomp = \", linguagens)\n",
    "\n",
    " \n",
    "\n",
    "for i, item in enumerate(linguagens):\n",
    "\n",
    "    linguagens[i] = item.lower()\n",
    "\n",
    "    \n",
    "\n",
    "print(\"\\nDepois da listcomp = \", linguagens)"
   ]
  },
  {
   "attachments": {},
   "cell_type": "markdown",
   "metadata": {},
   "source": [
    "Podemos também fazer com que só o que tenha <span style=\"color: #6890C3;\">\"Java\"</span> no texto seja exibido."
   ]
  },
  {
   "cell_type": "code",
   "execution_count": 3,
   "metadata": {},
   "outputs": [
    {
     "name": "stdout",
     "output_type": "stream",
     "text": [
      "['Java', 'JavaScript']\n"
     ]
    }
   ],
   "source": [
    "linguagens = '''Python Java JavaScript C C# C++ Swift Go Kotlin'''.split()\n",
    "\n",
    " \n",
    "\n",
    "linguagens_java = [item for item in linguagens if \"Java\" in item]\n",
    "\n",
    " \n",
    "\n",
    "print(linguagens_java)"
   ]
  },
  {
   "cell_type": "code",
   "execution_count": null,
   "metadata": {},
   "outputs": [],
   "source": [
    "linguagens = '''Python Java JavaScript C C# C++ Swift Go Kotlin'''.split()\n",
    "\n",
    "linguagens_java = []\n",
    "\n",
    " \n",
    "\n",
    "for item in linguagens:\n",
    "\n",
    "    if \"Java\" in item:\n",
    "\n",
    "        linguagens_java.append(item)\n",
    "\n",
    " \n",
    "\n",
    "print(linguagens_java)"
   ]
  },
  {
   "attachments": {},
   "cell_type": "markdown",
   "metadata": {},
   "source": [
    "<span style=\"color: #6890C3;\">Construtor de tipo</span>:"
   ]
  },
  {
   "attachments": {},
   "cell_type": "markdown",
   "metadata": {},
   "source": [
    "Pode ser útil em situações em que você precisa criar uma lista a partir de um objeto iterável ou converter outro tipo de objeto em uma lista entre outros. "
   ]
  },
  {
   "cell_type": "code",
   "execution_count": null,
   "metadata": {},
   "outputs": [],
   "source": [
    "my_list = list()\n",
    "print(my_list)"
   ]
  },
  {
   "attachments": {},
   "cell_type": "markdown",
   "metadata": {},
   "source": [
    "###### <h6 style=\"text-align: center; color: #C82F4B; font-weight: 700; font-size:15px;\">Função map()</span></h6>"
   ]
  },
  {
   "attachments": {},
   "cell_type": "markdown",
   "metadata": {},
   "source": [
    "<p style=\"text-align:center;\">A função map() é utilizada para <span style=\"color: #6890C3;\">aplicar uma determinada função em cada item de um objeto iterável</span>. Para que essa transformação seja feita, a função map() exige que sejam passados <span style=\"color: #6890C3;\">dois parâmetros</span>: a função e o objeto iterável.</p>"
   ]
  },
  {
   "attachments": {},
   "cell_type": "markdown",
   "metadata": {},
   "source": [
    "<p style=\"text-align:center;\">Devemos observar que se aplicarmos map() sem antes colocar em uma lista, por exemplo, com list(), a função map() <span style=\"color: #6890C3;\">retorna um iterador</span> como <<span style=\"font-size:80%;\">map object at 0x0000022E6F7CD0B8</span>>. Por conta disso devemos \"tratar\" este iterador.</p>"
   ]
  },
  {
   "attachments": {},
   "cell_type": "markdown",
   "metadata": {},
   "source": [
    "A palavra-chave <span style=\"color: #6890C3;\">lambda</span> em Python é usada para criar <span style=\"color: #6890C3;\">funções anônimas</span>, ou seja, funções que não possuem um nome associado a elas. Essas funções geralmente são definidas em linha, dentro do código que as utiliza. Essas funções geralmente são definidas em linha, dentro do código que as utiliza. Por exemplo, <span style=\"color: #6890C3;\">em vez de definir uma função separada para calcular o quadrado de um número, você pode usar uma função lambda para isso</scan>."
   ]
  },
  {
   "cell_type": "code",
   "execution_count": null,
   "metadata": {},
   "outputs": [],
   "source": [
    "numeros = [1, 2, 3, 4, 5]\n",
    "quadrados = list(map(lambda x: x**2, numeros))\n",
    "print(quadrados)"
   ]
  },
  {
   "cell_type": "code",
   "execution_count": null,
   "metadata": {},
   "outputs": [],
   "source": [
    "linguagens = '''Python Java JavaScript C C# C++ Swift Go Kotlin'''.split()\n",
    "\n",
    "\n",
    "nova_lista = list(map(lambda x: x.lower(), linguagens))\n",
    "print(f\"A nova lista é = {nova_lista}\\n\")"
   ]
  },
  {
   "attachments": {},
   "cell_type": "markdown",
   "metadata": {},
   "source": [
    "###### <h6 style=\"text-align: center; color: #C82F4B; font-weight: 700; font-size:15px;\">Função filter()</span></h6>"
   ]
  },
  {
   "attachments": {},
   "cell_type": "markdown",
   "metadata": {},
   "source": [
    "<p style=\"text-align:center;\">A função filter() tem as mesmas características da função map(), mas, em vez de usarmos uma função para transformar os valores da lista, nós a usamos para filtrar.</p>"
   ]
  },
  {
   "attachments": {},
   "cell_type": "markdown",
   "metadata": {},
   "source": [
    "<p style=\"text-align:center;\">Caso tenha dúvidas em relação ao list() e lambda, veja acima em \"função map\".</p>"
   ]
  },
  {
   "cell_type": "code",
   "execution_count": null,
   "metadata": {},
   "outputs": [],
   "source": [
    "numeros  = list(range(0, 21)) #range() cria um objeto numérico iterável, quando junto com list, cria uma lista que inclui todo o intervalo (aberto no último)\n",
    "\n",
    "numeros_pares = list(filter(lambda x: x % 2 == 0, numeros))\n",
    "\n",
    " \n",
    "\n",
    "print(numeros_pares)"
   ]
  },
  {
   "attachments": {},
   "cell_type": "markdown",
   "metadata": {},
   "source": [
    "##### <h5 style=\"text-align: center; color: #C82F4B; font-weight: 700;\">Tuplas</h5>"
   ]
  },
  {
   "attachments": {},
   "cell_type": "markdown",
   "metadata": {},
   "source": [
    "<p style=\"text-align:center;\">São objetos <span style=\"color: #6890C3;\">imutáveis</span>. Sua utilização ocorre em casos nos quais a <span style=\"color: #6890C3;\">ordem dos elementos é importante e não pode ser alterada</span>.</p>"
   ]
  },
  {
   "attachments": {},
   "cell_type": "markdown",
   "metadata": {},
   "source": [
    "###### <h6 style=\"text-align: center; color: #C82F4B; font-weight: 700; font-size:15px;\">Construção</span></h6>"
   ]
  },
  {
   "attachments": {},
   "cell_type": "markdown",
   "metadata": {},
   "source": [
    "<span style=\"color: #6890C3;\">Tupla vazia</span>:"
   ]
  },
  {
   "cell_type": "code",
   "execution_count": null,
   "metadata": {},
   "outputs": [],
   "source": [
    "tupla = ()"
   ]
  },
  {
   "attachments": {},
   "cell_type": "markdown",
   "metadata": {},
   "source": [
    "<span style=\"color: #6890C3;\">Separados por vírgulas</scan>:"
   ]
  },
  {
   "cell_type": "code",
   "execution_count": null,
   "metadata": {},
   "outputs": [],
   "source": [
    "tupla = ('a', 'b', 'c')"
   ]
  },
  {
   "attachments": {},
   "cell_type": "markdown",
   "metadata": {},
   "source": [
    "<span style=\"color: #6890C3;\">Construtor de tipo</span>:"
   ]
  },
  {
   "cell_type": "code",
   "execution_count": null,
   "metadata": {},
   "outputs": [],
   "source": [
    "# Criando uma tupla vazia\n",
    "tupla_vazia = tuple()\n",
    "print(tupla_vazia) # Saída: ()\n",
    "\n",
    "# Criando uma tupla com alguns elementos\n",
    "tupla_frutas = tuple(['maçã', 'banana', 'laranja'])\n",
    "print(tupla_frutas) # Saída: ('maçã', 'banana', 'laranja')\n",
    "\n",
    "# Criando uma tupla com um único elemento\n",
    "tupla_um_elemento = tuple(['chocolate'])\n",
    "print(tupla_um_elemento) # Saída: ('chocolate',)\n",
    "\n",
    "# Criando uma tupla com diferentes tipos de dados\n",
    "tupla_mista = tuple(['texto', 42, True])\n",
    "print(tupla_mista) # Saída: ('texto', 42, True)\n"
   ]
  },
  {
   "attachments": {},
   "cell_type": "markdown",
   "metadata": {},
   "source": [
    "#### <h4 style=\"text-align: center; color: #C82F4B; font-weight: 700;\">Tipo set (conjunto)</h4>"
   ]
  },
  {
   "attachments": {},
   "cell_type": "markdown",
   "metadata": {},
   "source": [
    "<p style=\"text-align:center;\">Um objeto do tipo set <span style=\"color: #6890C3;\">habilita operações matemáticas de conjuntos</span>, tais como: união, intersecção, diferença, etc. Esse tipo de estrutura pode ser usado, portanto, em <span style=\"color: #6890C3;\">testes de associação e remoção de valores duplicados de uma sequência</span> (PSF, 2020c).</p>"
   ]
  },
  {
   "attachments": {},
   "cell_type": "markdown",
   "metadata": {},
   "source": [
    "##### <h5 style=\"text-align: center; color: #C82F4B; font-weight: 700;\">Exemplo</h5>"
   ]
  },
  {
   "attachments": {},
   "cell_type": "markdown",
   "metadata": {},
   "source": [
    "Veja um exemplo disso neste código que verifica se o componente está funcionando para poder vendermos:"
   ]
  },
  {
   "cell_type": "code",
   "execution_count": null,
   "metadata": {},
   "outputs": [],
   "source": [
    "def create_report():\n",
    "\n",
    "    componentes_verificados = set(['caixas de som', 'cooler', 'dissipador de calor', 'cpu', 'hd', 'estabilizador', 'gabinete', 'hub', 'impressora', 'joystick', 'memória ram', 'microfone', 'modem', 'monitor', 'mouse', 'no-break', 'placa de captura', 'placa de som', 'placa de vídeo', 'placa mãe', 'scanner', 'teclado', 'webcam'])\n",
    "\n",
    "    componentes_com_defeito = set(['hd', 'monitor', 'placa de som', 'scanner'])\n",
    "\n",
    "    \n",
    "\n",
    "    qtde_componentes_verificados = len(componentes_verificados)\n",
    "\n",
    "    qtde_componentes_com_defeito = len(componentes_com_defeito)\n",
    "\n",
    "    \n",
    "\n",
    "    componentes_ok = componentes_verificados.difference(componentes_com_defeito)\n",
    "\n",
    "    \n",
    "\n",
    "    print(f\"Foram verificados {qtde_componentes_verificados} componentes.\\n\")\n",
    "\n",
    "    print(f\"{qtde_componentes_com_defeito} componentes apresentaram defeito.\\n\")\n",
    "\n",
    "    \n",
    "\n",
    "    print(\"Os componentes que podem ser vendidos são:\")\n",
    "\n",
    "    for item in componentes_ok:\n",
    "\n",
    "        print(item)\n",
    "\n",
    " \n",
    "\n",
    " \n",
    "\n",
    "create_report()"
   ]
  },
  {
   "attachments": {},
   "cell_type": "markdown",
   "metadata": {},
   "source": [
    "##### <h5 style=\"text-align: center; color: #C82F4B; font-weight: 700;\">Construção</h5>"
   ]
  },
  {
   "attachments": {},
   "cell_type": "markdown",
   "metadata": {},
   "source": [
    "<p>Perceba que desta vez <span style=\"color: #6890C3;\">não tem a construção vazia</span>, isso porque <span style=\"color: #6890C3;\">não é possível criar um set vazio</span>, com set = {}, <span style=\"color: #6890C3;\">pois essa é a forma de construção de um dicionário</span>.</p>"
   ]
  },
  {
   "attachments": {},
   "cell_type": "markdown",
   "metadata": {},
   "source": [
    "<span style=\"color: #6890C3;\">Separados por vírgulas</span>:"
   ]
  },
  {
   "cell_type": "code",
   "execution_count": null,
   "metadata": {},
   "outputs": [],
   "source": [
    "set = {'a', 'b', 'c'} #{}"
   ]
  },
  {
   "attachments": {},
   "cell_type": "markdown",
   "metadata": {},
   "source": [
    "<span style=\"color: #6890C3;\">Construtor do tipo</span>:"
   ]
  },
  {
   "attachments": {},
   "cell_type": "markdown",
   "metadata": {},
   "source": [
    "Para construir com utilização da função <span style=\"color: #6890C3;\">set(iterable)</span>, obrigatoriamente <span style=\"color: #6890C3;\">temos de passar um objeto iterável</span> para ser transformado em conjunto. Esse objeto pode ser uma <span style=\"color: #6890C3;\">lista, uma tupla ou um texto</span>."
   ]
  },
  {
   "cell_type": "code",
   "execution_count": null,
   "metadata": {},
   "outputs": [],
   "source": [
    "meu_set = set([1, 2, 3, 4, 5]) #()"
   ]
  },
  {
   "cell_type": "code",
   "execution_count": null,
   "metadata": {},
   "outputs": [],
   "source": [
    "vogais_1 = {'aeiou'} # sem uso do construtor\n",
    "\n",
    "print(type(vogais_1), vogais_1)\n",
    "\n",
    " \n",
    "\n",
    "vogais_2 = set('aeiou') # construtor com string\n",
    "\n",
    "print(type(vogais_2), vogais_2)\n",
    "\n",
    " \n",
    "\n",
    "vogais_3 = set(['a', 'e', 'i', 'o', 'u']) # construtor com lista\n",
    "\n",
    "print(type(vogais_3), vogais_3)\n",
    "\n",
    " \n",
    "\n",
    "vogais_4 = set(('a', 'e', 'i', 'o', 'u')) # construtor com tupla\n",
    "\n",
    "print(type(vogais_4), vogais_4)"
   ]
  },
  {
   "attachments": {},
   "cell_type": "markdown",
   "metadata": {},
   "source": [
    "##### <h5 style=\"text-align: center; color: #C82F4B; font-weight: 700;\">Operações</h5>"
   ]
  },
  {
   "attachments": {},
   "cell_type": "markdown",
   "metadata": {},
   "source": [
    "<p style=\"text-align:center;\">Das operações que já conhecemos sobre sequências, conseguimos <span style=\"color: #6890C3;\">aproveitar</span> nessa nova estrutura:<br>- len(s)<br>- x in s<br>- x not in s</p>"
   ]
  },
  {
   "attachments": {},
   "cell_type": "markdown",
   "metadata": {},
   "source": [
    "<p style=\"text-align:center;\">Por hora, para novas funções, <span style=\"color: #6890C3;\">deduza tudo que tem como fazer com conjuntos e pesquise como fazer isso em set</span>.<br>Podemos encontrar <span style=\"color: #6890C3;\">mais funções</span> em: https://docs.python.org/pt-br/3/library/stdtypes.html</p>"
   ]
  },
  {
   "attachments": {},
   "cell_type": "markdown",
   "metadata": {},
   "source": [
    "#### <h4 style=\"text-align: center; color: #C82F4B; font-weight: 700;\">Tipo mapping (dicionário)</h4>"
   ]
  },
  {
   "attachments": {},
   "cell_type": "markdown",
   "metadata": {},
   "source": [
    "<p style=\"text-align:center;\">As estruturas de dados que possuem um <span style=\"color: #6890C3;\">mapeamento entre uma chave e um valor</span> são consideradas objetos do tipo mapping.<br>Em Python, o objeto que possui essa propriedade é o <span style=\"color: #6890C3;\">dict (dicionário)</span>. Uma vez que esse objeto é <span style=\"color: #6890C3;\">mutável</span>, conseguimos atribuir um novo valor a uma chave já existente.</p>"
   ]
  },
  {
   "attachments": {},
   "cell_type": "markdown",
   "metadata": {},
   "source": [
    "##### <h5 style=\"text-align: center; color: #C82F4B; font-weight: 700;\">Construção</h5>"
   ]
  },
  {
   "attachments": {},
   "cell_type": "markdown",
   "metadata": {},
   "source": [
    "<span style=\"color: #6890C3;\">Dicionário vazio</span>:"
   ]
  },
  {
   "attachments": {},
   "cell_type": "markdown",
   "metadata": {},
   "source": [
    "Criação de dicionário vazio, com <span style=\"color: #6890C3;\">atribuição posterior</span> de chave e valor"
   ]
  },
  {
   "cell_type": "code",
   "execution_count": null,
   "metadata": {},
   "outputs": [],
   "source": [
    "dicionario = {}\n",
    "\n",
    "dicionario['nome'] = \"Rea\"\n",
    "\n",
    "dicionario['idade'] = 18\n",
    "\n",
    "print(dicionario)"
   ]
  },
  {
   "attachments": {},
   "cell_type": "markdown",
   "metadata": {},
   "source": [
    "<span style=\"color: #6890C3;\">Separado por vírgulas</span>:"
   ]
  },
  {
   "cell_type": "code",
   "execution_count": null,
   "metadata": {},
   "outputs": [],
   "source": [
    "dicionario = {'chave1': 1, 'chave2': 2, 'chave3': 3}"
   ]
  },
  {
   "attachments": {},
   "cell_type": "markdown",
   "metadata": {},
   "source": [
    "<span style=\"color: #6890C3;\">Construtor de tipo</span>:"
   ]
  },
  {
   "cell_type": "code",
   "execution_count": null,
   "metadata": {},
   "outputs": [],
   "source": [
    "dicionario = dict([('chave1', 1), ('chave2', 2), ('chave3', 3)])\n"
   ]
  },
  {
   "attachments": {},
   "cell_type": "markdown",
   "metadata": {},
   "source": [
    "#### <h4 style=\"text-align: center; color: #C82F4B; font-weight: 700;\">Tipo array NumPy</h4>"
   ]
  },
  {
   "attachments": {},
   "cell_type": "markdown",
   "metadata": {},
   "source": [
    "## <h2 style=\"text-align: center; color: #C82F4B; font-weight: 700;\">Sintaxe e Códigos</h2>"
   ]
  },
  {
   "attachments": {},
   "cell_type": "markdown",
   "metadata": {},
   "source": [
    "<p style=\"text-align: center;\">Pode tratar-se tanto de <span style=\"color: #6890C3;\">exemplos práticos da sintaxe sobre algum tópico</span> específico do Python aplicados <span style=\"color: #6890C3;\">ou apenas códigos</span> que julguei necessário ou interessante de se guardar.</p>"
   ]
  },
  {
   "attachments": {},
   "cell_type": "markdown",
   "metadata": {},
   "source": [
    "### <h3 style=\"text-align: center; color: #C82F4B; font-weight: 700;\">De conteúdos específicos</h3>"
   ]
  },
  {
   "attachments": {},
   "cell_type": "markdown",
   "metadata": {},
   "source": [
    "#### <h4 style=\"text-align: center; color: #C82F4B; font-weight: 700;\">Textos</h4>"
   ]
  },
  {
   "attachments": {},
   "cell_type": "markdown",
   "metadata": {},
   "source": [
    "##### <h5 style=\"text-align: center; color: #C82F4B; font-weight: 700;background-color: #892be20c;\">Mostrando quantas vezes uma palavra aparece em um texto</h5>"
   ]
  },
  {
   "attachments": {},
   "cell_type": "markdown",
   "metadata": {},
   "source": [
    "<p style=\"text-align:center;\">Este software mostra quantas vezes apareceu a palavra <span style=\"color: #6890C3;\">\"string\"</span> no objeto <span style=\"color: #6890C3;\">\"texto\"</span>.</p>"
   ]
  },
  {
   "cell_type": "code",
   "execution_count": null,
   "metadata": {},
   "outputs": [],
   "source": [
    "texto = \"\"\"Operadores de String\n",
    "\n",
    "Python oferece operadores para processar texto (ou seja, valores de string).\n",
    "\n",
    "Assim como os números, as strings podem ser comparadas usando operadores de comparação:\n",
    "\n",
    "==, !=, <, > e assim por diante.\n",
    "\n",
    "O operador ==, por exemplo, retorna True se as strings nos dois lados do operador tiverem o mesmo valor (Perkovic, p. 23, 2016).\n",
    "\n",
    "\"\"\"\n",
    "\n",
    "print(f\"Tamanho do texto = {len(texto)}\")\n",
    "texto = texto.lower()\n",
    "\n",
    "\n",
    "texto = texto.replace(\",\", \"\").replace(\".\", \"\").replace(\"(\", \"\").replace(\")\", \"\").replace(\"\\n\", \" \")\n",
    "lista_palavras = texto.split()\n",
    "\n",
    "\n",
    "print(f\"Tamanho da lista de palavras = {len(lista_palavras)}\")\n",
    "\n",
    "\n",
    "total = lista_palavras.count(\"string\") + lista_palavras.count(\"strings\")\n",
    "print(f\"Quantidade de vezes que string ou strings aparecem = {total}\")"
   ]
  },
  {
   "attachments": {},
   "cell_type": "markdown",
   "metadata": {},
   "source": [
    "#### <h4 style=\"text-align: center; color: #C82F4B; font-weight: 700;\">Listas</h4>"
   ]
  },
  {
   "attachments": {},
   "cell_type": "markdown",
   "metadata": {},
   "source": [
    "##### <h5 style=\"text-align: center; color: #C82F4B; font-weight: 700;background-color: #892be20c;\">Mostrando posição e valor em listas com \"for in\"</h5>"
   ]
  },
  {
   "attachments": {},
   "cell_type": "markdown",
   "metadata": {},
   "source": [
    "<p style=\"text-align:center;\">Estes softwares, a cada <span style=\"color: #6890C3;\">iteração do for</span>, mostram a <span style=\"color: #6890C3;\">posição e o valor</span> naquela posição, tudo isso <span style=\"color: #6890C3;\">relativo a uma lista</span>.</p>"
   ]
  },
  {
   "cell_type": "code",
   "execution_count": null,
   "metadata": {},
   "outputs": [],
   "source": [
    "vogais = ['a', 'e', 'i', 'o', 'u']\n",
    "\n",
    " \n",
    "\n",
    "for vogal in vogais: \n",
    "\n",
    "    print (f'Posição = {vogais.index(vogal)}, valor = {vogal}') #vogal vira o elemento dentro da lista vogais, e vai progredindo a cada iteração."
   ]
  },
  {
   "attachments": {},
   "cell_type": "markdown",
   "metadata": {},
   "source": [
    "Substituímos o contador manual (\"p\") pela função <span style=\"color: #6890C3;\">enumerate()</span>, que é usada para percorrer um objeto iterável retornando a posição e o valor. Por isso, na estrutura de repetição <span style=\"color: #6890C3;\">precisamos usar as variáves p e x</span>. A primeira guarda a posição e a segunda guarda o valor. Usamos o nome x propositalmente para que você perceba que o nome da variável é de livre escolha."
   ]
  },
  {
   "cell_type": "code",
   "execution_count": null,
   "metadata": {},
   "outputs": [],
   "source": [
    "\n",
    "vogais = []\n",
    "\n",
    "print(f\"Tipo do objeto vogais = {type(vogais)}\")\n",
    "\n",
    " \n",
    "\n",
    "vogais.append('a')\n",
    "\n",
    "vogais.append('e')\n",
    "\n",
    "vogais.append('i')\n",
    "\n",
    "vogais.append('o')\n",
    "\n",
    "vogais.append('u')\n",
    "\n",
    " \n",
    "\n",
    "for p, x in enumerate(vogais):\n",
    "\n",
    "    print(f\"Posição = {p}, valor = {x}\")"
   ]
  },
  {
   "attachments": {},
   "cell_type": "markdown",
   "metadata": {},
   "source": [
    "##### <h5 style=\"text-align: center; color: #C82F4B; font-weight: 700;background-color: #892be20c;\">Mostrando algumas impressões interessantes em listas</h5>"
   ]
  },
  {
   "cell_type": "code",
   "execution_count": null,
   "metadata": {},
   "outputs": [],
   "source": [
    "frutas = [\"maça\", \"banana\", \"uva\", \"mamão\", \"maça\"]\n",
    "\n",
    "notas = [8.7, 5.2, 10, 3.5]\n",
    "\n",
    " \n",
    "\n",
    "print(\"maça\" in frutas) # True\n",
    "\n",
    "print(\"abacate\" in frutas) # False\n",
    "\n",
    "print(\"abacate\" not in frutas) # True\n",
    "\n",
    "print(min(frutas)) # banana\n",
    "\n",
    "print(max(notas)) # 10\n",
    "\n",
    "print(frutas.count(\"maça\")) # 2\n",
    "\n",
    "print(frutas.count(\"Maça\")) # 0\n",
    "\n",
    "print(frutas + notas)\n",
    "\n",
    "print(2 * frutas)"
   ]
  },
  {
   "attachments": {},
   "cell_type": "markdown",
   "metadata": {},
   "source": [
    "##### <h5 style=\"text-align: center; color: #C82F4B; font-weight: 700;background-color: #892be20c;\">Testando algumas operações reservadas a sequência com listas</h5>"
   ]
  },
  {
   "cell_type": "code",
   "execution_count": null,
   "metadata": {},
   "outputs": [],
   "source": [
    "lista = ['Python', 30.61, \"Java\", 51 , ['a', 'b', 20], \"maça\"]\n",
    "\n",
    " \n",
    "\n",
    "print(f\"Tamanho da lista = {len(lista)}\") #6\n",
    "\n",
    " \n",
    "\n",
    "for i, item in enumerate(lista):\n",
    "\n",
    "    print(f\"Posição = {i},\\t valor = {item} -----------------> tipo individual = {type(item)}\")\n",
    "\n",
    " \n",
    "\n",
    "print(\"\\nExemplos de slices:\\n\")\n",
    "\n",
    " \n",
    "\n",
    "print(\"lista[1] = \", lista[1])\n",
    "\n",
    "print(\"lista[0:2] = \", lista[0:2])\n",
    "\n",
    "print(\"lista[:2] = \", lista[:2])\n",
    "\n",
    "print(\"lista[3:5] = \", lista[3:5])\n",
    "\n",
    "print(\"lista[3:6] = \", lista[3:6])\n",
    "\n",
    "print(\"lista[3:] = \", lista[3:])\n",
    "\n",
    "print(\"lista[-2] = \", lista[-2])\n",
    "\n",
    "print(\"lista[-1] = \", lista[-1])\n",
    "\n",
    "print(\"lista[4][1] = \", lista[4][1])"
   ]
  },
  {
   "attachments": {},
   "cell_type": "markdown",
   "metadata": {},
   "source": [
    "#### <h4 style=\"text-align: center; color: #C82F4B; font-weight: 700;\">Tuplas</h4>"
   ]
  },
  {
   "attachments": {},
   "cell_type": "markdown",
   "metadata": {},
   "source": [
    "##### <h5 style=\"text-align: center; color: #C82F4B; font-weight: 700;background-color: #892be20c;\">Mostrando posição e valor em listas com \"for in\"</h5>"
   ]
  },
  {
   "cell_type": "code",
   "execution_count": 3,
   "metadata": {},
   "outputs": [
    {
     "name": "stdout",
     "output_type": "stream",
     "text": [
      "Tipo do objeto vogais = <class 'tuple'>\n",
      "Posição = 0, valor = a\n",
      "Posição = 1, valor = e\n",
      "Posição = 2, valor = i\n",
      "Posição = 3, valor = o\n",
      "Posição = 4, valor = u\n"
     ]
    }
   ],
   "source": [
    "vogais = ('a', 'e', 'i', 'o', 'u')\n",
    "\n",
    "\n",
    "for p, x in enumerate(vogais):\n",
    "\n",
    "    print(f\"Posição = {p}, valor = {x}\")"
   ]
  },
  {
   "attachments": {},
   "cell_type": "markdown",
   "metadata": {},
   "source": [
    "### <h3 style=\"text-align: center; color: #C82F4B; font-weight: 700;\">Apenas códigos</h3>"
   ]
  },
  {
   "attachments": {},
   "cell_type": "markdown",
   "metadata": {},
   "source": [
    "#### <h4 style=\"text-align: center; color: #C82F4B; font-weight: 700;background-color: #892be20c;\">Inserção e impressão de valores</h4>"
   ]
  },
  {
   "cell_type": "markdown",
   "metadata": {},
   "source": [
    "<p style=\"text-align: center;\">Basicamente, fazemos usando o <span style=\"color: #6890C3;\">input</span> e podemos imprimir com <span style=\"color: #6890C3;\">print(f\"{}\")</span></p>"
   ]
  },
  {
   "cell_type": "code",
   "execution_count": null,
   "metadata": {},
   "outputs": [],
   "source": [
    "nome=input(\"Qual o seu nome?: \")\n",
    "print(f\"{nome}, é um prazer te conhecer!\")"
   ]
  },
  {
   "attachments": {},
   "cell_type": "markdown",
   "metadata": {},
   "source": [
    "#### <h4 style=\"text-align: center; color: #C82F4B; font-weight: 700;background-color: #892be20c;\">Tratamento de variável</h4>"
   ]
  },
  {
   "cell_type": "markdown",
   "metadata": {},
   "source": [
    "<p style=\"text-align: center;\"><span style=\"color: #6890C3;\">Para explicar este tópico</span>, quis desenvolver um exemplo de software que te informa o f(x) do x dado na função dada.</p><p style=\"text-align: center;\">Este software tem <span style=\"color: #6890C3;\">diversos pontos de melhoria</span>, como a falta do uso de funções, vetores, estruturas de repetição, demonstração em gráfico, parte front e até mesmo solucionadores, mas a intenção deste software é apenas destacar na prática a importância de tratar variáveis quanto temos input(), que transforma em string aquilo que iremos querer que se comporte como número.</p>"
   ]
  },
  {
   "cell_type": "code",
   "execution_count": null,
   "metadata": {},
   "outputs": [],
   "source": [
    "a = input(\"Digite o valor do coeficiente a: \") #\"a\" atribuído, mas está em str.\n",
    "print(f\"O tipo era {type(a)}\")\n",
    "\n",
    "a = float(a) #agora que tratado, está em float.\n",
    "print(f\"Agora virou {type(a)}\")\n",
    "\n",
    "b = input(\"Digite o valor do coeficiente b: \")\n",
    "b = float(b)\n",
    "c = input(\"Digite o valor do termo idependente c: \")\n",
    "c = float(c)\n",
    "x = input(\"Digite o valor de x: \")\n",
    "x = float(x)\n",
    "y = a*x**2+b*x+c\n",
    "print(f\"f({x})={y}\")"
   ]
  },
  {
   "cell_type": "markdown",
   "metadata": {},
   "source": [
    "<p style=\"text-align:center;\">Este foi um exemplo prático, pois, caso não fosse tratada as variáveis, o código apresentaria um erro \"<span style=\"color: #6890C3;\">TypeError</span>\" ao ser executado.</p>"
   ]
  },
  {
   "attachments": {},
   "cell_type": "markdown",
   "metadata": {},
   "source": [
    "### <h3 style=\"text-align: center; color: #C82F4B; font-weight: 700;\">Campo de testes</h3>"
   ]
  }
 ],
 "metadata": {
  "kernelspec": {
   "display_name": "Python 3",
   "language": "python",
   "name": "python3"
  },
  "language_info": {
   "codemirror_mode": {
    "name": "ipython",
    "version": 3
   },
   "file_extension": ".py",
   "mimetype": "text/x-python",
   "name": "python",
   "nbconvert_exporter": "python",
   "pygments_lexer": "ipython3",
   "version": "3.11.3"
  },
  "orig_nbformat": 4
 },
 "nbformat": 4,
 "nbformat_minor": 2
}
